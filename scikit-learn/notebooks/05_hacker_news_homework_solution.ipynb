{
 "cells": [
  {
   "cell_type": "markdown",
   "metadata": {},
   "source": [
    "# Homework with Hacker News data (Solution)\n",
    "\n",
    "## About Hacker News\n",
    "\n",
    "[Hacker News](https://news.ycombinator.com/) is a popular \"social news\" website run by the startup incubator Y Combinator. It primarily includes news about technology, but also includes job postings and community-generated questions.\n",
    "\n",
    "Any user can [submit](https://news.ycombinator.com/submit) a post to Hacker News. There are two types of posts: articles and discussions. To submit an **article**, the user includes a title and a URL. To submit a **discussion**, the user includes a title and additional text.\n",
    "\n",
    "Users can upvote posts that they find interesting. Every post starts at 1 point, and each upvote adds an additional point. The most popular recent posts appear on the front page of Hacker News.\n",
    "\n",
    "## Description of the data\n",
    "\n",
    "A [dataset of Hacker News posts](https://www.kaggle.com/hacker-news/hacker-news-posts) is hosted on Kaggle Datasets. It includes about one year of data, ending in September 2016. The following fields are included in the dataset:\n",
    "\n",
    "- **title:** title of the post\n",
    "- **url:** URL of the post (if any)\n",
    "- **num_points:** number of points that the post received\n",
    "- **num_comments:** number of user comments on the post\n",
    "- **author:** name of the user that submitted the post\n",
    "- **created_at:** date and time the post was submitted\n",
    "\n",
    "## Problem statement\n",
    "\n",
    "Your goal is to predict the likelihood that a post will be \"popular\", based on the data that is available at the time the post is submitted.\n",
    "\n",
    "## Tasks\n",
    "\n",
    "1. Get the data\n",
    "2. Prepare the data\n",
    "3. Explore the training data\n",
    "4. Feature engineering\n",
    "5. Define **`make_features()`**\n",
    "6. Evaluate your model using cross-validation\n",
    "7. Tune your model using grid search\n",
    "8. Make predictions for the new data\n",
    "9. Use text as the input data instead"
   ]
  },
  {
   "cell_type": "code",
   "execution_count": 1,
   "metadata": {
    "collapsed": true
   },
   "outputs": [],
   "source": [
    "# for Python 2: use print only as a function\n",
    "from __future__ import print_function"
   ]
  },
  {
   "cell_type": "markdown",
   "metadata": {},
   "source": [
    "## Task 1: Get the data\n",
    "\n",
    "1. Go to the [Kaggle Datasets](https://www.kaggle.com/hacker-news/hacker-news-posts) page, and click the **Download** button.\n",
    "2. Unzip **`hacker-news-posts.zip`**, and then move **`HN_posts_year_to_Sep_26_2016.csv`** to a directory where you can easily access it.\n",
    "3. Read the file into a pandas DataFrame called **\"hn\"**.\n",
    "4. Either during or after the file reading process, convert the **created_at** column to datetime format.\n",
    "\n",
    "    - **Hint:** [How do I work with dates and times in pandas?](https://www.youtube.com/watch?v=yCgJGsg0Xa4&list=PL5-da3qGB5ICCsgW1MxlZ0Hq8LL5U3u9y&index=25) explains how to do this."
   ]
  },
  {
   "cell_type": "code",
   "execution_count": 2,
   "metadata": {
    "collapsed": true
   },
   "outputs": [],
   "source": [
    "import pandas as pd"
   ]
  },
  {
   "cell_type": "code",
   "execution_count": 3,
   "metadata": {
    "collapsed": false,
    "scrolled": true
   },
   "outputs": [
    {
     "data": {
      "text/plain": [
       "title                   object\n",
       "url                     object\n",
       "num_points               int64\n",
       "num_comments             int64\n",
       "author                  object\n",
       "created_at      datetime64[ns]\n",
       "dtype: object"
      ]
     },
     "execution_count": 3,
     "metadata": {},
     "output_type": "execute_result"
    }
   ],
   "source": [
    "# define 'id' as the index and convert 'created_at' to datetime format\n",
    "hn = pd.read_csv('../data/HN_posts_year_to_Sep_26_2016.csv', index_col='id', parse_dates=['created_at'])\n",
    "hn.dtypes"
   ]
  },
  {
   "cell_type": "markdown",
   "metadata": {},
   "source": [
    "## Task 2: Prepare the data\n",
    "\n",
    "1. Create a new column called **\"popular\"** that contains **1** if the post received more than 5 points, and **0** otherwise. This will be the response variable that you are trying to predict.\n",
    "2. Split the **hn** DataFrame into two separate DataFrames. The first DataFrame should be called **\"train\"**, and should contain all posts before July 1, 2016. The second DataFrame should be called **\"new\"**, and should contain the remaining posts.\n",
    "\n",
    "    - **Hint:** [How do I work with dates and times in pandas?](https://www.youtube.com/watch?v=yCgJGsg0Xa4&list=PL5-da3qGB5ICCsgW1MxlZ0Hq8LL5U3u9y&index=25) explains how to do this. Make sure that all rows from **hn** are in either **train** or **new**, but not both.\n",
    "    - **Hint:** When you are creating **train** and **new**, you should use the [`DataFrame.copy()`](http://pandas.pydata.org/pandas-docs/stable/generated/pandas.DataFrame.copy.html) method to make sure that you are creating separate objects (rather than references to the **hn** DataFrame).\n",
    "    - **Note:** You will be building a model using the posts in **train** and making predictions for the posts in **new** (our simulated future data)."
   ]
  },
  {
   "cell_type": "code",
   "execution_count": 4,
   "metadata": {
    "collapsed": true
   },
   "outputs": [],
   "source": [
    "# create the response variable\n",
    "hn['popular'] = (hn.num_points > 5).astype(int)"
   ]
  },
  {
   "cell_type": "code",
   "execution_count": 5,
   "metadata": {
    "collapsed": false
   },
   "outputs": [
    {
     "name": "stdout",
     "output_type": "stream",
     "text": [
      "2015-09-06 05:50:00\n",
      "2016-09-26 03:26:00\n"
     ]
    }
   ],
   "source": [
    "# check the earliest and latest times in the dataset\n",
    "print(hn.created_at.min())\n",
    "print(hn.created_at.max())"
   ]
  },
  {
   "cell_type": "code",
   "execution_count": 6,
   "metadata": {
    "collapsed": false,
    "scrolled": true
   },
   "outputs": [
    {
     "data": {
      "text/plain": [
       "293119"
      ]
     },
     "execution_count": 6,
     "metadata": {},
     "output_type": "execute_result"
    }
   ],
   "source": [
    "# count the number of rows\n",
    "hn.shape[0]"
   ]
  },
  {
   "cell_type": "code",
   "execution_count": 7,
   "metadata": {
    "collapsed": false
   },
   "outputs": [
    {
     "data": {
      "text/plain": [
       "Timestamp('2016-07-01 00:00:00')"
      ]
     },
     "execution_count": 7,
     "metadata": {},
     "output_type": "execute_result"
    }
   ],
   "source": [
    "# create a timestamp of July 1 at midnight\n",
    "july_1 = pd.to_datetime('7/1/2016')\n",
    "july_1"
   ]
  },
  {
   "cell_type": "code",
   "execution_count": 8,
   "metadata": {
    "collapsed": false,
    "scrolled": true
   },
   "outputs": [],
   "source": [
    "# explicitly copy 'hn' when creating 'train' and 'new'\n",
    "train = hn[hn.created_at < july_1].copy()\n",
    "new = hn[hn.created_at >= july_1].copy()"
   ]
  },
  {
   "cell_type": "code",
   "execution_count": 9,
   "metadata": {
    "collapsed": false
   },
   "outputs": [
    {
     "data": {
      "text/plain": [
       "293119"
      ]
     },
     "execution_count": 9,
     "metadata": {},
     "output_type": "execute_result"
    }
   ],
   "source": [
    "# confirm that 'train' and 'new' together contain all the rows from 'hn'\n",
    "train.shape[0] + new.shape[0]"
   ]
  },
  {
   "cell_type": "markdown",
   "metadata": {},
   "source": [
    "## Task 3: Explore the training data\n",
    "\n",
    "Explore the **train** DataFrame to gain an understanding of the dataset.\n",
    "\n",
    "**Note:** At no time should you explore the **new** DataFrame, since this is our simulated future data which you would not have access to in the \"real world\"."
   ]
  },
  {
   "cell_type": "code",
   "execution_count": 10,
   "metadata": {
    "collapsed": false
   },
   "outputs": [
    {
     "data": {
      "text/html": [
       "<div>\n",
       "<table border=\"1\" class=\"dataframe\">\n",
       "  <thead>\n",
       "    <tr style=\"text-align: right;\">\n",
       "      <th></th>\n",
       "      <th>title</th>\n",
       "      <th>url</th>\n",
       "      <th>num_points</th>\n",
       "      <th>num_comments</th>\n",
       "      <th>author</th>\n",
       "      <th>created_at</th>\n",
       "      <th>popular</th>\n",
       "    </tr>\n",
       "    <tr>\n",
       "      <th>id</th>\n",
       "      <th></th>\n",
       "      <th></th>\n",
       "      <th></th>\n",
       "      <th></th>\n",
       "      <th></th>\n",
       "      <th></th>\n",
       "      <th></th>\n",
       "    </tr>\n",
       "  </thead>\n",
       "  <tbody>\n",
       "    <tr>\n",
       "      <th>12012874</th>\n",
       "      <td>The Master JavaScript Course Has Been Released...</td>\n",
       "      <td>http://www.masterjavascript.io/lp/master-javas...</td>\n",
       "      <td>1</td>\n",
       "      <td>1</td>\n",
       "      <td>erikgrueter</td>\n",
       "      <td>2016-06-30 23:58:00</td>\n",
       "      <td>0</td>\n",
       "    </tr>\n",
       "    <tr>\n",
       "      <th>12012865</th>\n",
       "      <td>Deeply Learn the JavaScript Scope Chain</td>\n",
       "      <td>http://www.masterjavascript.io/blog/2016/05/22...</td>\n",
       "      <td>2</td>\n",
       "      <td>0</td>\n",
       "      <td>erikgrueter</td>\n",
       "      <td>2016-06-30 23:57:00</td>\n",
       "      <td>0</td>\n",
       "    </tr>\n",
       "    <tr>\n",
       "      <th>12012863</th>\n",
       "      <td>Deeply Learning JavaScript Closures</td>\n",
       "      <td>http://www.masterjavascript.io/blog/2016/04/24...</td>\n",
       "      <td>2</td>\n",
       "      <td>0</td>\n",
       "      <td>erikgrueter</td>\n",
       "      <td>2016-06-30 23:57:00</td>\n",
       "      <td>0</td>\n",
       "    </tr>\n",
       "    <tr>\n",
       "      <th>12012861</th>\n",
       "      <td>You want more than product/market fit</td>\n",
       "      <td>https://justinjackson.ca/want/</td>\n",
       "      <td>4</td>\n",
       "      <td>0</td>\n",
       "      <td>wocg</td>\n",
       "      <td>2016-06-30 23:57:00</td>\n",
       "      <td>0</td>\n",
       "    </tr>\n",
       "    <tr>\n",
       "      <th>12012859</th>\n",
       "      <td>What's the Best Way to Learn JavaScript???</td>\n",
       "      <td>http://www.masterjavascript.io/blog/2016/06/05...</td>\n",
       "      <td>1</td>\n",
       "      <td>0</td>\n",
       "      <td>erikgrueter</td>\n",
       "      <td>2016-06-30 23:56:00</td>\n",
       "      <td>0</td>\n",
       "    </tr>\n",
       "  </tbody>\n",
       "</table>\n",
       "</div>"
      ],
      "text/plain": [
       "                                                      title  \\\n",
       "id                                                            \n",
       "12012874  The Master JavaScript Course Has Been Released...   \n",
       "12012865            Deeply Learn the JavaScript Scope Chain   \n",
       "12012863                Deeply Learning JavaScript Closures   \n",
       "12012861              You want more than product/market fit   \n",
       "12012859         What's the Best Way to Learn JavaScript???   \n",
       "\n",
       "                                                        url  num_points  \\\n",
       "id                                                                        \n",
       "12012874  http://www.masterjavascript.io/lp/master-javas...           1   \n",
       "12012865  http://www.masterjavascript.io/blog/2016/05/22...           2   \n",
       "12012863  http://www.masterjavascript.io/blog/2016/04/24...           2   \n",
       "12012861                     https://justinjackson.ca/want/           4   \n",
       "12012859  http://www.masterjavascript.io/blog/2016/06/05...           1   \n",
       "\n",
       "          num_comments       author          created_at  popular  \n",
       "id                                                                \n",
       "12012874             1  erikgrueter 2016-06-30 23:58:00        0  \n",
       "12012865             0  erikgrueter 2016-06-30 23:57:00        0  \n",
       "12012863             0  erikgrueter 2016-06-30 23:57:00        0  \n",
       "12012861             0         wocg 2016-06-30 23:57:00        0  \n",
       "12012859             0  erikgrueter 2016-06-30 23:56:00        0  "
      ]
     },
     "execution_count": 10,
     "metadata": {},
     "output_type": "execute_result"
    }
   ],
   "source": [
    "train.head()"
   ]
  },
  {
   "cell_type": "code",
   "execution_count": 11,
   "metadata": {
    "collapsed": false
   },
   "outputs": [
    {
     "data": {
      "text/html": [
       "<div>\n",
       "<table border=\"1\" class=\"dataframe\">\n",
       "  <thead>\n",
       "    <tr style=\"text-align: right;\">\n",
       "      <th></th>\n",
       "      <th>title</th>\n",
       "      <th>url</th>\n",
       "      <th>num_points</th>\n",
       "      <th>num_comments</th>\n",
       "      <th>author</th>\n",
       "      <th>created_at</th>\n",
       "      <th>popular</th>\n",
       "    </tr>\n",
       "    <tr>\n",
       "      <th>id</th>\n",
       "      <th></th>\n",
       "      <th></th>\n",
       "      <th></th>\n",
       "      <th></th>\n",
       "      <th></th>\n",
       "      <th></th>\n",
       "      <th></th>\n",
       "    </tr>\n",
       "  </thead>\n",
       "  <tbody>\n",
       "    <tr>\n",
       "      <th>10176919</th>\n",
       "      <td>Ask HN: What is/are your favorite quote(s)?</td>\n",
       "      <td>NaN</td>\n",
       "      <td>15</td>\n",
       "      <td>20</td>\n",
       "      <td>kumarski</td>\n",
       "      <td>2015-09-06 06:02:00</td>\n",
       "      <td>1</td>\n",
       "    </tr>\n",
       "    <tr>\n",
       "      <th>10176917</th>\n",
       "      <td>Attention and awareness in stage magic: turnin...</td>\n",
       "      <td>http://people.cs.uchicago.edu/~luitien/nrn2473...</td>\n",
       "      <td>14</td>\n",
       "      <td>0</td>\n",
       "      <td>stakent</td>\n",
       "      <td>2015-09-06 06:01:00</td>\n",
       "      <td>1</td>\n",
       "    </tr>\n",
       "    <tr>\n",
       "      <th>10176908</th>\n",
       "      <td>Dying vets fuck you letter (2013)</td>\n",
       "      <td>http://dangerousminds.net/comments/dying_vets_...</td>\n",
       "      <td>10</td>\n",
       "      <td>2</td>\n",
       "      <td>mycodebreaks</td>\n",
       "      <td>2015-09-06 05:56:00</td>\n",
       "      <td>1</td>\n",
       "    </tr>\n",
       "    <tr>\n",
       "      <th>10176907</th>\n",
       "      <td>PHP 7 Coolest Features: Space Ships, Type Hint...</td>\n",
       "      <td>https://www.zend.com/en/resources/php-7</td>\n",
       "      <td>2</td>\n",
       "      <td>0</td>\n",
       "      <td>Garbage</td>\n",
       "      <td>2015-09-06 05:55:00</td>\n",
       "      <td>0</td>\n",
       "    </tr>\n",
       "    <tr>\n",
       "      <th>10176903</th>\n",
       "      <td>Toyota Establishes Research Centers with MIT a...</td>\n",
       "      <td>http://newsroom.toyota.co.jp/en/detail/9233109/</td>\n",
       "      <td>4</td>\n",
       "      <td>0</td>\n",
       "      <td>tim_sw</td>\n",
       "      <td>2015-09-06 05:50:00</td>\n",
       "      <td>0</td>\n",
       "    </tr>\n",
       "  </tbody>\n",
       "</table>\n",
       "</div>"
      ],
      "text/plain": [
       "                                                      title  \\\n",
       "id                                                            \n",
       "10176919        Ask HN: What is/are your favorite quote(s)?   \n",
       "10176917  Attention and awareness in stage magic: turnin...   \n",
       "10176908                  Dying vets fuck you letter (2013)   \n",
       "10176907  PHP 7 Coolest Features: Space Ships, Type Hint...   \n",
       "10176903  Toyota Establishes Research Centers with MIT a...   \n",
       "\n",
       "                                                        url  num_points  \\\n",
       "id                                                                        \n",
       "10176919                                                NaN          15   \n",
       "10176917  http://people.cs.uchicago.edu/~luitien/nrn2473...          14   \n",
       "10176908  http://dangerousminds.net/comments/dying_vets_...          10   \n",
       "10176907            https://www.zend.com/en/resources/php-7           2   \n",
       "10176903    http://newsroom.toyota.co.jp/en/detail/9233109/           4   \n",
       "\n",
       "          num_comments        author          created_at  popular  \n",
       "id                                                                 \n",
       "10176919            20      kumarski 2015-09-06 06:02:00        1  \n",
       "10176917             0       stakent 2015-09-06 06:01:00        1  \n",
       "10176908             2  mycodebreaks 2015-09-06 05:56:00        1  \n",
       "10176907             0       Garbage 2015-09-06 05:55:00        0  \n",
       "10176903             0        tim_sw 2015-09-06 05:50:00        0  "
      ]
     },
     "execution_count": 11,
     "metadata": {},
     "output_type": "execute_result"
    }
   ],
   "source": [
    "train.tail()"
   ]
  },
  {
   "cell_type": "code",
   "execution_count": 12,
   "metadata": {
    "collapsed": false
   },
   "outputs": [
    {
     "data": {
      "text/plain": [
       "title               0\n",
       "url             10560\n",
       "num_points          0\n",
       "num_comments        0\n",
       "author              0\n",
       "created_at          0\n",
       "popular             0\n",
       "dtype: int64"
      ]
     },
     "execution_count": 12,
     "metadata": {},
     "output_type": "execute_result"
    }
   ],
   "source": [
    "# check for missing values\n",
    "train.isnull().sum()"
   ]
  },
  {
   "cell_type": "code",
   "execution_count": 13,
   "metadata": {
    "collapsed": false
   },
   "outputs": [
    {
     "data": {
      "text/html": [
       "<div>\n",
       "<table border=\"1\" class=\"dataframe\">\n",
       "  <thead>\n",
       "    <tr style=\"text-align: right;\">\n",
       "      <th></th>\n",
       "      <th>title</th>\n",
       "      <th>url</th>\n",
       "      <th>num_points</th>\n",
       "      <th>num_comments</th>\n",
       "      <th>author</th>\n",
       "      <th>created_at</th>\n",
       "      <th>popular</th>\n",
       "    </tr>\n",
       "    <tr>\n",
       "      <th>id</th>\n",
       "      <th></th>\n",
       "      <th></th>\n",
       "      <th></th>\n",
       "      <th></th>\n",
       "      <th></th>\n",
       "      <th></th>\n",
       "      <th></th>\n",
       "    </tr>\n",
       "  </thead>\n",
       "  <tbody>\n",
       "    <tr>\n",
       "      <th>12012038</th>\n",
       "      <td>Let us code</td>\n",
       "      <td>NaN</td>\n",
       "      <td>1</td>\n",
       "      <td>0</td>\n",
       "      <td>Edmond</td>\n",
       "      <td>2016-06-30 21:45:00</td>\n",
       "      <td>0</td>\n",
       "    </tr>\n",
       "    <tr>\n",
       "      <th>12011714</th>\n",
       "      <td>Ask HN: Google Voice as the main phone solutio...</td>\n",
       "      <td>NaN</td>\n",
       "      <td>1</td>\n",
       "      <td>6</td>\n",
       "      <td>dhruvkar</td>\n",
       "      <td>2016-06-30 21:06:00</td>\n",
       "      <td>0</td>\n",
       "    </tr>\n",
       "    <tr>\n",
       "      <th>12011708</th>\n",
       "      <td>Ask HN: How Did You Start Over?</td>\n",
       "      <td>NaN</td>\n",
       "      <td>16</td>\n",
       "      <td>5</td>\n",
       "      <td>artur_makly</td>\n",
       "      <td>2016-06-30 21:05:00</td>\n",
       "      <td>1</td>\n",
       "    </tr>\n",
       "    <tr>\n",
       "      <th>12011278</th>\n",
       "      <td>What Is Happening with Web Components and Polymer</td>\n",
       "      <td>NaN</td>\n",
       "      <td>2</td>\n",
       "      <td>2</td>\n",
       "      <td>nemanjapopovic</td>\n",
       "      <td>2016-06-30 20:09:00</td>\n",
       "      <td>0</td>\n",
       "    </tr>\n",
       "    <tr>\n",
       "      <th>12011192</th>\n",
       "      <td>Ask HN: Taking a job I feel under qualified for?</td>\n",
       "      <td>NaN</td>\n",
       "      <td>2</td>\n",
       "      <td>4</td>\n",
       "      <td>newyearnewyou</td>\n",
       "      <td>2016-06-30 19:55:00</td>\n",
       "      <td>0</td>\n",
       "    </tr>\n",
       "  </tbody>\n",
       "</table>\n",
       "</div>"
      ],
      "text/plain": [
       "                                                      title  url  num_points  \\\n",
       "id                                                                             \n",
       "12012038                                        Let us code  NaN           1   \n",
       "12011714  Ask HN: Google Voice as the main phone solutio...  NaN           1   \n",
       "12011708                    Ask HN: How Did You Start Over?  NaN          16   \n",
       "12011278  What Is Happening with Web Components and Polymer  NaN           2   \n",
       "12011192   Ask HN: Taking a job I feel under qualified for?  NaN           2   \n",
       "\n",
       "          num_comments          author          created_at  popular  \n",
       "id                                                                   \n",
       "12012038             0          Edmond 2016-06-30 21:45:00        0  \n",
       "12011714             6        dhruvkar 2016-06-30 21:06:00        0  \n",
       "12011708             5     artur_makly 2016-06-30 21:05:00        1  \n",
       "12011278             2  nemanjapopovic 2016-06-30 20:09:00        0  \n",
       "12011192             4   newyearnewyou 2016-06-30 19:55:00        0  "
      ]
     },
     "execution_count": 13,
     "metadata": {},
     "output_type": "execute_result"
    }
   ],
   "source": [
    "# examine posts that contain missing 'url' values\n",
    "train[train.url.isnull()].head()"
   ]
  },
  {
   "cell_type": "code",
   "execution_count": 14,
   "metadata": {
    "collapsed": false
   },
   "outputs": [
    {
     "data": {
      "text/plain": [
       "count    229000.000000\n",
       "mean         14.879712\n",
       "std          58.340932\n",
       "min           1.000000\n",
       "25%           1.000000\n",
       "50%           2.000000\n",
       "75%           4.000000\n",
       "max        5771.000000\n",
       "Name: num_points, dtype: float64"
      ]
     },
     "execution_count": 14,
     "metadata": {},
     "output_type": "execute_result"
    }
   ],
   "source": [
    "# note that the mean is much greater than the median due to extreme outliers\n",
    "train.num_points.describe()"
   ]
  },
  {
   "cell_type": "code",
   "execution_count": 15,
   "metadata": {
    "collapsed": false,
    "scrolled": true
   },
   "outputs": [
    {
     "data": {
      "text/plain": [
       "<matplotlib.axes._subplots.AxesSubplot at 0x10f924a8>"
      ]
     },
     "execution_count": 15,
     "metadata": {},
     "output_type": "execute_result"
    },
    {
     "data": {
      "image/png": "[encoded data removed]",
      "text/plain": [
       "<matplotlib.figure.Figure at 0x10e84c88>"
      ]
     },
     "metadata": {},
     "output_type": "display_data"
    }
   ],
   "source": [
    "# plot the percentage of posts with a particular 'num_points'\n",
    "%matplotlib inline\n",
    "train.num_points.value_counts(normalize=True)[0:20].plot()"
   ]
  },
  {
   "cell_type": "code",
   "execution_count": 16,
   "metadata": {
    "collapsed": false
   },
   "outputs": [
    {
     "data": {
      "text/plain": [
       "0    0.794738\n",
       "1    0.205262\n",
       "Name: popular, dtype: float64"
      ]
     },
     "execution_count": 16,
     "metadata": {},
     "output_type": "execute_result"
    }
   ],
   "source": [
    "# check the class distribution\n",
    "train.popular.value_counts(normalize=True)"
   ]
  },
  {
   "cell_type": "code",
   "execution_count": 17,
   "metadata": {
    "collapsed": false,
    "scrolled": true
   },
   "outputs": [
    {
     "data": {
      "text/html": [
       "<div>\n",
       "<table border=\"1\" class=\"dataframe\">\n",
       "  <thead>\n",
       "    <tr style=\"text-align: right;\">\n",
       "      <th></th>\n",
       "      <th>title</th>\n",
       "      <th>url</th>\n",
       "      <th>num_points</th>\n",
       "      <th>num_comments</th>\n",
       "      <th>author</th>\n",
       "      <th>created_at</th>\n",
       "      <th>popular</th>\n",
       "    </tr>\n",
       "    <tr>\n",
       "      <th>id</th>\n",
       "      <th></th>\n",
       "      <th></th>\n",
       "      <th></th>\n",
       "      <th></th>\n",
       "      <th></th>\n",
       "      <th></th>\n",
       "      <th></th>\n",
       "    </tr>\n",
       "  </thead>\n",
       "  <tbody>\n",
       "    <tr>\n",
       "      <th>11116274</th>\n",
       "      <td>A Message to Our Customers</td>\n",
       "      <td>http://www.apple.com/customer-letter/</td>\n",
       "      <td>5771</td>\n",
       "      <td>967</td>\n",
       "      <td>epaga</td>\n",
       "      <td>2016-02-17 08:38:00</td>\n",
       "      <td>1</td>\n",
       "    </tr>\n",
       "    <tr>\n",
       "      <th>11966167</th>\n",
       "      <td>UK votes to leave EU</td>\n",
       "      <td>http://www.bbc.co.uk/news/uk-politics-36615028</td>\n",
       "      <td>3125</td>\n",
       "      <td>2531</td>\n",
       "      <td>dmmalam</td>\n",
       "      <td>2016-06-24 03:48:00</td>\n",
       "      <td>1</td>\n",
       "    </tr>\n",
       "    <tr>\n",
       "      <th>11390545</th>\n",
       "      <td>Ubuntu on Windows</td>\n",
       "      <td>http://blog.dustinkirkland.com/2016/03/ubuntu-...</td>\n",
       "      <td>2049</td>\n",
       "      <td>513</td>\n",
       "      <td>bpierre</td>\n",
       "      <td>2016-03-30 16:35:00</td>\n",
       "      <td>1</td>\n",
       "    </tr>\n",
       "    <tr>\n",
       "      <th>11893153</th>\n",
       "      <td>Microsoft to acquire LinkedIn for $26B</td>\n",
       "      <td>http://news.microsoft.com/2016/06/13/microsoft...</td>\n",
       "      <td>2049</td>\n",
       "      <td>831</td>\n",
       "      <td>whatok</td>\n",
       "      <td>2016-06-13 12:34:00</td>\n",
       "      <td>1</td>\n",
       "    </tr>\n",
       "    <tr>\n",
       "      <th>11080701</th>\n",
       "      <td>Physicists Detect Gravitational Waves, Proving...</td>\n",
       "      <td>http://www.nytimes.com/2016/02/12/science/ligo...</td>\n",
       "      <td>2011</td>\n",
       "      <td>483</td>\n",
       "      <td>intull</td>\n",
       "      <td>2016-02-11 15:37:00</td>\n",
       "      <td>1</td>\n",
       "    </tr>\n",
       "  </tbody>\n",
       "</table>\n",
       "</div>"
      ],
      "text/plain": [
       "                                                      title  \\\n",
       "id                                                            \n",
       "11116274                         A Message to Our Customers   \n",
       "11966167                               UK votes to leave EU   \n",
       "11390545                                  Ubuntu on Windows   \n",
       "11893153             Microsoft to acquire LinkedIn for $26B   \n",
       "11080701  Physicists Detect Gravitational Waves, Proving...   \n",
       "\n",
       "                                                        url  num_points  \\\n",
       "id                                                                        \n",
       "11116274              http://www.apple.com/customer-letter/        5771   \n",
       "11966167     http://www.bbc.co.uk/news/uk-politics-36615028        3125   \n",
       "11390545  http://blog.dustinkirkland.com/2016/03/ubuntu-...        2049   \n",
       "11893153  http://news.microsoft.com/2016/06/13/microsoft...        2049   \n",
       "11080701  http://www.nytimes.com/2016/02/12/science/ligo...        2011   \n",
       "\n",
       "          num_comments   author          created_at  popular  \n",
       "id                                                            \n",
       "11116274           967    epaga 2016-02-17 08:38:00        1  \n",
       "11966167          2531  dmmalam 2016-06-24 03:48:00        1  \n",
       "11390545           513  bpierre 2016-03-30 16:35:00        1  \n",
       "11893153           831   whatok 2016-06-13 12:34:00        1  \n",
       "11080701           483   intull 2016-02-11 15:37:00        1  "
      ]
     },
     "execution_count": 17,
     "metadata": {},
     "output_type": "execute_result"
    }
   ],
   "source": [
    "# examine the highest rated posts\n",
    "train.sort_values('num_points', ascending=False).head()"
   ]
  },
  {
   "cell_type": "markdown",
   "metadata": {},
   "source": [
    "## Task 4: Feature engineering\n",
    "\n",
    "Create new features in **train** that you think might be relevant to predicting the response, **popular**. After creating each feature, check whether it is likely to be a useful feature.\n",
    "\n",
    "For this task, don't use **`CountVectorizer`**. (You will use it in Task 9 instead.)\n",
    "\n",
    "**Note:** Think very carefully about which features you would be \"allowed\" to use in the real world. If a feature incorporates future data that would not be available **at the time of post submission**, then it can't be used in your model."
   ]
  },
  {
   "cell_type": "markdown",
   "metadata": {},
   "source": [
    "### Title\n",
    "\n",
    "We'll use the text of the **title** column in Task 9, and so for now we'll just calculate title length:"
   ]
  },
  {
   "cell_type": "code",
   "execution_count": 18,
   "metadata": {
    "collapsed": false,
    "scrolled": true
   },
   "outputs": [
    {
     "data": {
      "text/plain": [
       "<matplotlib.axes._subplots.AxesSubplot at 0x1101b7b8>"
      ]
     },
     "execution_count": 18,
     "metadata": {},
     "output_type": "execute_result"
    },
    {
     "data": {
      "image/png": "[encoded data removed]",
      "text/plain": [
       "<matplotlib.figure.Figure at 0x11095b38>"
      ]
     },
     "metadata": {},
     "output_type": "display_data"
    }
   ],
   "source": [
    "train['title_len'] = train.title.apply(len)\n",
    "train.boxplot('title_len', by='popular')"
   ]
  },
  {
   "cell_type": "markdown",
   "metadata": {},
   "source": [
    "This probably won't be a useful feature. However, it looks like posts with very short or very long titles have not been popular in the past. You could try creating a feature to denote posts with extreme title lengths, though that pattern might not generalize to future data."
   ]
  },
  {
   "cell_type": "markdown",
   "metadata": {},
   "source": [
    "### URL\n",
    "\n",
    "Rather than focusing on the contents of the **url** column, we'll first examine the presence or absence of a URL, since that distinguishes articles from discussions:"
   ]
  },
  {
   "cell_type": "code",
   "execution_count": 19,
   "metadata": {
    "collapsed": false
   },
   "outputs": [
    {
     "data": {
      "text/plain": [
       "discussion\n",
       "0    0.203699\n",
       "1    0.237595\n",
       "Name: popular, dtype: float64"
      ]
     },
     "execution_count": 19,
     "metadata": {},
     "output_type": "execute_result"
    }
   ],
   "source": [
    "train['discussion'] = train.url.isnull().astype(int)\n",
    "train.groupby('discussion').popular.mean()"
   ]
  },
  {
   "cell_type": "markdown",
   "metadata": {},
   "source": [
    "We see that 24% of discussion posts are popular, whereas 20% of article posts are popular.\n",
    "\n",
    "However, there are actually two types of discussion posts: ones that contain \"HN\" (such as \"Ask HN\" or \"Tell HN\") and ones that don't. We'll decompose the **discussion** feature into two more specific features:"
   ]
  },
  {
   "cell_type": "code",
   "execution_count": 20,
   "metadata": {
    "collapsed": false
   },
   "outputs": [
    {
     "data": {
      "text/plain": [
       "discussion_hn\n",
       "0    0.202916\n",
       "1    0.274833\n",
       "Name: popular, dtype: float64"
      ]
     },
     "execution_count": 20,
     "metadata": {},
     "output_type": "execute_result"
    }
   ],
   "source": [
    "train['discussion_hn'] = ((train.url.isnull()) & (train.title.str.contains(' HN: '))).astype(int)\n",
    "train.groupby('discussion_hn').popular.mean()"
   ]
  },
  {
   "cell_type": "code",
   "execution_count": 21,
   "metadata": {
    "collapsed": false
   },
   "outputs": [
    {
     "data": {
      "text/plain": [
       "discussion_other\n",
       "0    0.206051\n",
       "1    0.147573\n",
       "Name: popular, dtype: float64"
      ]
     },
     "execution_count": 21,
     "metadata": {},
     "output_type": "execute_result"
    }
   ],
   "source": [
    "# ~ means 'not', thus it reverses True and False\n",
    "train['discussion_other'] = ((train.url.isnull()) & (~train.title.str.contains(' HN: '))).astype(int)\n",
    "train.groupby('discussion_other').popular.mean()"
   ]
  },
  {
   "cell_type": "markdown",
   "metadata": {},
   "source": [
    "We see that the \"HN\" discussions are more popular than average, and the \"other\" discussions are less popular than average. Thus, **discussion_hn** and **discussion_other** are more useful features than **discussion**, since they capture more specific and more extreme effects on the response. (These features could perhaps be decomposed even further.)\n",
    "\n",
    "Now, we'll move on to the domain extensions:"
   ]
  },
  {
   "cell_type": "code",
   "execution_count": 22,
   "metadata": {
    "collapsed": false
   },
   "outputs": [
    {
     "data": {
      "text/plain": [
       "dot_org\n",
       "0    0.202345\n",
       "1    0.234811\n",
       "Name: popular, dtype: float64"
      ]
     },
     "execution_count": 22,
     "metadata": {},
     "output_type": "execute_result"
    }
   ],
   "source": [
    "train['dot_org'] = train.url.str.contains('.org', case=False, na=False, regex=False).astype(int)\n",
    "train.groupby('dot_org').popular.mean()"
   ]
  },
  {
   "cell_type": "code",
   "execution_count": 23,
   "metadata": {
    "collapsed": false
   },
   "outputs": [
    {
     "data": {
      "text/plain": [
       "dot_edu\n",
       "0    0.204010\n",
       "1    0.313913\n",
       "Name: popular, dtype: float64"
      ]
     },
     "execution_count": 23,
     "metadata": {},
     "output_type": "execute_result"
    }
   ],
   "source": [
    "train['dot_edu'] = train.url.str.contains('.edu', case=False, na=False, regex=False).astype(int)\n",
    "train.groupby('dot_edu').popular.mean()"
   ]
  },
  {
   "cell_type": "code",
   "execution_count": 24,
   "metadata": {
    "collapsed": false
   },
   "outputs": [
    {
     "data": {
      "text/plain": [
       "dot_gov\n",
       "0    0.205069\n",
       "1    0.238636\n",
       "Name: popular, dtype: float64"
      ]
     },
     "execution_count": 24,
     "metadata": {},
     "output_type": "execute_result"
    }
   ],
   "source": [
    "train['dot_gov'] = train.url.str.contains('.gov', case=False, na=False, regex=False).astype(int)\n",
    "train.groupby('dot_gov').popular.mean()"
   ]
  },
  {
   "cell_type": "markdown",
   "metadata": {},
   "source": [
    "These all seem to be useful features.\n",
    "\n",
    "We could create more features from the domain name, though that would take more work and could be handled more easily by **`CountVectorizer`**."
   ]
  },
  {
   "cell_type": "markdown",
   "metadata": {},
   "source": [
    "### Submission date and time\n",
    "\n",
    "We'll check whether the day of week a post is submitted affects its popularity:"
   ]
  },
  {
   "cell_type": "code",
   "execution_count": 25,
   "metadata": {
    "collapsed": false
   },
   "outputs": [
    {
     "data": {
      "text/plain": [
       "day\n",
       "0    0.205487\n",
       "1    0.189598\n",
       "2    0.189134\n",
       "3    0.192912\n",
       "4    0.200725\n",
       "5    0.247203\n",
       "6    0.261793\n",
       "Name: popular, dtype: float64"
      ]
     },
     "execution_count": 25,
     "metadata": {},
     "output_type": "execute_result"
    }
   ],
   "source": [
    "train['day'] = train.created_at.dt.weekday\n",
    "train.groupby('day').popular.mean()"
   ]
  },
  {
   "cell_type": "markdown",
   "metadata": {},
   "source": [
    "There is a meaningful difference in popularity between weekday posts (0 through 4) and weekend posts (5 and 6). We'll create a simpler feature to capture that trend:"
   ]
  },
  {
   "cell_type": "code",
   "execution_count": 26,
   "metadata": {
    "collapsed": false
   },
   "outputs": [
    {
     "data": {
      "text/plain": [
       "weekend\n",
       "0    0.195171\n",
       "1    0.254465\n",
       "Name: popular, dtype: float64"
      ]
     },
     "execution_count": 26,
     "metadata": {},
     "output_type": "execute_result"
    }
   ],
   "source": [
    "train['weekend'] = (train.day >= 5).astype(int)\n",
    "train.groupby('weekend').popular.mean()"
   ]
  },
  {
   "cell_type": "markdown",
   "metadata": {},
   "source": [
    "We'll also check whether the time of day a post is submitted affects its popularity:"
   ]
  },
  {
   "cell_type": "code",
   "execution_count": 27,
   "metadata": {
    "collapsed": false
   },
   "outputs": [
    {
     "data": {
      "text/plain": [
       "<matplotlib.axes._subplots.AxesSubplot at 0x11274208>"
      ]
     },
     "execution_count": 27,
     "metadata": {},
     "output_type": "execute_result"
    },
    {
     "data": {
      "image/png": "[encoded data removed]",
      "text/plain": [
       "<matplotlib.figure.Figure at 0x10fca0b8>"
      ]
     },
     "metadata": {},
     "output_type": "display_data"
    }
   ],
   "source": [
    "train['hour'] = train.created_at.dt.hour\n",
    "train.groupby('hour').popular.mean().plot()"
   ]
  },
  {
   "cell_type": "markdown",
   "metadata": {},
   "source": [
    "We see that posts submitted late at night are more popular than ones submitted during the day. We'll create a feature to capture that trend:"
   ]
  },
  {
   "cell_type": "code",
   "execution_count": 28,
   "metadata": {
    "collapsed": false
   },
   "outputs": [
    {
     "data": {
      "text/plain": [
       "late_night\n",
       "0    0.199765\n",
       "1    0.228538\n",
       "Name: popular, dtype: float64"
      ]
     },
     "execution_count": 28,
     "metadata": {},
     "output_type": "execute_result"
    }
   ],
   "source": [
    "train['late_night'] = ((train.hour <= 5) | (train.hour >= 23)).astype(int)\n",
    "train.groupby('late_night').popular.mean()"
   ]
  },
  {
   "cell_type": "markdown",
   "metadata": {},
   "source": [
    "### Author\n",
    "\n",
    "We'll examine whether some users are better at submitting popular posts than others:"
   ]
  },
  {
   "cell_type": "code",
   "execution_count": 29,
   "metadata": {
    "collapsed": false
   },
   "outputs": [
    {
     "data": {
      "text/plain": [
       "44057"
      ]
     },
     "execution_count": 29,
     "metadata": {},
     "output_type": "execute_result"
    }
   ],
   "source": [
    "# create a DataFrame of author data\n",
    "authors = train.groupby('author').popular.agg(['count', 'mean'])\n",
    "authors.shape[0]"
   ]
  },
  {
   "cell_type": "code",
   "execution_count": 30,
   "metadata": {
    "collapsed": false
   },
   "outputs": [
    {
     "data": {
      "text/html": [
       "<div>\n",
       "<table border=\"1\" class=\"dataframe\">\n",
       "  <thead>\n",
       "    <tr style=\"text-align: right;\">\n",
       "      <th></th>\n",
       "      <th>count</th>\n",
       "      <th>mean</th>\n",
       "    </tr>\n",
       "    <tr>\n",
       "      <th>author</th>\n",
       "      <th></th>\n",
       "      <th></th>\n",
       "    </tr>\n",
       "  </thead>\n",
       "  <tbody>\n",
       "    <tr>\n",
       "      <th>ingve</th>\n",
       "      <td>2119</td>\n",
       "      <td>0.312412</td>\n",
       "    </tr>\n",
       "    <tr>\n",
       "      <th>jonbaer</th>\n",
       "      <td>2117</td>\n",
       "      <td>0.137459</td>\n",
       "    </tr>\n",
       "    <tr>\n",
       "      <th>prostoalex</th>\n",
       "      <td>1224</td>\n",
       "      <td>0.285948</td>\n",
       "    </tr>\n",
       "    <tr>\n",
       "      <th>dnetesn</th>\n",
       "      <td>1212</td>\n",
       "      <td>0.229373</td>\n",
       "    </tr>\n",
       "    <tr>\n",
       "      <th>jseliger</th>\n",
       "      <td>935</td>\n",
       "      <td>0.183957</td>\n",
       "    </tr>\n",
       "  </tbody>\n",
       "</table>\n",
       "</div>"
      ],
      "text/plain": [
       "            count      mean\n",
       "author                     \n",
       "ingve        2119  0.312412\n",
       "jonbaer      2117  0.137459\n",
       "prostoalex   1224  0.285948\n",
       "dnetesn      1212  0.229373\n",
       "jseliger      935  0.183957"
      ]
     },
     "execution_count": 30,
     "metadata": {},
     "output_type": "execute_result"
    }
   ],
   "source": [
    "authors.sort_values('count', ascending=False).head()"
   ]
  },
  {
   "cell_type": "markdown",
   "metadata": {},
   "source": [
    "**count** represents the number of posts submitted by that user, and **mean** represents the percentage of those posts that were popular.\n",
    "\n",
    "We're mainly interested in finding users with a track record of submitting popular posts. So, we'll examine the relationship between **count** and **mean** for users who have submitted at least 10 posts:"
   ]
  },
  {
   "cell_type": "code",
   "execution_count": 31,
   "metadata": {
    "collapsed": false
   },
   "outputs": [
    {
     "data": {
      "text/plain": [
       "<matplotlib.axes._subplots.AxesSubplot at 0x13441780>"
      ]
     },
     "execution_count": 31,
     "metadata": {},
     "output_type": "execute_result"
    },
    {
     "data": {
      "image/png": "[encoded data removed]",
      "text/plain": [
       "<matplotlib.figure.Figure at 0x12cca358>"
      ]
     },
     "metadata": {},
     "output_type": "display_data"
    }
   ],
   "source": [
    "authors[authors['count'] >= 10].plot(kind='scatter', x='count', y='mean', alpha=0.3)"
   ]
  },
  {
   "cell_type": "markdown",
   "metadata": {},
   "source": [
    "We'll create two features from this data: **smart_authors** are users that submitted at least 10 posts and at least 50% were popular, and **frequent_authors** are users that submitted at least 100 posts and at least 30% were popular:"
   ]
  },
  {
   "cell_type": "code",
   "execution_count": 32,
   "metadata": {
    "collapsed": false
   },
   "outputs": [
    {
     "data": {
      "text/plain": [
       "153"
      ]
     },
     "execution_count": 32,
     "metadata": {},
     "output_type": "execute_result"
    }
   ],
   "source": [
    "smart_authors = authors[(authors['count'] >= 10) & (authors['mean'] >= 0.5)]\n",
    "smart_authors.shape[0]"
   ]
  },
  {
   "cell_type": "code",
   "execution_count": 33,
   "metadata": {
    "collapsed": false
   },
   "outputs": [
    {
     "data": {
      "text/html": [
       "<div>\n",
       "<table border=\"1\" class=\"dataframe\">\n",
       "  <thead>\n",
       "    <tr style=\"text-align: right;\">\n",
       "      <th></th>\n",
       "      <th>count</th>\n",
       "      <th>mean</th>\n",
       "    </tr>\n",
       "    <tr>\n",
       "      <th>author</th>\n",
       "      <th></th>\n",
       "      <th></th>\n",
       "    </tr>\n",
       "  </thead>\n",
       "  <tbody>\n",
       "    <tr>\n",
       "      <th>0xAX</th>\n",
       "      <td>17</td>\n",
       "      <td>0.588235</td>\n",
       "    </tr>\n",
       "    <tr>\n",
       "      <th>13375p33dp0573r</th>\n",
       "      <td>11</td>\n",
       "      <td>0.818182</td>\n",
       "    </tr>\n",
       "    <tr>\n",
       "      <th>BobbyVsTheDevil</th>\n",
       "      <td>14</td>\n",
       "      <td>1.000000</td>\n",
       "    </tr>\n",
       "    <tr>\n",
       "      <th>EddieRingle</th>\n",
       "      <td>11</td>\n",
       "      <td>0.636364</td>\n",
       "    </tr>\n",
       "    <tr>\n",
       "      <th>GolDDranks</th>\n",
       "      <td>12</td>\n",
       "      <td>0.500000</td>\n",
       "    </tr>\n",
       "  </tbody>\n",
       "</table>\n",
       "</div>"
      ],
      "text/plain": [
       "                 count      mean\n",
       "author                          \n",
       "0xAX                17  0.588235\n",
       "13375p33dp0573r     11  0.818182\n",
       "BobbyVsTheDevil     14  1.000000\n",
       "EddieRingle         11  0.636364\n",
       "GolDDranks          12  0.500000"
      ]
     },
     "execution_count": 33,
     "metadata": {},
     "output_type": "execute_result"
    }
   ],
   "source": [
    "smart_authors.head()"
   ]
  },
  {
   "cell_type": "code",
   "execution_count": 34,
   "metadata": {
    "collapsed": false
   },
   "outputs": [
    {
     "data": {
      "text/plain": [
       "smart_author\n",
       "0    0.197386\n",
       "1    0.644913\n",
       "Name: popular, dtype: float64"
      ]
     },
     "execution_count": 34,
     "metadata": {},
     "output_type": "execute_result"
    }
   ],
   "source": [
    "# check whether the author of each post in 'train' is in 'smart_authors'\n",
    "train['smart_author'] = train.author.isin(smart_authors.index).astype(int)\n",
    "train.groupby('smart_author').popular.mean()"
   ]
  },
  {
   "cell_type": "code",
   "execution_count": 35,
   "metadata": {
    "collapsed": false
   },
   "outputs": [
    {
     "data": {
      "text/plain": [
       "48"
      ]
     },
     "execution_count": 35,
     "metadata": {},
     "output_type": "execute_result"
    }
   ],
   "source": [
    "frequent_authors = authors[(authors['count'] >= 100) & (authors['mean'] >= 0.3)]\n",
    "frequent_authors.shape[0]"
   ]
  },
  {
   "cell_type": "code",
   "execution_count": 36,
   "metadata": {
    "collapsed": false
   },
   "outputs": [
    {
     "data": {
      "text/html": [
       "<div>\n",
       "<table border=\"1\" class=\"dataframe\">\n",
       "  <thead>\n",
       "    <tr style=\"text-align: right;\">\n",
       "      <th></th>\n",
       "      <th>count</th>\n",
       "      <th>mean</th>\n",
       "    </tr>\n",
       "    <tr>\n",
       "      <th>author</th>\n",
       "      <th></th>\n",
       "      <th></th>\n",
       "    </tr>\n",
       "  </thead>\n",
       "  <tbody>\n",
       "    <tr>\n",
       "      <th>ColinWright</th>\n",
       "      <td>205</td>\n",
       "      <td>0.326829</td>\n",
       "    </tr>\n",
       "    <tr>\n",
       "      <th>DrScump</th>\n",
       "      <td>162</td>\n",
       "      <td>0.327160</td>\n",
       "    </tr>\n",
       "    <tr>\n",
       "      <th>Hooke</th>\n",
       "      <td>135</td>\n",
       "      <td>0.748148</td>\n",
       "    </tr>\n",
       "    <tr>\n",
       "      <th>Jerry2</th>\n",
       "      <td>387</td>\n",
       "      <td>0.310078</td>\n",
       "    </tr>\n",
       "    <tr>\n",
       "      <th>Thevet</th>\n",
       "      <td>166</td>\n",
       "      <td>0.771084</td>\n",
       "    </tr>\n",
       "  </tbody>\n",
       "</table>\n",
       "</div>"
      ],
      "text/plain": [
       "             count      mean\n",
       "author                      \n",
       "ColinWright    205  0.326829\n",
       "DrScump        162  0.327160\n",
       "Hooke          135  0.748148\n",
       "Jerry2         387  0.310078\n",
       "Thevet         166  0.771084"
      ]
     },
     "execution_count": 36,
     "metadata": {},
     "output_type": "execute_result"
    }
   ],
   "source": [
    "frequent_authors.head()"
   ]
  },
  {
   "cell_type": "code",
   "execution_count": 37,
   "metadata": {
    "collapsed": false
   },
   "outputs": [
    {
     "data": {
      "text/plain": [
       "frequent_author\n",
       "0    0.195260\n",
       "1    0.399625\n",
       "Name: popular, dtype: float64"
      ]
     },
     "execution_count": 37,
     "metadata": {},
     "output_type": "execute_result"
    }
   ],
   "source": [
    "# check whether the author of each post in 'train' is in 'frequent_authors'\n",
    "train['frequent_author'] = train.author.isin(frequent_authors.index).astype(int)\n",
    "train.groupby('frequent_author').popular.mean()"
   ]
  },
  {
   "cell_type": "markdown",
   "metadata": {},
   "source": [
    "Finally, we'll create an **author_popularity** feature that calculates the percentage of each user's posts that were popular, regardless of how many posts they submitted:"
   ]
  },
  {
   "cell_type": "code",
   "execution_count": 38,
   "metadata": {
    "collapsed": false
   },
   "outputs": [
    {
     "data": {
      "text/plain": [
       "author\n",
       "0-o        0.000000\n",
       "001sky     0.171429\n",
       "00_NOP     0.000000\n",
       "00__00     0.000000\n",
       "00taffe    0.000000\n",
       "Name: mean, dtype: float64"
      ]
     },
     "execution_count": 38,
     "metadata": {},
     "output_type": "execute_result"
    }
   ],
   "source": [
    "# 'mean' represents the percentage of popular posts for each user\n",
    "authors['mean'].head()"
   ]
  },
  {
   "cell_type": "code",
   "execution_count": 39,
   "metadata": {
    "collapsed": true
   },
   "outputs": [],
   "source": [
    "# map the author of each post to their popularity\n",
    "train['author_popularity'] = train.author.map(authors['mean'])"
   ]
  },
  {
   "cell_type": "markdown",
   "metadata": {},
   "source": [
    "Note that if **author_popularity** is included in the model when using cross-validation (Task 6), the cross-validated performance estimate will be highly skewed. Why? Because **author_popularity** was calculated on the entire training set (which will be passed to cross-validation), and thus it incorporates information about the future. In other words, cross-validation is trying to simulate an unknown future during each iteration, yet the model will have knowledge about that future.\n",
    "\n",
    "For example, let's pretend that there is a user \"kevin\" who has submitted 2 posts, and neither of those posts were popular. Thus, his **author_popularity** is 0. During 5-fold cross-validation, let's say that one of his posts appears in the testing portion (the one-fifth that is set aside) during the first iteration. Given that the **author_popularity** for that post is 0, and given that **author_popularity** was calculated on the entire training set, the model will be able to predict with 100% certainty that that post was not popular.\n",
    "\n",
    "To be clear, **author_popularity** is a perfectly legitimate feature that we are allowed to use when making predictions for new data. However, the only way to properly cross-validate this feature (to estimate whether it will generalize to new data) is to create this feature during each iteration of cross-validation.\n",
    "\n",
    "Now, what about **smart_author** and **frequent_author**? Won't those features similarly skew the cross-validation results, since they were calculated on the entire training set? In my estimation, the answer is no. Why? Because even if those features were created during cross-validation, the contents of those features (for nearly all users) will be identical to the features that were created using the entire training set."
   ]
  },
  {
   "cell_type": "markdown",
   "metadata": {},
   "source": [
    "### Number of comments\n",
    "\n",
    "We are not allowed to use **num_comments** as a feature. Why? Because we are predicting the likelihood a post is popular based only on the data that is available at the time of post submission, and (obviously) comments won't be posted until after the post has been submitted.\n",
    "\n",
    "As you can imagine, the number of comments is highly predictive of the popularity of a post:"
   ]
  },
  {
   "cell_type": "code",
   "execution_count": 40,
   "metadata": {
    "collapsed": false,
    "scrolled": false
   },
   "outputs": [
    {
     "data": {
      "text/html": [
       "<div>\n",
       "<table border=\"1\" class=\"dataframe\">\n",
       "  <thead>\n",
       "    <tr style=\"text-align: right;\">\n",
       "      <th></th>\n",
       "      <th>count</th>\n",
       "      <th>mean</th>\n",
       "      <th>std</th>\n",
       "      <th>min</th>\n",
       "      <th>25%</th>\n",
       "      <th>50%</th>\n",
       "      <th>75%</th>\n",
       "      <th>max</th>\n",
       "    </tr>\n",
       "    <tr>\n",
       "      <th>popular</th>\n",
       "      <th></th>\n",
       "      <th></th>\n",
       "      <th></th>\n",
       "      <th></th>\n",
       "      <th></th>\n",
       "      <th></th>\n",
       "      <th></th>\n",
       "      <th></th>\n",
       "    </tr>\n",
       "  </thead>\n",
       "  <tbody>\n",
       "    <tr>\n",
       "      <th>0</th>\n",
       "      <td>181995.0</td>\n",
       "      <td>0.261205</td>\n",
       "      <td>0.911374</td>\n",
       "      <td>0.0</td>\n",
       "      <td>0.0</td>\n",
       "      <td>0.0</td>\n",
       "      <td>0.0</td>\n",
       "      <td>54.0</td>\n",
       "    </tr>\n",
       "    <tr>\n",
       "      <th>1</th>\n",
       "      <td>47005.0</td>\n",
       "      <td>29.978109</td>\n",
       "      <td>60.127437</td>\n",
       "      <td>0.0</td>\n",
       "      <td>1.0</td>\n",
       "      <td>6.0</td>\n",
       "      <td>34.0</td>\n",
       "      <td>2531.0</td>\n",
       "    </tr>\n",
       "  </tbody>\n",
       "</table>\n",
       "</div>"
      ],
      "text/plain": [
       "            count       mean        std  min  25%  50%   75%     max\n",
       "popular                                                             \n",
       "0        181995.0   0.261205   0.911374  0.0  0.0  0.0   0.0    54.0\n",
       "1         47005.0  29.978109  60.127437  0.0  1.0  6.0  34.0  2531.0"
      ]
     },
     "execution_count": 40,
     "metadata": {},
     "output_type": "execute_result"
    }
   ],
   "source": [
    "train.groupby('popular').num_comments.describe().unstack()"
   ]
  },
  {
   "cell_type": "markdown",
   "metadata": {},
   "source": [
    "### Number of points\n",
    "\n",
    "We are not allowed to use **num_points** as a feature. Why? Because that is how we calculated whether or not a post is popular, and thus it is perfectly predictive of the popularity of a post:"
   ]
  },
  {
   "cell_type": "code",
   "execution_count": 41,
   "metadata": {
    "collapsed": false
   },
   "outputs": [
    {
     "data": {
      "text/html": [
       "<div>\n",
       "<table border=\"1\" class=\"dataframe\">\n",
       "  <thead>\n",
       "    <tr style=\"text-align: right;\">\n",
       "      <th></th>\n",
       "      <th>min</th>\n",
       "      <th>max</th>\n",
       "    </tr>\n",
       "    <tr>\n",
       "      <th>popular</th>\n",
       "      <th></th>\n",
       "      <th></th>\n",
       "    </tr>\n",
       "  </thead>\n",
       "  <tbody>\n",
       "    <tr>\n",
       "      <th>0</th>\n",
       "      <td>1</td>\n",
       "      <td>5</td>\n",
       "    </tr>\n",
       "    <tr>\n",
       "      <th>1</th>\n",
       "      <td>6</td>\n",
       "      <td>5771</td>\n",
       "    </tr>\n",
       "  </tbody>\n",
       "</table>\n",
       "</div>"
      ],
      "text/plain": [
       "         min   max\n",
       "popular           \n",
       "0          1     5\n",
       "1          6  5771"
      ]
     },
     "execution_count": 41,
     "metadata": {},
     "output_type": "execute_result"
    }
   ],
   "source": [
    "train.groupby('popular').num_points.agg(['min', 'max'])"
   ]
  },
  {
   "cell_type": "markdown",
   "metadata": {},
   "source": [
    "## Task 5: Define **`make_features()`**\n",
    "\n",
    "1. Define a function, **`make_features()`**, that accepts a DataFrame and returns a DataFrame with your engineered features added. You should only include features that you think might be useful for predicting popularity.\n",
    "2. Re-split the **hn** DataFrame into **train** and **new** (using the code from Task 2) to return them to their original contents.\n",
    "3. Run **`make_features()`** on **train** and **new**, and check that your features were successfully created."
   ]
  },
  {
   "cell_type": "code",
   "execution_count": 42,
   "metadata": {
    "collapsed": true
   },
   "outputs": [],
   "source": [
    "def make_features(df):\n",
    "    \n",
    "    df['discussion_hn'] = ((df.url.isnull()) & (df.title.str.contains(' HN: '))).astype(int)\n",
    "    df['discussion_other'] = ((df.url.isnull()) & (~df.title.str.contains(' HN: '))).astype(int)\n",
    "    \n",
    "    df['dot_org'] = df.url.str.contains('.org', case=False, na=False, regex=False).astype(int)\n",
    "    df['dot_edu'] = df.url.str.contains('.edu', case=False, na=False, regex=False).astype(int)\n",
    "    df['dot_gov'] = df.url.str.contains('.gov', case=False, na=False, regex=False).astype(int)\n",
    "    \n",
    "    df['weekend'] = (df.created_at.dt.weekday >= 5).astype(int)\n",
    "    df['late_night'] = ((df.created_at.dt.hour <= 5) | (df.created_at.dt.hour >= 23)).astype(int)\n",
    "    \n",
    "    df['smart_author'] = df.author.isin(smart_authors.index).astype(int)\n",
    "    df['frequent_author'] = df.author.isin(frequent_authors.index).astype(int)\n",
    "    df['author_popularity'] = df.author.map(authors['mean'])\n",
    "    \n",
    "    # author_popularity will be missing in 'new' for any users that never appeared in 'train', so fill with 0.2\n",
    "    df.author_popularity.fillna(0.2, inplace=True)\n",
    "    \n",
    "    return df"
   ]
  },
  {
   "cell_type": "code",
   "execution_count": 43,
   "metadata": {
    "collapsed": true
   },
   "outputs": [],
   "source": [
    "# return 'train' and 'new' to their original contents\n",
    "train = hn[hn.created_at < july_1].copy()\n",
    "new = hn[hn.created_at >= july_1].copy()"
   ]
  },
  {
   "cell_type": "code",
   "execution_count": 44,
   "metadata": {
    "collapsed": true
   },
   "outputs": [],
   "source": [
    "train = make_features(train)\n",
    "new = make_features(new)"
   ]
  },
  {
   "cell_type": "markdown",
   "metadata": {},
   "source": [
    "## Task 6: Evaluate your model using cross-validation\n",
    "\n",
    "1. Define **X** and **y** using your chosen feature columns from **train**.\n",
    "2. Choose a classification model, and then use **`cross_val_score`** to evaluate your model. We're going to use AUC as the evaluation metric, so use the parameter **`scoring='roc_auc'`**.\n",
    "3. **Optional:** Try adding features to your model that would not be \"allowed\" in the real world (because they incorporate information about the future), and see how that affects your AUC. (Be sure to remove these features from your model before moving on to the next task!)\n",
    "\n",
    "    - **Note:** An AUC of 1.0 represents a perfect model, and an AUC of 0.5 represents random guessing. You can think of 0.5 as the AUC of the \"null model\". (My [blog post and video](http://www.dataschool.io/roc-curves-and-auc-explained/) explain AUC in more depth.)"
   ]
  },
  {
   "cell_type": "code",
   "execution_count": 45,
   "metadata": {
    "collapsed": false
   },
   "outputs": [
    {
     "data": {
      "text/plain": [
       "['discussion_hn',\n",
       " 'discussion_other',\n",
       " 'dot_org',\n",
       " 'dot_edu',\n",
       " 'dot_gov',\n",
       " 'weekend',\n",
       " 'late_night',\n",
       " 'smart_author',\n",
       " 'frequent_author']"
      ]
     },
     "execution_count": 45,
     "metadata": {},
     "output_type": "execute_result"
    }
   ],
   "source": [
    "# include all engineered features (except 'author_popularity')\n",
    "feature_cols = list(train.columns[7:-1])\n",
    "feature_cols"
   ]
  },
  {
   "cell_type": "code",
   "execution_count": 46,
   "metadata": {
    "collapsed": false
   },
   "outputs": [],
   "source": [
    "X = train[feature_cols]\n",
    "y = train.popular"
   ]
  },
  {
   "cell_type": "code",
   "execution_count": 47,
   "metadata": {
    "collapsed": true
   },
   "outputs": [],
   "source": [
    "from sklearn.cross_validation import cross_val_score"
   ]
  },
  {
   "cell_type": "code",
   "execution_count": 48,
   "metadata": {
    "collapsed": false
   },
   "outputs": [
    {
     "data": {
      "text/plain": [
       "0.57715947267768652"
      ]
     },
     "execution_count": 48,
     "metadata": {},
     "output_type": "execute_result"
    }
   ],
   "source": [
    "from sklearn.linear_model import LogisticRegression\n",
    "logreg = LogisticRegression()\n",
    "cross_val_score(logreg, X, y, cv=5, scoring='roc_auc').mean()"
   ]
  },
  {
   "cell_type": "markdown",
   "metadata": {},
   "source": [
    "As mentioned in Task 4, including **author_popularity** in the model will skew the cross-validation results (though it is a legitimate feature). In addition, we're not allowed to use **num_comments** or **num_points** as features. Let's try adding these features one at a time, and see how that affects the AUC:"
   ]
  },
  {
   "cell_type": "code",
   "execution_count": 49,
   "metadata": {
    "collapsed": false
   },
   "outputs": [
    {
     "name": "stdout",
     "output_type": "stream",
     "text": [
      "\n",
      "Feature: author_popularity\n",
      "AUC:     0.82175777286\n",
      "\n",
      "Feature: num_comments\n",
      "AUC:     0.871220291452\n",
      "\n",
      "Feature: num_points\n",
      "AUC:     1.0\n"
     ]
    }
   ],
   "source": [
    "unfair_features = ['author_popularity', 'num_comments', 'num_points']\n",
    "for feature in unfair_features:\n",
    "    X_unfair = train[feature_cols + [feature]]\n",
    "    auc = cross_val_score(logreg, X_unfair, y, cv=5, scoring='roc_auc').mean()\n",
    "    print('\\nFeature: ' + feature)\n",
    "    print('AUC:     ' + str(auc))"
   ]
  },
  {
   "cell_type": "markdown",
   "metadata": {},
   "source": [
    "## Task 7: Tune your model using grid search\n",
    "\n",
    "Use **`GridSearchCV`** to find the optimal tuning parameters for your model."
   ]
  },
  {
   "cell_type": "code",
   "execution_count": 50,
   "metadata": {
    "collapsed": true
   },
   "outputs": [],
   "source": [
    "from sklearn.grid_search import GridSearchCV"
   ]
  },
  {
   "cell_type": "code",
   "execution_count": 51,
   "metadata": {
    "collapsed": true
   },
   "outputs": [],
   "source": [
    "# define a parameter grid of the \"important\" tuning parameters\n",
    "param_grid = {}\n",
    "param_grid['penalty'] = ['l1', 'l2']\n",
    "param_grid['C'] = [0.1, 1.0, 10]"
   ]
  },
  {
   "cell_type": "code",
   "execution_count": 52,
   "metadata": {
    "collapsed": false
   },
   "outputs": [
    {
     "data": {
      "text/plain": [
       "[mean: 0.57707, std: 0.01178, params: {'penalty': 'l1', 'C': 0.1},\n",
       " mean: 0.57714, std: 0.01185, params: {'penalty': 'l2', 'C': 0.1},\n",
       " mean: 0.57715, std: 0.01185, params: {'penalty': 'l1', 'C': 1.0},\n",
       " mean: 0.57716, std: 0.01187, params: {'penalty': 'l2', 'C': 1.0},\n",
       " mean: 0.57716, std: 0.01187, params: {'penalty': 'l1', 'C': 10},\n",
       " mean: 0.57716, std: 0.01187, params: {'penalty': 'l2', 'C': 10}]"
      ]
     },
     "execution_count": 52,
     "metadata": {},
     "output_type": "execute_result"
    }
   ],
   "source": [
    "# run the grid search and examine the scores\n",
    "grid = GridSearchCV(logreg, param_grid, cv=5, scoring='roc_auc')\n",
    "grid.fit(X, y)\n",
    "grid.grid_scores_"
   ]
  },
  {
   "cell_type": "code",
   "execution_count": 53,
   "metadata": {
    "collapsed": false
   },
   "outputs": [
    {
     "name": "stdout",
     "output_type": "stream",
     "text": [
      "0.577159472678\n",
      "{'penalty': 'l2', 'C': 1.0}\n"
     ]
    }
   ],
   "source": [
    "# examine the score and parameters of the best model\n",
    "print(grid.best_score_)\n",
    "print(grid.best_params_)"
   ]
  },
  {
   "cell_type": "markdown",
   "metadata": {},
   "source": [
    "## Task 8: Make predictions for the new data\n",
    "\n",
    "1. Create a DataFrame called **\"X_new\"** that includes the same feature columns you used to train your model.\n",
    "2. Train your best model (found during grid search) using **X** and **y**.\n",
    "3. Calculate the predicted probability of popularity for all posts in **X_new**.\n",
    "4. Calculate the AUC of your model by evaluating your predicted probabilities against the **popular** column in the **new** DataFrame. (It should be similar to the AUC that was output by **`GridSearchCV`**.)\n",
    "\n",
    "    - **Hint:** [Evaluating a classification model](https://github.com/justmarkham/scikit-learn-videos/blob/master/09_classification_metrics.ipynb) explains how to calculate predicted probabilities and AUC."
   ]
  },
  {
   "cell_type": "code",
   "execution_count": 54,
   "metadata": {
    "collapsed": true
   },
   "outputs": [],
   "source": [
    "# create a DataFrame of feature columns from the new data\n",
    "X_new = new[feature_cols]"
   ]
  },
  {
   "cell_type": "code",
   "execution_count": 55,
   "metadata": {
    "collapsed": false
   },
   "outputs": [
    {
     "data": {
      "text/plain": [
       "array([ 0.23065636,  0.21568012,  0.19198775, ...,  0.27412378,\n",
       "        0.27412378,  0.19198775])"
      ]
     },
     "execution_count": 55,
     "metadata": {},
     "output_type": "execute_result"
    }
   ],
   "source": [
    "# train the best model using X and calculate predicted probabilities for X_new\n",
    "logreg = LogisticRegression(penalty='l2', C=1.0)\n",
    "logreg.fit(X, y)\n",
    "new_pred_prob = logreg.predict_proba(X_new)[:, 1]\n",
    "new_pred_prob"
   ]
  },
  {
   "cell_type": "code",
   "execution_count": 56,
   "metadata": {
    "collapsed": false
   },
   "outputs": [
    {
     "data": {
      "text/plain": [
       "array([ 0.23065636,  0.21568012,  0.19198775, ...,  0.27412378,\n",
       "        0.27412378,  0.19198775])"
      ]
     },
     "execution_count": 56,
     "metadata": {},
     "output_type": "execute_result"
    }
   ],
   "source": [
    "# shortcut: GridSearchCV automatically refits the best model with the entire dataset, and can be used to make predictions\n",
    "new_pred_prob = grid.predict_proba(X_new)[:, 1]\n",
    "new_pred_prob"
   ]
  },
  {
   "cell_type": "code",
   "execution_count": 57,
   "metadata": {
    "collapsed": false
   },
   "outputs": [
    {
     "data": {
      "text/plain": [
       "0.55818346157481014"
      ]
     },
     "execution_count": 57,
     "metadata": {},
     "output_type": "execute_result"
    }
   ],
   "source": [
    "# calculate the AUC on the new data\n",
    "from sklearn import metrics\n",
    "metrics.roc_auc_score(new.popular, new_pred_prob)"
   ]
  },
  {
   "cell_type": "markdown",
   "metadata": {},
   "source": [
    "The AUC on the new data (0.558) is slightly lower than the AUC estimated by cross-validation in Task 7 (0.577). This is normal, and usually indicates that there are differences between the characteristics of past data and future data. In other words, things change over time! :)\n",
    "\n",
    "Let's try adding **author_popularity** to the model, and see if that improves the AUC on the new data:"
   ]
  },
  {
   "cell_type": "code",
   "execution_count": 58,
   "metadata": {
    "collapsed": true
   },
   "outputs": [],
   "source": [
    "# redefine X and X_new to include 'author_popularity'\n",
    "X = train[feature_cols + ['author_popularity']]\n",
    "X_new = new[feature_cols + ['author_popularity']]"
   ]
  },
  {
   "cell_type": "code",
   "execution_count": 59,
   "metadata": {
    "collapsed": false
   },
   "outputs": [
    {
     "data": {
      "text/plain": [
       "0.58274424037659367"
      ]
     },
     "execution_count": 59,
     "metadata": {},
     "output_type": "execute_result"
    }
   ],
   "source": [
    "# retrain and reevaluate the model\n",
    "logreg.fit(X, y)\n",
    "new_pred_prob = logreg.predict_proba(X_new)[:, 1]\n",
    "metrics.roc_auc_score(new.popular, new_pred_prob)"
   ]
  },
  {
   "cell_type": "markdown",
   "metadata": {},
   "source": [
    "## Task 9: Use text as the input data instead\n",
    "\n",
    "1. Define a new **X** using the **title** column from **train**.\n",
    "2. Create a **`Pipeline`** of **`CountVectorizer`** and the model of your choice.\n",
    "3. Use **`cross_val_score`** to properly evaluate the AUC of your pipeline.\n",
    "4. **Optional:** See if you can increase the AUC by changing what you use as the input text.\n",
    "5. Train the pipeline on **X** and **y**, calculate predicted probabilities for all posts in the **new** DataFrame, and calculate the AUC."
   ]
  },
  {
   "cell_type": "code",
   "execution_count": 60,
   "metadata": {
    "collapsed": true
   },
   "outputs": [],
   "source": [
    "# use 'title' as the input text\n",
    "X = train.title\n",
    "y = train.popular"
   ]
  },
  {
   "cell_type": "code",
   "execution_count": 61,
   "metadata": {
    "collapsed": true
   },
   "outputs": [],
   "source": [
    "# create a pipeline of CountVectorizer and Naive Bayes\n",
    "from sklearn.feature_extraction.text import CountVectorizer\n",
    "from sklearn.naive_bayes import MultinomialNB\n",
    "from sklearn.pipeline import make_pipeline\n",
    "vect = CountVectorizer()\n",
    "nb = MultinomialNB()\n",
    "pipe = make_pipeline(vect, nb)"
   ]
  },
  {
   "cell_type": "code",
   "execution_count": 62,
   "metadata": {
    "collapsed": false
   },
   "outputs": [
    {
     "data": {
      "text/plain": [
       "0.593508061947146"
      ]
     },
     "execution_count": 62,
     "metadata": {},
     "output_type": "execute_result"
    }
   ],
   "source": [
    "# cross-validate the entire pipeline\n",
    "cross_val_score(pipe, X, y, cv=5, scoring='roc_auc').mean()"
   ]
  },
  {
   "cell_type": "code",
   "execution_count": 63,
   "metadata": {
    "collapsed": false
   },
   "outputs": [],
   "source": [
    "# use both 'title' and 'author' as the input text\n",
    "train['title_author'] = train.title.str.cat(train.author, sep=' ')\n",
    "new['title_author'] = new.title.str.cat(new.author, sep=' ')"
   ]
  },
  {
   "cell_type": "code",
   "execution_count": 64,
   "metadata": {
    "collapsed": false
   },
   "outputs": [
    {
     "data": {
      "text/plain": [
       "0.62375088540403612"
      ]
     },
     "execution_count": 64,
     "metadata": {},
     "output_type": "execute_result"
    }
   ],
   "source": [
    "# reevaluate the pipeline\n",
    "X = train.title_author\n",
    "y = train.popular\n",
    "cross_val_score(pipe, X, y, cv=5, scoring='roc_auc').mean()"
   ]
  },
  {
   "cell_type": "markdown",
   "metadata": {},
   "source": [
    "Using the **title** alone resulted in an AUC of 0.594, and adding the **author** increased the AUC to 0.624! (It's likely that the pipeline could be tuned for even better performance.)"
   ]
  },
  {
   "cell_type": "code",
   "execution_count": 65,
   "metadata": {
    "collapsed": false
   },
   "outputs": [
    {
     "data": {
      "text/plain": [
       "0.61360631857516035"
      ]
     },
     "execution_count": 65,
     "metadata": {},
     "output_type": "execute_result"
    }
   ],
   "source": [
    "# make predictions for the new data using the pipeline and calculate the AUC\n",
    "X_new = new.title_author\n",
    "pipe.fit(X, y)\n",
    "new_pred_prob = pipe.predict_proba(X_new)[:, 1]\n",
    "metrics.roc_auc_score(new.popular, new_pred_prob)"
   ]
  },
  {
   "cell_type": "markdown",
   "metadata": {},
   "source": [
    "As expected, the AUC on the new data (0.614) is slightly lower than the AUC estimated by cross-validation (0.624)."
   ]
  }
 ],
 "metadata": {
  "kernelspec": {
   "display_name": "Python 2",
   "language": "python",
   "name": "python2"
  },
  "language_info": {
   "codemirror_mode": {
    "name": "ipython",
    "version": 2
   },
   "file_extension": ".py",
   "mimetype": "text/x-python",
   "name": "python",
   "nbconvert_exporter": "python",
   "pygments_lexer": "ipython2",
   "version": "2.7.11"
  }
 },
 "nbformat": 4,
 "nbformat_minor": 0
}
