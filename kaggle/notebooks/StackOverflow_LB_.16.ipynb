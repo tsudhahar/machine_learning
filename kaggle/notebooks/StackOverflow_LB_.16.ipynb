{
 "cells": [
  {
   "cell_type": "markdown",
   "metadata": {},
   "source": [
    "### Load data"
   ]
  },
  {
   "cell_type": "code",
   "execution_count": 1,
   "metadata": {
    "collapsed": true
   },
   "outputs": [],
   "source": [
    "from __future__ import print_function"
   ]
  },
  {
   "cell_type": "code",
   "execution_count": 2,
   "metadata": {
    "collapsed": true
   },
   "outputs": [],
   "source": [
    "import pandas as pd\n",
    "import numpy as np\n",
    "from sklearn import preprocessing\n",
    "from sklearn.preprocessing import LabelEncoder\n",
    "from sklearn.feature_extraction.text import TfidfVectorizer\n",
    "from sklearn.naive_bayes import MultinomialNB\n",
    "from sklearn.pipeline import make_pipeline\n",
    "from textblob import TextBlob\n",
    "import re"
   ]
  },
  {
   "cell_type": "code",
   "execution_count": 3,
   "metadata": {
    "collapsed": false
   },
   "outputs": [],
   "source": [
    "#read in training data and parse dates\n",
    "train = pd.read_csv('.../StackOverflow/train.csv', parse_dates=['PostCreationDate', 'OwnerCreationDate','PostClosedDate'])"
   ]
  },
  {
   "cell_type": "code",
   "execution_count": 4,
   "metadata": {
    "collapsed": true
   },
   "outputs": [],
   "source": [
    "#read in test data and parse dates\n",
    "test = pd.read_csv('.../StackOverflow/test.csv', parse_dates=['PostCreationDate', 'OwnerCreationDate'])"
   ]
  },
  {
   "cell_type": "markdown",
   "metadata": {},
   "source": [
    "### Define functions needed for creating new features"
   ]
  },
  {
   "cell_type": "code",
   "execution_count": 5,
   "metadata": {
    "collapsed": false
   },
   "outputs": [],
   "source": [
    "#define a funtion which creates a string of words with the word\n",
    "#\"title\" to each word in the title\n",
    "#this is so that the title text can be combined with the bodymarkdown text but will maintain\n",
    "#different properties\n",
    "def addtitle(titlewords):\n",
    "    wordlist = ''\n",
    "    for word in titlewords:\n",
    "        wordcombo = 'title'+ str(word) + (' ') \n",
    "        wordlist += wordcombo\n",
    "    return str(wordlist)"
   ]
  },
  {
   "cell_type": "code",
   "execution_count": 6,
   "metadata": {
    "collapsed": true
   },
   "outputs": [],
   "source": [
    "# define a function that accepts text and returns the subjectivity - this is for the bodymarkdown\n",
    "# I also tested whether text polarity differed between open and closed but it did not \n",
    "def detect_subjectivity(text):\n",
    "    \n",
    "    # use this line for Python 2 (avoids UnicodeDecodeError for some reviews)\n",
    "    blob = TextBlob(text.decode(encoding='utf-8'))\n",
    "    \n",
    "    # return the polarity\n",
    "    return blob.sentiment.subjectivity"
   ]
  },
  {
   "cell_type": "code",
   "execution_count": 7,
   "metadata": {
    "collapsed": true
   },
   "outputs": [],
   "source": [
    "#define a function that identifies whether text (a tag) occurs in the bodymarkdown text\n",
    "def findtag(text):\n",
    "        if str(text).lower() in str(train.BodyMarkdown).lower():\n",
    "            return 1\n",
    "        else:\n",
    "            return 0"
   ]
  },
  {
   "cell_type": "markdown",
   "metadata": {},
   "source": [
    "### Define function to create the new features\n",
    "These features were chosen after examining boxplots to determine whether the distributions appeared different between open and closed classes. Other features or variants of these features that did not seem to differ were included in some models and eliminated if they did not improve scores, etc. Some models with more features performed worse in cross-validation."
   ]
  },
  {
   "cell_type": "code",
   "execution_count": 8,
   "metadata": {
    "collapsed": false
   },
   "outputs": [],
   "source": [
    "#define a function that makes the new features\n",
    "def makefeatures(df):\n",
    "    #scale the undeleted count and reputation values\n",
    "    df['UndeletedCountScaled'] = preprocessing.scale(df.OwnerUndeletedAnswerCountAtPostTime)\n",
    "    df['ReputationScaled'] = preprocessing.scale(df.ReputationAtPostCreation)\n",
    "    \n",
    "    #create a feature that measures time between author creation and post creation and scale\n",
    "    df['Seniority'] = (df.PostCreationDate - df.OwnerCreationDate).astype('timedelta64[D]')\n",
    "    df['SeniorityScaled'] = preprocessing.scale(df.Seniority)\n",
    "    \n",
    "    #create features for length of the Title and length of the Body Markdown and scale\n",
    "    df['TitleLengthScaled'] = preprocessing.scale(df.Title.apply(len))\n",
    "    df['BodyLengthScaled'] = preprocessing.scale(df.BodyMarkdown.apply(len))\n",
    "    \n",
    "    #create a feature with the number of tags for the question and scale\n",
    "    df['TagCount'] = df.loc[:,['Tag1','Tag2','Tag3','Tag4','Tag5']].count(axis = 1)\n",
    "    df['TagCountScaled'] = preprocessing.scale(df.loc[:,['Tag1','Tag2','Tag3','Tag4','Tag5']].count(axis = 1))\n",
    "    \n",
    "    #create a feature for subjectivity of the BodyMarkdown and the Title\n",
    "    df['Subjectivity'] = df.BodyMarkdown.apply(detect_subjectivity)\n",
    "    df['TitleSubjectivity'] = df.Title.apply(detect_subjectivity)\n",
    "    \n",
    "    #create a feature for whether or not a \"question word\" is present in the Title\n",
    "    df['QuestionWord'] = df.Title.str.contains(r'how|what|when|why|does|will|would|is it', flags=re.IGNORECASE)\n",
    "    df['QuestionWordInt'] = df.QuestionWord.astype(int)\n",
    "    \n",
    "    #create a feature for whether the *second* tag is in the BodyMarkdown - distribution of \n",
    "    #first tag did not differ across classes, but second tag did\n",
    "    df['Tag2Text'] = df['Tag2'].apply(findtag)\n",
    "    \n",
    "    #transform text labels to numerical values for Tag1 label and weekday of post creation\n",
    "    lb = LabelEncoder()\n",
    "    df['Tag1Label']= lb.fit_transform(df.Tag1)\n",
    "    df['Weekday'] = lb.fit_transform(df.PostCreationDate.dt.weekday_name)\n",
    "    \n",
    "    #create a column which is a list of words in the title for combination with word \"title\"\n",
    "    df['TitleText'] = df.Title.str.split()\n",
    "    #create a column which is the words of the title each combined with the word \"title\"\n",
    "    df['TitleCombo'] = df['TitleText'].apply(addtitle)\n",
    "    \n",
    "    #create a column which includes the text from the Title, BodyMarkdown, and the tags in one\n",
    "    # the tags are preceded by the string \"tag\" to separate them from bodytext for the vectorizer\n",
    "    df['TextCombo'] = df.TitleCombo +('\\s')+ df.BodyMarkdown +('\\s')+ 'Tag1'+ df['Tag1'].fillna('') + ('\\s')+ 'Tag2'+ df['Tag2'].fillna('') +('\\s')+ 'Tag3'+ df['Tag3'].fillna('') \n",
    "    \n",
    "    return df"
   ]
  },
  {
   "cell_type": "markdown",
   "metadata": {},
   "source": [
    "### Add new features to training and test datasets"
   ]
  },
  {
   "cell_type": "code",
   "execution_count": 9,
   "metadata": {
    "collapsed": false
   },
   "outputs": [
    {
     "name": "stderr",
     "output_type": "stream",
     "text": [
      "/Users/tuulimorrill/anaconda/lib/python2.7/site-packages/sklearn/utils/validation.py:420: DataConversionWarning: Data with input dtype int64 was converted to float64 by the scale function.\n",
      "  warnings.warn(msg, DataConversionWarning)\n",
      "/Users/tuulimorrill/anaconda/lib/python2.7/site-packages/sklearn/utils/validation.py:420: DataConversionWarning: Data with input dtype int64 was converted to float64 by the scale function.\n",
      "  warnings.warn(msg, DataConversionWarning)\n",
      "/Users/tuulimorrill/anaconda/lib/python2.7/site-packages/sklearn/utils/validation.py:420: DataConversionWarning: Data with input dtype int64 was converted to float64 by the scale function.\n",
      "  warnings.warn(msg, DataConversionWarning)\n",
      "/Users/tuulimorrill/anaconda/lib/python2.7/site-packages/sklearn/utils/validation.py:420: DataConversionWarning: Data with input dtype int64 was converted to float64 by the scale function.\n",
      "  warnings.warn(msg, DataConversionWarning)\n",
      "/Users/tuulimorrill/anaconda/lib/python2.7/site-packages/sklearn/utils/validation.py:420: DataConversionWarning: Data with input dtype int64 was converted to float64 by the scale function.\n",
      "  warnings.warn(msg, DataConversionWarning)\n",
      "/Users/tuulimorrill/anaconda/lib/python2.7/site-packages/numpy/lib/arraysetops.py:200: FutureWarning: numpy not_equal will not check object identity in the future. The comparison did not return the same result as suggested by the identity (`is`)) and will change.\n",
      "  flag = np.concatenate(([True], aux[1:] != aux[:-1]))\n"
     ]
    },
    {
     "data": {
      "text/html": [
       "<div>\n",
       "<table border=\"1\" class=\"dataframe\">\n",
       "  <thead>\n",
       "    <tr style=\"text-align: right;\">\n",
       "      <th></th>\n",
       "      <th>Unnamed: 0</th>\n",
       "      <th>PostId</th>\n",
       "      <th>PostCreationDate</th>\n",
       "      <th>OwnerUserId</th>\n",
       "      <th>OwnerCreationDate</th>\n",
       "      <th>ReputationAtPostCreation</th>\n",
       "      <th>OwnerUndeletedAnswerCountAtPostTime</th>\n",
       "      <th>Title</th>\n",
       "      <th>BodyMarkdown</th>\n",
       "      <th>Tag1</th>\n",
       "      <th>...</th>\n",
       "      <th>Subjectivity</th>\n",
       "      <th>TitleSubjectivity</th>\n",
       "      <th>QuestionWord</th>\n",
       "      <th>QuestionWordInt</th>\n",
       "      <th>Tag2Text</th>\n",
       "      <th>Tag1Label</th>\n",
       "      <th>Weekday</th>\n",
       "      <th>TitleText</th>\n",
       "      <th>TitleCombo</th>\n",
       "      <th>TextCombo</th>\n",
       "    </tr>\n",
       "  </thead>\n",
       "  <tbody>\n",
       "    <tr>\n",
       "      <th>0</th>\n",
       "      <td>0</td>\n",
       "      <td>6046168</td>\n",
       "      <td>2011-05-18 14:14:05</td>\n",
       "      <td>543315</td>\n",
       "      <td>2010-09-17 10:15:06</td>\n",
       "      <td>1</td>\n",
       "      <td>2</td>\n",
       "      <td>For Mongodb is it better to reference an objec...</td>\n",
       "      <td>I am building a corpus of indexed sentences in...</td>\n",
       "      <td>mongodb</td>\n",
       "      <td>...</td>\n",
       "      <td>0.661905</td>\n",
       "      <td>0.633333</td>\n",
       "      <td>True</td>\n",
       "      <td>1</td>\n",
       "      <td>1</td>\n",
       "      <td>2776</td>\n",
       "      <td>6</td>\n",
       "      <td>[For, Mongodb, is, it, better, to, reference, ...</td>\n",
       "      <td>titleFor titleMongodb titleis titleit titlebet...</td>\n",
       "      <td>titleFor titleMongodb titleis titleit titlebet...</td>\n",
       "    </tr>\n",
       "    <tr>\n",
       "      <th>1</th>\n",
       "      <td>1</td>\n",
       "      <td>4873911</td>\n",
       "      <td>2011-02-02 11:30:10</td>\n",
       "      <td>465076</td>\n",
       "      <td>2010-10-03 09:30:58</td>\n",
       "      <td>192</td>\n",
       "      <td>24</td>\n",
       "      <td>How to insert schemalocation in a xml document...</td>\n",
       "      <td>i create a xml document with JAXP and search a...</td>\n",
       "      <td>dom</td>\n",
       "      <td>...</td>\n",
       "      <td>0.369697</td>\n",
       "      <td>0.000000</td>\n",
       "      <td>True</td>\n",
       "      <td>1</td>\n",
       "      <td>0</td>\n",
       "      <td>1199</td>\n",
       "      <td>6</td>\n",
       "      <td>[How, to, insert, schemalocation, in, a, xml, ...</td>\n",
       "      <td>titleHow titleto titleinsert titleschemalocati...</td>\n",
       "      <td>titleHow titleto titleinsert titleschemalocati...</td>\n",
       "    </tr>\n",
       "    <tr>\n",
       "      <th>2</th>\n",
       "      <td>2</td>\n",
       "      <td>3311559</td>\n",
       "      <td>2010-07-22 17:21:54</td>\n",
       "      <td>406143</td>\n",
       "      <td>2010-07-22 16:58:20</td>\n",
       "      <td>1</td>\n",
       "      <td>0</td>\n",
       "      <td>Too many lookup tables</td>\n",
       "      <td>What are the adverse effects of having too man...</td>\n",
       "      <td>sql-server</td>\n",
       "      <td>...</td>\n",
       "      <td>0.500000</td>\n",
       "      <td>0.500000</td>\n",
       "      <td>False</td>\n",
       "      <td>0</td>\n",
       "      <td>0</td>\n",
       "      <td>4227</td>\n",
       "      <td>4</td>\n",
       "      <td>[Too, many, lookup, tables]</td>\n",
       "      <td>titleToo titlemany titlelookup titletables</td>\n",
       "      <td>titleToo titlemany titlelookup titletables \\sW...</td>\n",
       "    </tr>\n",
       "    <tr>\n",
       "      <th>3</th>\n",
       "      <td>3</td>\n",
       "      <td>9990413</td>\n",
       "      <td>2012-04-03 09:18:39</td>\n",
       "      <td>851755</td>\n",
       "      <td>2011-07-19 10:22:40</td>\n",
       "      <td>4</td>\n",
       "      <td>1</td>\n",
       "      <td>What is this PHP code in VB.net</td>\n",
       "      <td>I am looking for the vb.net equivalent of this...</td>\n",
       "      <td>php</td>\n",
       "      <td>...</td>\n",
       "      <td>0.525000</td>\n",
       "      <td>0.000000</td>\n",
       "      <td>True</td>\n",
       "      <td>1</td>\n",
       "      <td>1</td>\n",
       "      <td>3339</td>\n",
       "      <td>5</td>\n",
       "      <td>[What, is, this, PHP, code, in, VB.net]</td>\n",
       "      <td>titleWhat titleis titlethis titlePHP titlecode...</td>\n",
       "      <td>titleWhat titleis titlethis titlePHP titlecode...</td>\n",
       "    </tr>\n",
       "    <tr>\n",
       "      <th>4</th>\n",
       "      <td>4</td>\n",
       "      <td>10421966</td>\n",
       "      <td>2012-05-02 21:25:01</td>\n",
       "      <td>603588</td>\n",
       "      <td>2011-02-04 18:05:34</td>\n",
       "      <td>334</td>\n",
       "      <td>14</td>\n",
       "      <td>Spring-Data mongodb querying multiple classes ...</td>\n",
       "      <td>With Spring-Data, you can use the @Document an...</td>\n",
       "      <td>mongodb</td>\n",
       "      <td>...</td>\n",
       "      <td>0.700000</td>\n",
       "      <td>0.062500</td>\n",
       "      <td>False</td>\n",
       "      <td>0</td>\n",
       "      <td>1</td>\n",
       "      <td>2776</td>\n",
       "      <td>6</td>\n",
       "      <td>[Spring-Data, mongodb, querying, multiple, cla...</td>\n",
       "      <td>titleSpring-Data titlemongodb titlequerying ti...</td>\n",
       "      <td>titleSpring-Data titlemongodb titlequerying ti...</td>\n",
       "    </tr>\n",
       "  </tbody>\n",
       "</table>\n",
       "<p>5 rows × 34 columns</p>\n",
       "</div>"
      ],
      "text/plain": [
       "   Unnamed: 0    PostId    PostCreationDate  OwnerUserId   OwnerCreationDate  \\\n",
       "0           0   6046168 2011-05-18 14:14:05       543315 2010-09-17 10:15:06   \n",
       "1           1   4873911 2011-02-02 11:30:10       465076 2010-10-03 09:30:58   \n",
       "2           2   3311559 2010-07-22 17:21:54       406143 2010-07-22 16:58:20   \n",
       "3           3   9990413 2012-04-03 09:18:39       851755 2011-07-19 10:22:40   \n",
       "4           4  10421966 2012-05-02 21:25:01       603588 2011-02-04 18:05:34   \n",
       "\n",
       "   ReputationAtPostCreation  OwnerUndeletedAnswerCountAtPostTime  \\\n",
       "0                         1                                    2   \n",
       "1                       192                                   24   \n",
       "2                         1                                    0   \n",
       "3                         4                                    1   \n",
       "4                       334                                   14   \n",
       "\n",
       "                                               Title  \\\n",
       "0  For Mongodb is it better to reference an objec...   \n",
       "1  How to insert schemalocation in a xml document...   \n",
       "2                            Too many lookup tables    \n",
       "3                    What is this PHP code in VB.net   \n",
       "4  Spring-Data mongodb querying multiple classes ...   \n",
       "\n",
       "                                        BodyMarkdown        Tag1  \\\n",
       "0  I am building a corpus of indexed sentences in...     mongodb   \n",
       "1  i create a xml document with JAXP and search a...         dom   \n",
       "2  What are the adverse effects of having too man...  sql-server   \n",
       "3  I am looking for the vb.net equivalent of this...         php   \n",
       "4  With Spring-Data, you can use the @Document an...     mongodb   \n",
       "\n",
       "                         ...                         Subjectivity  \\\n",
       "0                        ...                             0.661905   \n",
       "1                        ...                             0.369697   \n",
       "2                        ...                             0.500000   \n",
       "3                        ...                             0.525000   \n",
       "4                        ...                             0.700000   \n",
       "\n",
       "  TitleSubjectivity QuestionWord QuestionWordInt Tag2Text  Tag1Label  Weekday  \\\n",
       "0          0.633333         True               1        1       2776        6   \n",
       "1          0.000000         True               1        0       1199        6   \n",
       "2          0.500000        False               0        0       4227        4   \n",
       "3          0.000000         True               1        1       3339        5   \n",
       "4          0.062500        False               0        1       2776        6   \n",
       "\n",
       "                                           TitleText  \\\n",
       "0  [For, Mongodb, is, it, better, to, reference, ...   \n",
       "1  [How, to, insert, schemalocation, in, a, xml, ...   \n",
       "2                        [Too, many, lookup, tables]   \n",
       "3            [What, is, this, PHP, code, in, VB.net]   \n",
       "4  [Spring-Data, mongodb, querying, multiple, cla...   \n",
       "\n",
       "                                          TitleCombo  \\\n",
       "0  titleFor titleMongodb titleis titleit titlebet...   \n",
       "1  titleHow titleto titleinsert titleschemalocati...   \n",
       "2        titleToo titlemany titlelookup titletables    \n",
       "3  titleWhat titleis titlethis titlePHP titlecode...   \n",
       "4  titleSpring-Data titlemongodb titlequerying ti...   \n",
       "\n",
       "                                           TextCombo  \n",
       "0  titleFor titleMongodb titleis titleit titlebet...  \n",
       "1  titleHow titleto titleinsert titleschemalocati...  \n",
       "2  titleToo titlemany titlelookup titletables \\sW...  \n",
       "3  titleWhat titleis titlethis titlePHP titlecode...  \n",
       "4  titleSpring-Data titlemongodb titlequerying ti...  \n",
       "\n",
       "[5 rows x 34 columns]"
      ]
     },
     "execution_count": 9,
     "metadata": {},
     "output_type": "execute_result"
    }
   ],
   "source": [
    "#add new features to the training data\n",
    "makefeatures(train)\n",
    "train.head()"
   ]
  },
  {
   "cell_type": "code",
   "execution_count": 32,
   "metadata": {
    "collapsed": false
   },
   "outputs": [
    {
     "name": "stderr",
     "output_type": "stream",
     "text": [
      "/Users/tuulimorrill/anaconda/lib/python2.7/site-packages/sklearn/utils/validation.py:420: DataConversionWarning: Data with input dtype int64 was converted to float64 by the scale function.\n",
      "  warnings.warn(msg, DataConversionWarning)\n",
      "/Users/tuulimorrill/anaconda/lib/python2.7/site-packages/sklearn/utils/validation.py:420: DataConversionWarning: Data with input dtype int64 was converted to float64 by the scale function.\n",
      "  warnings.warn(msg, DataConversionWarning)\n",
      "/Users/tuulimorrill/anaconda/lib/python2.7/site-packages/sklearn/utils/validation.py:420: DataConversionWarning: Data with input dtype int64 was converted to float64 by the scale function.\n",
      "  warnings.warn(msg, DataConversionWarning)\n",
      "/Users/tuulimorrill/anaconda/lib/python2.7/site-packages/sklearn/utils/validation.py:420: DataConversionWarning: Data with input dtype int64 was converted to float64 by the scale function.\n",
      "  warnings.warn(msg, DataConversionWarning)\n",
      "/Users/tuulimorrill/anaconda/lib/python2.7/site-packages/sklearn/utils/validation.py:420: DataConversionWarning: Data with input dtype int64 was converted to float64 by the scale function.\n",
      "  warnings.warn(msg, DataConversionWarning)\n"
     ]
    },
    {
     "data": {
      "text/html": [
       "<div>\n",
       "<table border=\"1\" class=\"dataframe\">\n",
       "  <thead>\n",
       "    <tr style=\"text-align: right;\">\n",
       "      <th></th>\n",
       "      <th>PostId</th>\n",
       "      <th>PostCreationDate</th>\n",
       "      <th>OwnerUserId</th>\n",
       "      <th>OwnerCreationDate</th>\n",
       "      <th>ReputationAtPostCreation</th>\n",
       "      <th>OwnerUndeletedAnswerCountAtPostTime</th>\n",
       "      <th>Title</th>\n",
       "      <th>BodyMarkdown</th>\n",
       "      <th>Tag1</th>\n",
       "      <th>Tag2</th>\n",
       "      <th>...</th>\n",
       "      <th>TagCountScaled</th>\n",
       "      <th>Subjectivity</th>\n",
       "      <th>TitleSubjectivity</th>\n",
       "      <th>QuestionWord</th>\n",
       "      <th>QuestionWordInt</th>\n",
       "      <th>Tag1Label</th>\n",
       "      <th>Weekday</th>\n",
       "      <th>TitleText</th>\n",
       "      <th>TitleCombo</th>\n",
       "      <th>TextCombo</th>\n",
       "    </tr>\n",
       "  </thead>\n",
       "  <tbody>\n",
       "    <tr>\n",
       "      <th>0</th>\n",
       "      <td>11768878</td>\n",
       "      <td>2012-08-01 23:10:12</td>\n",
       "      <td>756422</td>\n",
       "      <td>2011-05-16 21:49:59</td>\n",
       "      <td>155</td>\n",
       "      <td>11</td>\n",
       "      <td>Maven &amp; yui-compressor Plugin issues</td>\n",
       "      <td>I'm using the yui-compressor plugin for maven ...</td>\n",
       "      <td>maven</td>\n",
       "      <td>maven-3</td>\n",
       "      <td>...</td>\n",
       "      <td>0.087312</td>\n",
       "      <td>0.531818</td>\n",
       "      <td>0.0</td>\n",
       "      <td>False</td>\n",
       "      <td>0</td>\n",
       "      <td>1463</td>\n",
       "      <td>6</td>\n",
       "      <td>[Maven, &amp;, yui-compressor, Plugin, issues]</td>\n",
       "      <td>titleMaven title&amp; titleyui-compressor titlePlu...</td>\n",
       "      <td>titleMaven title&amp; titleyui-compressor titlePlu...</td>\n",
       "    </tr>\n",
       "    <tr>\n",
       "      <th>1</th>\n",
       "      <td>11768880</td>\n",
       "      <td>2012-08-01 23:10:21</td>\n",
       "      <td>1569892</td>\n",
       "      <td>2012-08-01 22:24:37</td>\n",
       "      <td>1</td>\n",
       "      <td>0</td>\n",
       "      <td>Inconsistent behaviour of html select dropdowns</td>\n",
       "      <td>I have written a javascript-generated web page...</td>\n",
       "      <td>html</td>\n",
       "      <td>select</td>\n",
       "      <td>...</td>\n",
       "      <td>0.895384</td>\n",
       "      <td>0.263043</td>\n",
       "      <td>0.0</td>\n",
       "      <td>False</td>\n",
       "      <td>0</td>\n",
       "      <td>1071</td>\n",
       "      <td>6</td>\n",
       "      <td>[Inconsistent, behaviour, of, html, select, dr...</td>\n",
       "      <td>titleInconsistent titlebehaviour titleof title...</td>\n",
       "      <td>titleInconsistent titlebehaviour titleof title...</td>\n",
       "    </tr>\n",
       "    <tr>\n",
       "      <th>2</th>\n",
       "      <td>11803678</td>\n",
       "      <td>2012-08-03 21:40:49</td>\n",
       "      <td>1301879</td>\n",
       "      <td>2012-03-29 21:01:29</td>\n",
       "      <td>781</td>\n",
       "      <td>37</td>\n",
       "      <td>Why Does MSFT C# Compiler Compile fixed Statem...</td>\n",
       "      <td>The .NET c# compiler (.NET 4.0) compiles the `...</td>\n",
       "      <td>c#</td>\n",
       "      <td>.net</td>\n",
       "      <td>...</td>\n",
       "      <td>0.895384</td>\n",
       "      <td>0.389470</td>\n",
       "      <td>0.2</td>\n",
       "      <td>True</td>\n",
       "      <td>1</td>\n",
       "      <td>305</td>\n",
       "      <td>0</td>\n",
       "      <td>[Why, Does, MSFT, C#, Compiler, Compile, fixed...</td>\n",
       "      <td>titleWhy titleDoes titleMSFT titleC# titleComp...</td>\n",
       "      <td>titleWhy titleDoes titleMSFT titleC# titleComp...</td>\n",
       "    </tr>\n",
       "    <tr>\n",
       "      <th>3</th>\n",
       "      <td>11803496</td>\n",
       "      <td>2012-08-03 21:24:02</td>\n",
       "      <td>1196150</td>\n",
       "      <td>2012-02-08 02:20:44</td>\n",
       "      <td>538</td>\n",
       "      <td>0</td>\n",
       "      <td>Dump sql file to ClearDB in Heroku</td>\n",
       "      <td>I have a sql file that I want to be dumped int...</td>\n",
       "      <td>mysql</td>\n",
       "      <td>ruby-on-rails</td>\n",
       "      <td>...</td>\n",
       "      <td>0.087312</td>\n",
       "      <td>0.200000</td>\n",
       "      <td>0.0</td>\n",
       "      <td>False</td>\n",
       "      <td>0</td>\n",
       "      <td>1583</td>\n",
       "      <td>0</td>\n",
       "      <td>[Dump, sql, file, to, ClearDB, in, Heroku]</td>\n",
       "      <td>titleDump titlesql titlefile titleto titleClea...</td>\n",
       "      <td>titleDump titlesql titlefile titleto titleClea...</td>\n",
       "    </tr>\n",
       "    <tr>\n",
       "      <th>4</th>\n",
       "      <td>11803700</td>\n",
       "      <td>2012-08-03 21:43:13</td>\n",
       "      <td>772581</td>\n",
       "      <td>2009-11-13 16:24:05</td>\n",
       "      <td>70</td>\n",
       "      <td>2</td>\n",
       "      <td>mysql query to get rows with conditions</td>\n",
       "      <td>\\r\\nI have a table called \"articles\" on the da...</td>\n",
       "      <td>mysql</td>\n",
       "      <td>query</td>\n",
       "      <td>...</td>\n",
       "      <td>-0.720759</td>\n",
       "      <td>0.550000</td>\n",
       "      <td>0.0</td>\n",
       "      <td>False</td>\n",
       "      <td>0</td>\n",
       "      <td>1583</td>\n",
       "      <td>0</td>\n",
       "      <td>[mysql, query, to, get, rows, with, conditions]</td>\n",
       "      <td>titlemysql titlequery titleto titleget titlero...</td>\n",
       "      <td>titlemysql titlequery titleto titleget titlero...</td>\n",
       "    </tr>\n",
       "  </tbody>\n",
       "</table>\n",
       "<p>5 rows × 30 columns</p>\n",
       "</div>"
      ],
      "text/plain": [
       "     PostId    PostCreationDate  OwnerUserId   OwnerCreationDate  \\\n",
       "0  11768878 2012-08-01 23:10:12       756422 2011-05-16 21:49:59   \n",
       "1  11768880 2012-08-01 23:10:21      1569892 2012-08-01 22:24:37   \n",
       "2  11803678 2012-08-03 21:40:49      1301879 2012-03-29 21:01:29   \n",
       "3  11803496 2012-08-03 21:24:02      1196150 2012-02-08 02:20:44   \n",
       "4  11803700 2012-08-03 21:43:13       772581 2009-11-13 16:24:05   \n",
       "\n",
       "   ReputationAtPostCreation  OwnerUndeletedAnswerCountAtPostTime  \\\n",
       "0                       155                                   11   \n",
       "1                         1                                    0   \n",
       "2                       781                                   37   \n",
       "3                       538                                    0   \n",
       "4                        70                                    2   \n",
       "\n",
       "                                               Title  \\\n",
       "0               Maven & yui-compressor Plugin issues   \n",
       "1    Inconsistent behaviour of html select dropdowns   \n",
       "2  Why Does MSFT C# Compiler Compile fixed Statem...   \n",
       "3                 Dump sql file to ClearDB in Heroku   \n",
       "4            mysql query to get rows with conditions   \n",
       "\n",
       "                                        BodyMarkdown   Tag1           Tag2  \\\n",
       "0  I'm using the yui-compressor plugin for maven ...  maven        maven-3   \n",
       "1  I have written a javascript-generated web page...   html         select   \n",
       "2  The .NET c# compiler (.NET 4.0) compiles the `...     c#           .net   \n",
       "3  I have a sql file that I want to be dumped int...  mysql  ruby-on-rails   \n",
       "4  \\r\\nI have a table called \"articles\" on the da...  mysql          query   \n",
       "\n",
       "                         ...                         TagCountScaled  \\\n",
       "0                        ...                               0.087312   \n",
       "1                        ...                               0.895384   \n",
       "2                        ...                               0.895384   \n",
       "3                        ...                               0.087312   \n",
       "4                        ...                              -0.720759   \n",
       "\n",
       "  Subjectivity TitleSubjectivity  QuestionWord  QuestionWordInt  Tag1Label  \\\n",
       "0     0.531818               0.0         False                0       1463   \n",
       "1     0.263043               0.0         False                0       1071   \n",
       "2     0.389470               0.2          True                1        305   \n",
       "3     0.200000               0.0         False                0       1583   \n",
       "4     0.550000               0.0         False                0       1583   \n",
       "\n",
       "   Weekday                                          TitleText  \\\n",
       "0        6         [Maven, &, yui-compressor, Plugin, issues]   \n",
       "1        6  [Inconsistent, behaviour, of, html, select, dr...   \n",
       "2        0  [Why, Does, MSFT, C#, Compiler, Compile, fixed...   \n",
       "3        0         [Dump, sql, file, to, ClearDB, in, Heroku]   \n",
       "4        0    [mysql, query, to, get, rows, with, conditions]   \n",
       "\n",
       "                                          TitleCombo  \\\n",
       "0  titleMaven title& titleyui-compressor titlePlu...   \n",
       "1  titleInconsistent titlebehaviour titleof title...   \n",
       "2  titleWhy titleDoes titleMSFT titleC# titleComp...   \n",
       "3  titleDump titlesql titlefile titleto titleClea...   \n",
       "4  titlemysql titlequery titleto titleget titlero...   \n",
       "\n",
       "                                           TextCombo  \n",
       "0  titleMaven title& titleyui-compressor titlePlu...  \n",
       "1  titleInconsistent titlebehaviour titleof title...  \n",
       "2  titleWhy titleDoes titleMSFT titleC# titleComp...  \n",
       "3  titleDump titlesql titlefile titleto titleClea...  \n",
       "4  titlemysql titlequery titleto titleget titlero...  \n",
       "\n",
       "[5 rows x 30 columns]"
      ]
     },
     "execution_count": 32,
     "metadata": {},
     "output_type": "execute_result"
    }
   ],
   "source": [
    "#add new features to the test data\n",
    "makefeatures(test)\n",
    "test.head()"
   ]
  },
  {
   "cell_type": "code",
   "execution_count": 25,
   "metadata": {
    "collapsed": true
   },
   "outputs": [],
   "source": [
    "# define a function that accepts a DataFrame and returns the manually created features\n",
    "def get_manual(df):\n",
    "    return df.loc[:, ['UndeletedCountScaled', 'ReputationScaled','SeniorityScaled','BodyLengthScaled','TitleLengthScaled','TagCountScaled','Tag2Text','TitleSubjectivity','Subjectivity','QuestionWordInt']]"
   ]
  },
  {
   "cell_type": "code",
   "execution_count": 26,
   "metadata": {
    "collapsed": true
   },
   "outputs": [],
   "source": [
    "from sklearn.preprocessing import FunctionTransformer"
   ]
  },
  {
   "cell_type": "code",
   "execution_count": 27,
   "metadata": {
    "collapsed": false
   },
   "outputs": [
    {
     "data": {
      "text/plain": [
       "sklearn.preprocessing._function_transformer.FunctionTransformer"
      ]
     },
     "execution_count": 27,
     "metadata": {},
     "output_type": "execute_result"
    }
   ],
   "source": [
    "# create a stateless transformer from the get_manual function\n",
    "get_manual_ft = FunctionTransformer(get_manual, validate=False)\n",
    "type(get_manual_ft)"
   ]
  },
  {
   "cell_type": "markdown",
   "metadata": {},
   "source": [
    "### Instantiate logistic regression model, define X and y, get cross_val score\n",
    "I used logistic regression since the evaluation metric was going to be log loss. \n",
    "Without using class weights, my Public Leaderboard score got down to about 0.35. However, I realized that as my scores improved, the probabilities I was submitting were generally higher. This lead me to believe that many of the StackOverflow questions in the test set were open (Class 1) - more so than in the training data (which was 50-50 split). This was also indicated by the information from StackOverflow that only about 6% of their questions get closed. With the potentional for such an unbalanced class distribution, it made sense to try weighting the classes differently in predicting probabilities. This did lead to higher cross_val scores in my internal checks since cross validation was being conducted on the 50-50 training data...So this could in theory be risky (for going from public to private leaderboard), except that the test set was so large and the pattern in the probabilities was so consistent across it."
   ]
  },
  {
   "cell_type": "code",
   "execution_count": 100,
   "metadata": {
    "collapsed": false
   },
   "outputs": [],
   "source": [
    "#instantiate logistic regression model with a class weight of 6 for Class 1, the open class\n",
    "#a class weight of 9 lead to slight improvement on the public leaderboard (0.15), but in the interest of being \n",
    "#slightly more conservative for the public leaderboard I submitted 6 to 1 - in case the distribution was not as skewed\n",
    "from sklearn.linear_model import LogisticRegression\n",
    "logreg = LogisticRegression(class_weight={1:6})"
   ]
  },
  {
   "cell_type": "code",
   "execution_count": 29,
   "metadata": {
    "collapsed": true
   },
   "outputs": [],
   "source": [
    "#define X and y\n",
    "X = get_manual_ft.transform(train)\n",
    "y = train.OpenStatus"
   ]
  },
  {
   "cell_type": "code",
   "execution_count": 30,
   "metadata": {
    "collapsed": false
   },
   "outputs": [
    {
     "data": {
      "text/html": [
       "<div>\n",
       "<table border=\"1\" class=\"dataframe\">\n",
       "  <thead>\n",
       "    <tr style=\"text-align: right;\">\n",
       "      <th></th>\n",
       "      <th>UndeletedCountScaled</th>\n",
       "      <th>ReputationScaled</th>\n",
       "      <th>SeniorityScaled</th>\n",
       "      <th>BodyLengthScaled</th>\n",
       "      <th>TitleLengthScaled</th>\n",
       "      <th>TagCountScaled</th>\n",
       "      <th>Tag2Text</th>\n",
       "      <th>TitleSubjectivity</th>\n",
       "      <th>Subjectivity</th>\n",
       "      <th>QuestionWordInt</th>\n",
       "    </tr>\n",
       "  </thead>\n",
       "  <tbody>\n",
       "    <tr>\n",
       "      <th>0</th>\n",
       "      <td>-0.193828</td>\n",
       "      <td>-0.202586</td>\n",
       "      <td>0.101018</td>\n",
       "      <td>-0.221456</td>\n",
       "      <td>1.364503</td>\n",
       "      <td>-1.380128</td>\n",
       "      <td>1</td>\n",
       "      <td>0.633333</td>\n",
       "      <td>0.661905</td>\n",
       "      <td>1</td>\n",
       "    </tr>\n",
       "    <tr>\n",
       "      <th>1</th>\n",
       "      <td>0.050290</td>\n",
       "      <td>-0.126061</td>\n",
       "      <td>-0.346755</td>\n",
       "      <td>0.085657</td>\n",
       "      <td>0.285825</td>\n",
       "      <td>0.204326</td>\n",
       "      <td>0</td>\n",
       "      <td>0.000000</td>\n",
       "      <td>0.369697</td>\n",
       "      <td>1</td>\n",
       "    </tr>\n",
       "    <tr>\n",
       "      <th>2</th>\n",
       "      <td>-0.216021</td>\n",
       "      <td>-0.202586</td>\n",
       "      <td>-0.798228</td>\n",
       "      <td>-0.437045</td>\n",
       "      <td>-1.234130</td>\n",
       "      <td>0.204326</td>\n",
       "      <td>0</td>\n",
       "      <td>0.500000</td>\n",
       "      <td>0.500000</td>\n",
       "      <td>0</td>\n",
       "    </tr>\n",
       "    <tr>\n",
       "      <th>3</th>\n",
       "      <td>-0.204925</td>\n",
       "      <td>-0.201384</td>\n",
       "      <td>0.156528</td>\n",
       "      <td>0.059895</td>\n",
       "      <td>-0.841884</td>\n",
       "      <td>-0.587901</td>\n",
       "      <td>1</td>\n",
       "      <td>0.000000</td>\n",
       "      <td>0.525000</td>\n",
       "      <td>1</td>\n",
       "    </tr>\n",
       "    <tr>\n",
       "      <th>4</th>\n",
       "      <td>-0.060673</td>\n",
       "      <td>-0.069167</td>\n",
       "      <td>0.878145</td>\n",
       "      <td>-0.149592</td>\n",
       "      <td>1.315472</td>\n",
       "      <td>-0.587901</td>\n",
       "      <td>1</td>\n",
       "      <td>0.062500</td>\n",
       "      <td>0.700000</td>\n",
       "      <td>0</td>\n",
       "    </tr>\n",
       "  </tbody>\n",
       "</table>\n",
       "</div>"
      ],
      "text/plain": [
       "   UndeletedCountScaled  ReputationScaled  SeniorityScaled  BodyLengthScaled  \\\n",
       "0             -0.193828         -0.202586         0.101018         -0.221456   \n",
       "1              0.050290         -0.126061        -0.346755          0.085657   \n",
       "2             -0.216021         -0.202586        -0.798228         -0.437045   \n",
       "3             -0.204925         -0.201384         0.156528          0.059895   \n",
       "4             -0.060673         -0.069167         0.878145         -0.149592   \n",
       "\n",
       "   TitleLengthScaled  TagCountScaled  Tag2Text  TitleSubjectivity  \\\n",
       "0           1.364503       -1.380128         1           0.633333   \n",
       "1           0.285825        0.204326         0           0.000000   \n",
       "2          -1.234130        0.204326         0           0.500000   \n",
       "3          -0.841884       -0.587901         1           0.000000   \n",
       "4           1.315472       -0.587901         1           0.062500   \n",
       "\n",
       "   Subjectivity  QuestionWordInt  \n",
       "0      0.661905                1  \n",
       "1      0.369697                1  \n",
       "2      0.500000                0  \n",
       "3      0.525000                1  \n",
       "4      0.700000                0  "
      ]
     },
     "execution_count": 30,
     "metadata": {},
     "output_type": "execute_result"
    }
   ],
   "source": [
    "X.head(5)"
   ]
  },
  {
   "cell_type": "code",
   "execution_count": 64,
   "metadata": {
    "collapsed": false
   },
   "outputs": [
    {
     "data": {
      "text/plain": [
       "-0.66639946757234036"
      ]
     },
     "execution_count": 64,
     "metadata": {},
     "output_type": "execute_result"
    }
   ],
   "source": [
    "# evaluate with 5-fold cross-validation\n",
    "# this is the cross_val score I got without weighting - so the most representative score for \n",
    "# the prediction power of the features alone\n",
    "from sklearn.cross_validation import cross_val_score\n",
    "cross_val_score(logreg, X, y, cv=5, scoring='log_loss').mean()"
   ]
  },
  {
   "cell_type": "code",
   "execution_count": 39,
   "metadata": {
    "collapsed": true
   },
   "outputs": [],
   "source": [
    "# the Tag 2 in text feature was not included in the test data - adding it here\n",
    "def findtagtest(text):\n",
    "        if str(text).lower() in str(test.BodyMarkdown).lower():\n",
    "            return 1\n",
    "        else:\n",
    "            return 0\n",
    "\n",
    "test['Tag2Text'] = test['Tag2'].apply(findtagtest)"
   ]
  },
  {
   "cell_type": "code",
   "execution_count": 41,
   "metadata": {
    "collapsed": false
   },
   "outputs": [
    {
     "data": {
      "text/html": [
       "<div>\n",
       "<table border=\"1\" class=\"dataframe\">\n",
       "  <thead>\n",
       "    <tr style=\"text-align: right;\">\n",
       "      <th></th>\n",
       "      <th>UndeletedCountScaled</th>\n",
       "      <th>ReputationScaled</th>\n",
       "      <th>SeniorityScaled</th>\n",
       "      <th>BodyLengthScaled</th>\n",
       "      <th>TitleLengthScaled</th>\n",
       "      <th>TagCountScaled</th>\n",
       "      <th>Tag2Text</th>\n",
       "      <th>TitleSubjectivity</th>\n",
       "      <th>Subjectivity</th>\n",
       "      <th>QuestionWordInt</th>\n",
       "    </tr>\n",
       "  </thead>\n",
       "  <tbody>\n",
       "    <tr>\n",
       "      <th>0</th>\n",
       "      <td>-0.081026</td>\n",
       "      <td>-0.122563</td>\n",
       "      <td>0.364912</td>\n",
       "      <td>1.289627</td>\n",
       "      <td>-0.723031</td>\n",
       "      <td>0.087312</td>\n",
       "      <td>0</td>\n",
       "      <td>0.0</td>\n",
       "      <td>0.531818</td>\n",
       "      <td>0</td>\n",
       "    </tr>\n",
       "    <tr>\n",
       "      <th>1</th>\n",
       "      <td>-0.172551</td>\n",
       "      <td>-0.165595</td>\n",
       "      <td>-0.901078</td>\n",
       "      <td>0.588896</td>\n",
       "      <td>-0.171834</td>\n",
       "      <td>0.895384</td>\n",
       "      <td>1</td>\n",
       "      <td>0.0</td>\n",
       "      <td>0.263043</td>\n",
       "      <td>0</td>\n",
       "    </tr>\n",
       "    <tr>\n",
       "      <th>2</th>\n",
       "      <td>0.135307</td>\n",
       "      <td>0.052360</td>\n",
       "      <td>-0.538142</td>\n",
       "      <td>5.532380</td>\n",
       "      <td>0.429471</td>\n",
       "      <td>0.895384</td>\n",
       "      <td>1</td>\n",
       "      <td>0.2</td>\n",
       "      <td>0.389470</td>\n",
       "      <td>1</td>\n",
       "    </tr>\n",
       "    <tr>\n",
       "      <th>3</th>\n",
       "      <td>-0.172551</td>\n",
       "      <td>-0.015542</td>\n",
       "      <td>-0.395254</td>\n",
       "      <td>-0.334642</td>\n",
       "      <td>-0.823248</td>\n",
       "      <td>0.087312</td>\n",
       "      <td>0</td>\n",
       "      <td>0.0</td>\n",
       "      <td>0.200000</td>\n",
       "      <td>0</td>\n",
       "    </tr>\n",
       "    <tr>\n",
       "      <th>4</th>\n",
       "      <td>-0.155910</td>\n",
       "      <td>-0.146315</td>\n",
       "      <td>1.939541</td>\n",
       "      <td>0.038947</td>\n",
       "      <td>-0.572704</td>\n",
       "      <td>-0.720759</td>\n",
       "      <td>1</td>\n",
       "      <td>0.0</td>\n",
       "      <td>0.550000</td>\n",
       "      <td>0</td>\n",
       "    </tr>\n",
       "  </tbody>\n",
       "</table>\n",
       "</div>"
      ],
      "text/plain": [
       "   UndeletedCountScaled  ReputationScaled  SeniorityScaled  BodyLengthScaled  \\\n",
       "0             -0.081026         -0.122563         0.364912          1.289627   \n",
       "1             -0.172551         -0.165595        -0.901078          0.588896   \n",
       "2              0.135307          0.052360        -0.538142          5.532380   \n",
       "3             -0.172551         -0.015542        -0.395254         -0.334642   \n",
       "4             -0.155910         -0.146315         1.939541          0.038947   \n",
       "\n",
       "   TitleLengthScaled  TagCountScaled  Tag2Text  TitleSubjectivity  \\\n",
       "0          -0.723031        0.087312         0                0.0   \n",
       "1          -0.171834        0.895384         1                0.0   \n",
       "2           0.429471        0.895384         1                0.2   \n",
       "3          -0.823248        0.087312         0                0.0   \n",
       "4          -0.572704       -0.720759         1                0.0   \n",
       "\n",
       "   Subjectivity  QuestionWordInt  \n",
       "0      0.531818                0  \n",
       "1      0.263043                0  \n",
       "2      0.389470                1  \n",
       "3      0.200000                0  \n",
       "4      0.550000                0  "
      ]
     },
     "execution_count": 41,
     "metadata": {},
     "output_type": "execute_result"
    }
   ],
   "source": [
    "#transform test set as the training set was transoformed\n",
    "testset = get_manual_ft.transform(test)\n",
    "testset.head()"
   ]
  },
  {
   "cell_type": "markdown",
   "metadata": {},
   "source": [
    "### Fit the logistic regression model for the feature set and predict probabilities for the test data based on these features alone\n",
    "I used ensembling with the feature data and the text/vectorizer data separately. I compared the ensembling procedure below (with features and vectorizer data separately), with the results of a model using a FeatureUnion pipeline and predicting probabilites using the single pipeline. The results of the two methods were about the same, when I just averaged the feature probabilities with the vectorizer probabilities in the ensembling procedure. However, the features set overall was not adding a lot to the model (cross_val scores were only around .66), so ensembling and _weighting_ the vectorizer features more heavily than the engineered features lead to better public Leaderboard scores (around 0.35). The features _do_ add something though - with only the vectorized text data my score was around 0.50."
   ]
  },
  {
   "cell_type": "code",
   "execution_count": 101,
   "metadata": {
    "collapsed": false
   },
   "outputs": [
    {
     "data": {
      "text/plain": [
       "LogisticRegression(C=1.0, class_weight={1: 9}, dual=False, fit_intercept=True,\n",
       "          intercept_scaling=1, max_iter=100, multi_class='ovr', n_jobs=1,\n",
       "          penalty='l2', random_state=None, solver='liblinear', tol=0.0001,\n",
       "          verbose=0, warm_start=False)"
      ]
     },
     "execution_count": 101,
     "metadata": {},
     "output_type": "execute_result"
    }
   ],
   "source": [
    "logreg.fit(X,y)"
   ]
  },
  {
   "cell_type": "code",
   "execution_count": 102,
   "metadata": {
    "collapsed": false
   },
   "outputs": [
    {
     "data": {
      "text/plain": [
       "array([[ 0.05484463,  0.94515537],\n",
       "       [ 0.09893664,  0.90106336],\n",
       "       [ 0.01836226,  0.98163774],\n",
       "       ..., \n",
       "       [ 0.10720657,  0.89279343],\n",
       "       [ 0.1365372 ,  0.8634628 ],\n",
       "       [ 0.17502557,  0.82497443]])"
      ]
     },
     "execution_count": 102,
     "metadata": {},
     "output_type": "execute_result"
    }
   ],
   "source": [
    "new_feat_pred = logreg.predict_proba(testset)\n",
    "new_feat_pred"
   ]
  },
  {
   "cell_type": "markdown",
   "metadata": {},
   "source": [
    "### Use TF-IDF vectorizer on the text data and fit model\n",
    "I tested different parameters in the vectorizer and the only features that lead to improvement in cross_val scores were the ngram range and stop words definitions."
   ]
  },
  {
   "cell_type": "code",
   "execution_count": 68,
   "metadata": {
    "collapsed": true
   },
   "outputs": [],
   "source": [
    "from sklearn.feature_extraction.text import TfidfVectorizer\n",
    "vect = TfidfVectorizer(ngram_range = (1,3), stop_words='english')"
   ]
  },
  {
   "cell_type": "code",
   "execution_count": 69,
   "metadata": {
    "collapsed": false
   },
   "outputs": [
    {
     "data": {
      "text/plain": [
       "TfidfVectorizer(analyzer=u'word', binary=False, decode_error=u'strict',\n",
       "        dtype=<type 'numpy.int64'>, encoding=u'utf-8', input=u'content',\n",
       "        lowercase=True, max_df=1.0, max_features=None, min_df=1,\n",
       "        ngram_range=(1, 3), norm=u'l2', preprocessor=None, smooth_idf=True,\n",
       "        stop_words='english', strip_accents=None, sublinear_tf=False,\n",
       "        token_pattern=u'(?u)\\\\b\\\\w\\\\w+\\\\b', tokenizer=None, use_idf=True,\n",
       "        vocabulary=None)"
      ]
     },
     "execution_count": 69,
     "metadata": {},
     "output_type": "execute_result"
    }
   ],
   "source": [
    "vect"
   ]
  },
  {
   "cell_type": "code",
   "execution_count": 103,
   "metadata": {
    "collapsed": true
   },
   "outputs": [],
   "source": [
    "#for text data only\n",
    "textpipe = make_pipeline(vect, logreg)"
   ]
  },
  {
   "cell_type": "code",
   "execution_count": 72,
   "metadata": {
    "collapsed": false
   },
   "outputs": [
    {
     "data": {
      "text/plain": [
       "1    titleHow titleto titleinsert titleschemalocati...\n",
       "2    titleToo titlemany titlelookup titletables \\sW...\n",
       "3    titleWhat titleis titlethis titlePHP titlecode...\n",
       "4    titleSpring-Data titlemongodb titlequerying ti...\n",
       "Name: TextCombo, dtype: object"
      ]
     },
     "execution_count": 72,
     "metadata": {},
     "output_type": "execute_result"
    }
   ],
   "source": [
    "#run the vectorizer on the created column which includes the title info and the tags\n",
    "textdata = train.TextCombo\n",
    "textdata[1:5]"
   ]
  },
  {
   "cell_type": "code",
   "execution_count": null,
   "metadata": {
    "collapsed": false
   },
   "outputs": [],
   "source": [
    "#score was about -0.5065\n",
    "cross_val_score(textpipe, textdata, y, cv=5, scoring='log_loss').mean()"
   ]
  },
  {
   "cell_type": "code",
   "execution_count": 104,
   "metadata": {
    "collapsed": false
   },
   "outputs": [
    {
     "data": {
      "text/plain": [
       "Pipeline(steps=[('tfidfvectorizer', TfidfVectorizer(analyzer=u'word', binary=False, decode_error=u'strict',\n",
       "        dtype=<type 'numpy.int64'>, encoding=u'utf-8', input=u'content',\n",
       "        lowercase=True, max_df=1.0, max_features=None, min_df=1,\n",
       "        ngram_range=(1, 3), norm=u'l2', preprocessor=None, smoo...ty='l2', random_state=None, solver='liblinear', tol=0.0001,\n",
       "          verbose=0, warm_start=False))])"
      ]
     },
     "execution_count": 104,
     "metadata": {},
     "output_type": "execute_result"
    }
   ],
   "source": [
    "textpipe.fit(textdata, y)"
   ]
  },
  {
   "cell_type": "markdown",
   "metadata": {},
   "source": [
    "### Predict probabilites for the test data\n",
    "This is slightly odd, but I used only the BodyMarkdown text for the test set, despite having trained on the TextCombo (body, title, tags) in the training set - this lead to better scores than when I used the combo in the test data. The explanation may lie in the generalizability of the Body Markdown text from the training to the test set...The TFIDF values for the training data were affected by the Title and the Tags, and thus may have not been _as_ influenced by the body itself. This may have helped generalization to the body markdown in the test set, which was not identical to training of course. "
   ]
  },
  {
   "cell_type": "code",
   "execution_count": 74,
   "metadata": {
    "collapsed": true
   },
   "outputs": [],
   "source": [
    "#select text data for test probabilities\n",
    "testtext = test.BodyMarkdown"
   ]
  },
  {
   "cell_type": "code",
   "execution_count": 105,
   "metadata": {
    "collapsed": false
   },
   "outputs": [
    {
     "data": {
      "text/plain": [
       "array([[ 0.01503589,  0.98496411],\n",
       "       [ 0.00459657,  0.99540343],\n",
       "       [ 0.00202306,  0.99797694],\n",
       "       ..., \n",
       "       [ 0.02111382,  0.97888618],\n",
       "       [ 0.25484584,  0.74515416],\n",
       "       [ 0.05216519,  0.94783481]])"
      ]
     },
     "execution_count": 105,
     "metadata": {},
     "output_type": "execute_result"
    }
   ],
   "source": [
    "#predict class probabilities for the test set\n",
    "new_text_pred = textpipe.predict_proba(testtext)\n",
    "new_text_pred"
   ]
  },
  {
   "cell_type": "code",
   "execution_count": 106,
   "metadata": {
    "collapsed": false
   },
   "outputs": [],
   "source": [
    "#get probabilites of class one from the feature data and the vectorizer\n",
    "textpred = new_text_pred[:,1]\n",
    "featpred = new_feat_pred[:,1]"
   ]
  },
  {
   "cell_type": "code",
   "execution_count": 107,
   "metadata": {
    "collapsed": false
   },
   "outputs": [
    {
     "data": {
      "text/html": [
       "<div>\n",
       "<table border=\"1\" class=\"dataframe\">\n",
       "  <thead>\n",
       "    <tr style=\"text-align: right;\">\n",
       "      <th></th>\n",
       "      <th>PostId</th>\n",
       "      <th>PostCreationDate</th>\n",
       "      <th>OwnerUserId</th>\n",
       "      <th>OwnerCreationDate</th>\n",
       "      <th>ReputationAtPostCreation</th>\n",
       "      <th>OwnerUndeletedAnswerCountAtPostTime</th>\n",
       "      <th>Title</th>\n",
       "      <th>BodyMarkdown</th>\n",
       "      <th>Tag1</th>\n",
       "      <th>Tag2</th>\n",
       "      <th>...</th>\n",
       "      <th>Tag1Label</th>\n",
       "      <th>Weekday</th>\n",
       "      <th>TitleText</th>\n",
       "      <th>TitleCombo</th>\n",
       "      <th>TextCombo</th>\n",
       "      <th>Tag2Text</th>\n",
       "      <th>heavyweightprob3</th>\n",
       "      <th>logweight</th>\n",
       "      <th>logweight2</th>\n",
       "      <th>logweight3</th>\n",
       "    </tr>\n",
       "  </thead>\n",
       "  <tbody>\n",
       "    <tr>\n",
       "      <th>0</th>\n",
       "      <td>11768878</td>\n",
       "      <td>2012-08-01 23:10:12</td>\n",
       "      <td>756422</td>\n",
       "      <td>2011-05-16 21:49:59</td>\n",
       "      <td>155</td>\n",
       "      <td>11</td>\n",
       "      <td>Maven &amp; yui-compressor Plugin issues</td>\n",
       "      <td>I'm using the yui-compressor plugin for maven ...</td>\n",
       "      <td>maven</td>\n",
       "      <td>maven-3</td>\n",
       "      <td>...</td>\n",
       "      <td>1463</td>\n",
       "      <td>6</td>\n",
       "      <td>[Maven, &amp;, yui-compressor, Plugin, issues]</td>\n",
       "      <td>titleMaven title&amp; titleyui-compressor titlePlu...</td>\n",
       "      <td>titleMaven title&amp; titleyui-compressor titlePlu...</td>\n",
       "      <td>0</td>\n",
       "      <td>0.844077</td>\n",
       "      <td>0.944456</td>\n",
       "      <td>0.972307</td>\n",
       "      <td>0.981647</td>\n",
       "    </tr>\n",
       "    <tr>\n",
       "      <th>1</th>\n",
       "      <td>11768880</td>\n",
       "      <td>2012-08-01 23:10:21</td>\n",
       "      <td>1569892</td>\n",
       "      <td>2012-08-01 22:24:37</td>\n",
       "      <td>1</td>\n",
       "      <td>0</td>\n",
       "      <td>Inconsistent behaviour of html select dropdowns</td>\n",
       "      <td>I have written a javascript-generated web page...</td>\n",
       "      <td>html</td>\n",
       "      <td>select</td>\n",
       "      <td>...</td>\n",
       "      <td>1071</td>\n",
       "      <td>6</td>\n",
       "      <td>[Inconsistent, behaviour, of, html, select, dr...</td>\n",
       "      <td>titleInconsistent titlebehaviour titleof title...</td>\n",
       "      <td>titleInconsistent titlebehaviour titleof title...</td>\n",
       "      <td>1</td>\n",
       "      <td>0.904994</td>\n",
       "      <td>0.963014</td>\n",
       "      <td>0.981194</td>\n",
       "      <td>0.987542</td>\n",
       "    </tr>\n",
       "    <tr>\n",
       "      <th>2</th>\n",
       "      <td>11803678</td>\n",
       "      <td>2012-08-03 21:40:49</td>\n",
       "      <td>1301879</td>\n",
       "      <td>2012-03-29 21:01:29</td>\n",
       "      <td>781</td>\n",
       "      <td>37</td>\n",
       "      <td>Why Does MSFT C# Compiler Compile fixed Statem...</td>\n",
       "      <td>The .NET c# compiler (.NET 4.0) compiles the `...</td>\n",
       "      <td>c#</td>\n",
       "      <td>.net</td>\n",
       "      <td>...</td>\n",
       "      <td>305</td>\n",
       "      <td>0</td>\n",
       "      <td>[Why, Does, MSFT, C#, Compiler, Compile, fixed...</td>\n",
       "      <td>titleWhy titleDoes titleMSFT titleC# titleComp...</td>\n",
       "      <td>titleWhy titleDoes titleMSFT titleC# titleComp...</td>\n",
       "      <td>1</td>\n",
       "      <td>0.942060</td>\n",
       "      <td>0.985284</td>\n",
       "      <td>0.994176</td>\n",
       "      <td>0.996615</td>\n",
       "    </tr>\n",
       "    <tr>\n",
       "      <th>3</th>\n",
       "      <td>11803496</td>\n",
       "      <td>2012-08-03 21:24:02</td>\n",
       "      <td>1196150</td>\n",
       "      <td>2012-02-08 02:20:44</td>\n",
       "      <td>538</td>\n",
       "      <td>0</td>\n",
       "      <td>Dump sql file to ClearDB in Heroku</td>\n",
       "      <td>I have a sql file that I want to be dumped int...</td>\n",
       "      <td>mysql</td>\n",
       "      <td>ruby-on-rails</td>\n",
       "      <td>...</td>\n",
       "      <td>1583</td>\n",
       "      <td>0</td>\n",
       "      <td>[Dump, sql, file, to, ClearDB, in, Heroku]</td>\n",
       "      <td>titleDump titlesql titlefile titleto titleClea...</td>\n",
       "      <td>titleDump titlesql titlefile titleto titleClea...</td>\n",
       "      <td>0</td>\n",
       "      <td>0.502241</td>\n",
       "      <td>0.707374</td>\n",
       "      <td>0.805444</td>\n",
       "      <td>0.851012</td>\n",
       "    </tr>\n",
       "    <tr>\n",
       "      <th>4</th>\n",
       "      <td>11803700</td>\n",
       "      <td>2012-08-03 21:43:13</td>\n",
       "      <td>772581</td>\n",
       "      <td>2009-11-13 16:24:05</td>\n",
       "      <td>70</td>\n",
       "      <td>2</td>\n",
       "      <td>mysql query to get rows with conditions</td>\n",
       "      <td>\\r\\nI have a table called \"articles\" on the da...</td>\n",
       "      <td>mysql</td>\n",
       "      <td>query</td>\n",
       "      <td>...</td>\n",
       "      <td>1583</td>\n",
       "      <td>0</td>\n",
       "      <td>[mysql, query, to, get, rows, with, conditions]</td>\n",
       "      <td>titlemysql titlequery titleto titleget titlero...</td>\n",
       "      <td>titlemysql titlequery titleto titleget titlero...</td>\n",
       "      <td>1</td>\n",
       "      <td>0.728354</td>\n",
       "      <td>0.884388</td>\n",
       "      <td>0.936322</td>\n",
       "      <td>0.955811</td>\n",
       "    </tr>\n",
       "    <tr>\n",
       "      <th>5</th>\n",
       "      <td>11927241</td>\n",
       "      <td>2012-08-13 01:29:24</td>\n",
       "      <td>747871</td>\n",
       "      <td>2011-05-11 01:38:46</td>\n",
       "      <td>176</td>\n",
       "      <td>0</td>\n",
       "      <td>Replace all '-' in a url</td>\n",
       "      <td>my code now only replaces the first `-` with s...</td>\n",
       "      <td>jquery</td>\n",
       "      <td>NaN</td>\n",
       "      <td>...</td>\n",
       "      <td>1278</td>\n",
       "      <td>1</td>\n",
       "      <td>[Replace, all, '-', in, a, url]</td>\n",
       "      <td>titleReplace titleall title'-' titlein titlea ...</td>\n",
       "      <td>titleReplace titleall title'-' titlein titlea ...</td>\n",
       "      <td>0</td>\n",
       "      <td>0.660596</td>\n",
       "      <td>0.831422</td>\n",
       "      <td>0.900151</td>\n",
       "      <td>0.928390</td>\n",
       "    </tr>\n",
       "    <tr>\n",
       "      <th>6</th>\n",
       "      <td>11927226</td>\n",
       "      <td>2012-08-13 01:26:26</td>\n",
       "      <td>1019215</td>\n",
       "      <td>2011-10-28 22:52:21</td>\n",
       "      <td>2657</td>\n",
       "      <td>161</td>\n",
       "      <td>IIS Permissions: 'Everyone' works, but IIS Def...</td>\n",
       "      <td>I got an error stating that the Site.master co...</td>\n",
       "      <td>asp.net</td>\n",
       "      <td>permissions</td>\n",
       "      <td>...</td>\n",
       "      <td>157</td>\n",
       "      <td>1</td>\n",
       "      <td>[IIS, Permissions:, 'Everyone', works,, but, I...</td>\n",
       "      <td>titleIIS titlePermissions: title'Everyone' tit...</td>\n",
       "      <td>titleIIS titlePermissions: title'Everyone' tit...</td>\n",
       "      <td>0</td>\n",
       "      <td>0.829004</td>\n",
       "      <td>0.931079</td>\n",
       "      <td>0.963323</td>\n",
       "      <td>0.975037</td>\n",
       "    </tr>\n",
       "    <tr>\n",
       "      <th>7</th>\n",
       "      <td>11927247</td>\n",
       "      <td>2012-08-13 01:31:03</td>\n",
       "      <td>1402540</td>\n",
       "      <td>2012-05-18 05:18:06</td>\n",
       "      <td>11</td>\n",
       "      <td>0</td>\n",
       "      <td>iCloud Save data With UIDocument crash</td>\n",
       "      <td>I am trying to use iCloud to store my app's us...</td>\n",
       "      <td>ios</td>\n",
       "      <td>icloud</td>\n",
       "      <td>...</td>\n",
       "      <td>1182</td>\n",
       "      <td>1</td>\n",
       "      <td>[iCloud, Save, data, With, UIDocument, crash]</td>\n",
       "      <td>titleiCloud titleSave titledata titleWith titl...</td>\n",
       "      <td>titleiCloud titleSave titledata titleWith titl...</td>\n",
       "      <td>1</td>\n",
       "      <td>0.907899</td>\n",
       "      <td>0.968700</td>\n",
       "      <td>0.985409</td>\n",
       "      <td>0.990763</td>\n",
       "    </tr>\n",
       "    <tr>\n",
       "      <th>8</th>\n",
       "      <td>11927248</td>\n",
       "      <td>2012-08-13 01:31:05</td>\n",
       "      <td>492015</td>\n",
       "      <td>2010-10-30 07:49:39</td>\n",
       "      <td>202</td>\n",
       "      <td>4</td>\n",
       "      <td>Java thread stops with no Exception</td>\n",
       "      <td>When I use 4 threads for my program there is u...</td>\n",
       "      <td>java</td>\n",
       "      <td>multithreading</td>\n",
       "      <td>...</td>\n",
       "      <td>1217</td>\n",
       "      <td>1</td>\n",
       "      <td>[Java, thread, stops, with, no, Exception]</td>\n",
       "      <td>titleJava titlethread titlestops titlewith tit...</td>\n",
       "      <td>titleJava titlethread titlestops titlewith tit...</td>\n",
       "      <td>0</td>\n",
       "      <td>0.521534</td>\n",
       "      <td>0.712785</td>\n",
       "      <td>0.803684</td>\n",
       "      <td>0.846579</td>\n",
       "    </tr>\n",
       "    <tr>\n",
       "      <th>9</th>\n",
       "      <td>11927254</td>\n",
       "      <td>2012-08-13 01:31:45</td>\n",
       "      <td>1367229</td>\n",
       "      <td>2012-05-01 05:47:07</td>\n",
       "      <td>70</td>\n",
       "      <td>5</td>\n",
       "      <td>Inserting images into a PDF using JODConverter</td>\n",
       "      <td>Basically I'm scanning in a whole bunch of doc...</td>\n",
       "      <td>java</td>\n",
       "      <td>netbeans</td>\n",
       "      <td>...</td>\n",
       "      <td>1217</td>\n",
       "      <td>1</td>\n",
       "      <td>[Inserting, images, into, a, PDF, using, JODCo...</td>\n",
       "      <td>titleInserting titleimages titleinto titlea ti...</td>\n",
       "      <td>titleInserting titleimages titleinto titlea ti...</td>\n",
       "      <td>1</td>\n",
       "      <td>0.791660</td>\n",
       "      <td>0.914257</td>\n",
       "      <td>0.953906</td>\n",
       "      <td>0.968524</td>\n",
       "    </tr>\n",
       "  </tbody>\n",
       "</table>\n",
       "<p>10 rows × 35 columns</p>\n",
       "</div>"
      ],
      "text/plain": [
       "     PostId    PostCreationDate  OwnerUserId   OwnerCreationDate  \\\n",
       "0  11768878 2012-08-01 23:10:12       756422 2011-05-16 21:49:59   \n",
       "1  11768880 2012-08-01 23:10:21      1569892 2012-08-01 22:24:37   \n",
       "2  11803678 2012-08-03 21:40:49      1301879 2012-03-29 21:01:29   \n",
       "3  11803496 2012-08-03 21:24:02      1196150 2012-02-08 02:20:44   \n",
       "4  11803700 2012-08-03 21:43:13       772581 2009-11-13 16:24:05   \n",
       "5  11927241 2012-08-13 01:29:24       747871 2011-05-11 01:38:46   \n",
       "6  11927226 2012-08-13 01:26:26      1019215 2011-10-28 22:52:21   \n",
       "7  11927247 2012-08-13 01:31:03      1402540 2012-05-18 05:18:06   \n",
       "8  11927248 2012-08-13 01:31:05       492015 2010-10-30 07:49:39   \n",
       "9  11927254 2012-08-13 01:31:45      1367229 2012-05-01 05:47:07   \n",
       "\n",
       "   ReputationAtPostCreation  OwnerUndeletedAnswerCountAtPostTime  \\\n",
       "0                       155                                   11   \n",
       "1                         1                                    0   \n",
       "2                       781                                   37   \n",
       "3                       538                                    0   \n",
       "4                        70                                    2   \n",
       "5                       176                                    0   \n",
       "6                      2657                                  161   \n",
       "7                        11                                    0   \n",
       "8                       202                                    4   \n",
       "9                        70                                    5   \n",
       "\n",
       "                                               Title  \\\n",
       "0               Maven & yui-compressor Plugin issues   \n",
       "1    Inconsistent behaviour of html select dropdowns   \n",
       "2  Why Does MSFT C# Compiler Compile fixed Statem...   \n",
       "3                 Dump sql file to ClearDB in Heroku   \n",
       "4            mysql query to get rows with conditions   \n",
       "5                           Replace all '-' in a url   \n",
       "6  IIS Permissions: 'Everyone' works, but IIS Def...   \n",
       "7             iCloud Save data With UIDocument crash   \n",
       "8                Java thread stops with no Exception   \n",
       "9     Inserting images into a PDF using JODConverter   \n",
       "\n",
       "                                        BodyMarkdown     Tag1            Tag2  \\\n",
       "0  I'm using the yui-compressor plugin for maven ...    maven         maven-3   \n",
       "1  I have written a javascript-generated web page...     html          select   \n",
       "2  The .NET c# compiler (.NET 4.0) compiles the `...       c#            .net   \n",
       "3  I have a sql file that I want to be dumped int...    mysql   ruby-on-rails   \n",
       "4  \\r\\nI have a table called \"articles\" on the da...    mysql           query   \n",
       "5  my code now only replaces the first `-` with s...   jquery             NaN   \n",
       "6  I got an error stating that the Site.master co...  asp.net     permissions   \n",
       "7  I am trying to use iCloud to store my app's us...      ios          icloud   \n",
       "8  When I use 4 threads for my program there is u...     java  multithreading   \n",
       "9  Basically I'm scanning in a whole bunch of doc...     java        netbeans   \n",
       "\n",
       "      ...     Tag1Label Weekday  \\\n",
       "0     ...          1463       6   \n",
       "1     ...          1071       6   \n",
       "2     ...           305       0   \n",
       "3     ...          1583       0   \n",
       "4     ...          1583       0   \n",
       "5     ...          1278       1   \n",
       "6     ...           157       1   \n",
       "7     ...          1182       1   \n",
       "8     ...          1217       1   \n",
       "9     ...          1217       1   \n",
       "\n",
       "                                           TitleText  \\\n",
       "0         [Maven, &, yui-compressor, Plugin, issues]   \n",
       "1  [Inconsistent, behaviour, of, html, select, dr...   \n",
       "2  [Why, Does, MSFT, C#, Compiler, Compile, fixed...   \n",
       "3         [Dump, sql, file, to, ClearDB, in, Heroku]   \n",
       "4    [mysql, query, to, get, rows, with, conditions]   \n",
       "5                    [Replace, all, '-', in, a, url]   \n",
       "6  [IIS, Permissions:, 'Everyone', works,, but, I...   \n",
       "7      [iCloud, Save, data, With, UIDocument, crash]   \n",
       "8         [Java, thread, stops, with, no, Exception]   \n",
       "9  [Inserting, images, into, a, PDF, using, JODCo...   \n",
       "\n",
       "                                          TitleCombo  \\\n",
       "0  titleMaven title& titleyui-compressor titlePlu...   \n",
       "1  titleInconsistent titlebehaviour titleof title...   \n",
       "2  titleWhy titleDoes titleMSFT titleC# titleComp...   \n",
       "3  titleDump titlesql titlefile titleto titleClea...   \n",
       "4  titlemysql titlequery titleto titleget titlero...   \n",
       "5  titleReplace titleall title'-' titlein titlea ...   \n",
       "6  titleIIS titlePermissions: title'Everyone' tit...   \n",
       "7  titleiCloud titleSave titledata titleWith titl...   \n",
       "8  titleJava titlethread titlestops titlewith tit...   \n",
       "9  titleInserting titleimages titleinto titlea ti...   \n",
       "\n",
       "                                           TextCombo  Tag2Text  \\\n",
       "0  titleMaven title& titleyui-compressor titlePlu...         0   \n",
       "1  titleInconsistent titlebehaviour titleof title...         1   \n",
       "2  titleWhy titleDoes titleMSFT titleC# titleComp...         1   \n",
       "3  titleDump titlesql titlefile titleto titleClea...         0   \n",
       "4  titlemysql titlequery titleto titleget titlero...         1   \n",
       "5  titleReplace titleall title'-' titlein titlea ...         0   \n",
       "6  titleIIS titlePermissions: title'Everyone' tit...         0   \n",
       "7  titleiCloud titleSave titledata titleWith titl...         1   \n",
       "8  titleJava titlethread titlestops titlewith tit...         0   \n",
       "9  titleInserting titleimages titleinto titlea ti...         1   \n",
       "\n",
       "   heavyweightprob3  logweight  logweight2  logweight3  \n",
       "0          0.844077   0.944456    0.972307    0.981647  \n",
       "1          0.904994   0.963014    0.981194    0.987542  \n",
       "2          0.942060   0.985284    0.994176    0.996615  \n",
       "3          0.502241   0.707374    0.805444    0.851012  \n",
       "4          0.728354   0.884388    0.936322    0.955811  \n",
       "5          0.660596   0.831422    0.900151    0.928390  \n",
       "6          0.829004   0.931079    0.963323    0.975037  \n",
       "7          0.907899   0.968700    0.985409    0.990763  \n",
       "8          0.521534   0.712785    0.803684    0.846579  \n",
       "9          0.791660   0.914257    0.953906    0.968524  \n",
       "\n",
       "[10 rows x 35 columns]"
      ]
     },
     "execution_count": 107,
     "metadata": {},
     "output_type": "execute_result"
    }
   ],
   "source": [
    "# calculate the predicted probabilities for all rows by weighting the text data vectorizer features more heavily\n",
    "# tried weightings from x2 to x12. x11 lead to the best performance on the public leaderboard\n",
    "test['logweight2'] = pd.DataFrame((textpred*11 + featpred) / 12)\n",
    "test.head(10)"
   ]
  },
  {
   "cell_type": "code",
   "execution_count": 108,
   "metadata": {
    "collapsed": true
   },
   "outputs": [],
   "source": [
    "pd.DataFrame({'id':test.PostId, 'OpenStatus':test.logweight3}).set_index('id').to_csv('sub26_logweight.csv')"
   ]
  }
 ],
 "metadata": {
  "anaconda-cloud": {},
  "kernelspec": {
   "display_name": "Python 3",
   "language": "python",
   "name": "python3"
  },
  "language_info": {
   "codemirror_mode": {
    "name": "ipython",
    "version": 3
   },
   "file_extension": ".py",
   "mimetype": "text/x-python",
   "name": "python",
   "nbconvert_exporter": "python",
   "pygments_lexer": "ipython3",
   "version": "3.5.2"
  }
 },
 "nbformat": 4,
 "nbformat_minor": 1
}
