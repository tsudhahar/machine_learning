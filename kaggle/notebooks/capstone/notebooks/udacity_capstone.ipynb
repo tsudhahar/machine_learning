{
 "cells": [
  {
   "cell_type": "markdown",
   "metadata": {},
   "source": [
    "# Capstone Project - Cuisine Categorization by the recipe of ingredients"
   ]
  },
  {
   "cell_type": "code",
   "execution_count": 1,
   "metadata": {
    "collapsed": true
   },
   "outputs": [],
   "source": [
    "# for Python 2: use print only as a function\n",
    "from __future__ import print_function"
   ]
  },
  {
   "cell_type": "markdown",
   "metadata": {},
   "source": [
    "## Data Exploration and Adding features\n"
   ]
  },
  {
   "cell_type": "code",
   "execution_count": 3,
   "metadata": {
    "collapsed": true
   },
   "outputs": [],
   "source": [
    "import pandas as pd "
   ]
  },
  {
   "cell_type": "code",
   "execution_count": 4,
   "metadata": {
    "collapsed": false
   },
   "outputs": [],
   "source": [
    "train = pd.read_json('../data/train.json')\n",
    "test = pd.read_json('../data/test.json')"
   ]
  },
  {
   "cell_type": "code",
   "execution_count": 5,
   "metadata": {
    "collapsed": false
   },
   "outputs": [
    {
     "data": {
      "text/html": [
       "<div>\n",
       "<style scoped>\n",
       "    .dataframe tbody tr th:only-of-type {\n",
       "        vertical-align: middle;\n",
       "    }\n",
       "\n",
       "    .dataframe tbody tr th {\n",
       "        vertical-align: top;\n",
       "    }\n",
       "\n",
       "    .dataframe thead th {\n",
       "        text-align: right;\n",
       "    }\n",
       "</style>\n",
       "<table border=\"1\" class=\"dataframe\">\n",
       "  <thead>\n",
       "    <tr style=\"text-align: right;\">\n",
       "      <th></th>\n",
       "      <th>cuisine</th>\n",
       "      <th>id</th>\n",
       "      <th>ingredients</th>\n",
       "    </tr>\n",
       "  </thead>\n",
       "  <tbody>\n",
       "    <tr>\n",
       "      <th>0</th>\n",
       "      <td>greek</td>\n",
       "      <td>10259</td>\n",
       "      <td>[romaine lettuce, black olives, grape tomatoes...</td>\n",
       "    </tr>\n",
       "    <tr>\n",
       "      <th>1</th>\n",
       "      <td>southern_us</td>\n",
       "      <td>25693</td>\n",
       "      <td>[plain flour, ground pepper, salt, tomatoes, g...</td>\n",
       "    </tr>\n",
       "    <tr>\n",
       "      <th>2</th>\n",
       "      <td>filipino</td>\n",
       "      <td>20130</td>\n",
       "      <td>[eggs, pepper, salt, mayonaise, cooking oil, g...</td>\n",
       "    </tr>\n",
       "    <tr>\n",
       "      <th>3</th>\n",
       "      <td>indian</td>\n",
       "      <td>22213</td>\n",
       "      <td>[water, vegetable oil, wheat, salt]</td>\n",
       "    </tr>\n",
       "    <tr>\n",
       "      <th>4</th>\n",
       "      <td>indian</td>\n",
       "      <td>13162</td>\n",
       "      <td>[black pepper, shallots, cornflour, cayenne pe...</td>\n",
       "    </tr>\n",
       "  </tbody>\n",
       "</table>\n",
       "</div>"
      ],
      "text/plain": [
       "       cuisine     id                                        ingredients\n",
       "0        greek  10259  [romaine lettuce, black olives, grape tomatoes...\n",
       "1  southern_us  25693  [plain flour, ground pepper, salt, tomatoes, g...\n",
       "2     filipino  20130  [eggs, pepper, salt, mayonaise, cooking oil, g...\n",
       "3       indian  22213                [water, vegetable oil, wheat, salt]\n",
       "4       indian  13162  [black pepper, shallots, cornflour, cayenne pe..."
      ]
     },
     "execution_count": 5,
     "metadata": {},
     "output_type": "execute_result"
    }
   ],
   "source": [
    "train.head()"
   ]
  },
  {
   "cell_type": "code",
   "execution_count": 6,
   "metadata": {
    "collapsed": false
   },
   "outputs": [
    {
     "data": {
      "text/plain": [
       "(39774, 3)"
      ]
     },
     "execution_count": 6,
     "metadata": {},
     "output_type": "execute_result"
    }
   ],
   "source": [
    "train.shape"
   ]
  },
  {
   "cell_type": "code",
   "execution_count": 7,
   "metadata": {
    "collapsed": false
   },
   "outputs": [
    {
     "data": {
      "text/plain": [
       "(9944, 2)"
      ]
     },
     "execution_count": 7,
     "metadata": {},
     "output_type": "execute_result"
    }
   ],
   "source": [
    "test.shape"
   ]
  },
  {
   "cell_type": "code",
   "execution_count": 8,
   "metadata": {
    "collapsed": false
   },
   "outputs": [
    {
     "data": {
      "text/plain": [
       "<matplotlib.axes._subplots.AxesSubplot at 0xc4259e8>"
      ]
     },
     "execution_count": 8,
     "metadata": {},
     "output_type": "execute_result"
    },
    {
     "data": {
      "image/png": "[encoded data removed]",
      "text/plain": [
       "<matplotlib.figure.Figure at 0xbc20fd0>"
      ]
     },
     "metadata": {},
     "output_type": "display_data"
    }
   ],
   "source": [
    "%matplotlib inline\n",
    "import matplotlib.pyplot as plt\n",
    "\n",
    "train['cuisine'].value_counts().plot(kind='barh')"
   ]
  },
  {
   "cell_type": "markdown",
   "metadata": {},
   "source": [
    "##Exploratory Visualization"
   ]
  },
  {
   "cell_type": "markdown",
   "metadata": {},
   "source": [
    "Next, let me explore on the data exploration. especially on\n",
    "\n",
    "* how many ingredients there are? Out them, find the unique ingredients.\n",
    "* how these ingredients made up of individual words?"
   ]
  },
  {
   "cell_type": "code",
   "execution_count": 9,
   "metadata": {
    "collapsed": false
   },
   "outputs": [
    {
     "name": "stdout",
     "output_type": "stream",
     "text": [
      "428275\n",
      "6703\n"
     ]
    }
   ],
   "source": [
    "import re\n",
    "\n",
    "total_ingredients = []Exploratory Visualization\n",
    "for lst_ingredients in train.ingredients:\n",
    "    total_ingredients += [ingredient.lower() for ingredient in lst_ingredients]\n",
    "\n",
    "no_of_ingredients = len(total_ingredients)\n",
    "uniq_ingredients = len(set(total_ingredients))\n",
    "\n",
    "print(no_of_ingredients)\n",
    "print(uniq_ingredients)"
   ]
  },
  {
   "cell_type": "code",
   "execution_count": 10,
   "metadata": {
    "collapsed": false
   },
   "outputs": [
    {
     "name": "stdout",
     "output_type": "stream",
     "text": [
      "807802\n",
      "3152\n"
     ]
    }
   ],
   "source": [
    "word_split = re.compile('[,. ]+')\n",
    "total_ingredient_words = []\n",
    "\n",
    "for ingredients in total_ingredients:\n",
    "    total_ingredient_words += re.split(word_split, ingredients)\n",
    "    \n",
    "no_of_ingredients_words = len(total_ingredient_words)\n",
    "uniq_ingredients_words = len(set(total_ingredient_words))\n",
    "\n",
    "print(no_of_ingredients_words)\n",
    "print(uniq_ingredients_words)"
   ]
  },
  {
   "cell_type": "code",
   "execution_count": 12,
   "metadata": {
    "collapsed": false
   },
   "outputs": [
    {
     "data": {
      "image/png": "[encoded data removed]",
      "text/plain": [
       "<matplotlib.figure.Figure at 0x126e7198>"
      ]
     },
     "metadata": {},
     "output_type": "display_data"
    },
    {
     "data": {
      "image/png": "[encoded data removed]",
      "text/plain": [
       "<matplotlib.figure.Figure at 0x129f9320>"
      ]
     },
     "metadata": {},
     "output_type": "display_data"
    },
    {
     "data": {
      "image/png": "[encoded data removed]",
      "text/plain": [
       "<matplotlib.figure.Figure at 0x12bb0f98>"
      ]
     },
     "metadata": {},
     "output_type": "display_data"
    },
    {
     "data": {
      "image/png": "[encoded data removed]",
      "text/plain": [
       "<matplotlib.figure.Figure at 0x12bc5be0>"
      ]
     },
     "metadata": {},
     "output_type": "display_data"
    }
   ],
   "source": [
    "from collections import Counter\n",
    "import seaborn as sns\n",
    "import numpy as np\n",
    "\n",
    "cntr = {}\n",
    "for c in train['cuisine'].unique():\n",
    "    cntr[c] = Counter()\n",
    "    idx = (train['cuisine'] == c)\n",
    "    for ingredients in train[idx]['ingredients']:\n",
    "        cntr[c].update(ingredients)\n",
    "\n",
    "common_ingredients = pd.DataFrame([[items[0] for items in cntr[c].most_common(5)] for c in cntr],\n",
    "            index=[c for c in cntr],\n",
    "            columns=['Most_Common_{}'.format(i) for i in range(1, 6)])\n",
    "\n",
    "common_ingredients\n",
    "\n",
    "counter1 = Counter(common_ingredients['Most_Common_1'])\n",
    "\n",
    "ing_name1 = counter1.keys()\n",
    "ing_count1 = counter1.values()\n",
    "\n",
    "counter2 = Counter(common_ingredients['Most_Common_2'])\n",
    "ing_name2 = counter2.keys()\n",
    "ing_count2 = counter2.values()\n",
    "\n",
    "counter3 = Counter(common_ingredients['Most_Common_3'])\n",
    "ing_name3 = counter3.keys()\n",
    "ing_count3 = counter3.values()\n",
    "\n",
    "counter4 = Counter(common_ingredients['Most_Common_4'])\n",
    "ing_name4 = counter4.keys()\n",
    "ing_count4 = counter4.values()\n",
    "\n",
    "fig = plt.figure(figsize=(5, 5))\n",
    "#fig, ax = plt.subplots(4, 4, figsize=(40, 40))\n",
    "\n",
    "# Plot histogram using matplotlib bar().\n",
    "indexes = np.arange(len(ing_name1))\n",
    "width = 0.2\n",
    "plt.bar(indexes, ing_count1, width)\n",
    "plt.xticks(indexes + width * 0.5, ing_name1,rotation='vertical')\n",
    "plt.title('Most Common Ingredients Rank 1')\n",
    "plt.show()\n",
    "fig.savefig('rank1.png')\n",
    "\n",
    "fig = plt.figure(figsize=(5, 5))\n",
    "indexes = np.arange(len(ing_name2))\n",
    "width = 0.2\n",
    "plt.bar(indexes, ing_count2, width)\n",
    "plt.xticks(indexes + width * 0.5, ing_name2,rotation='vertical')\n",
    "plt.title('Most Common Ingredients Rank 2')\n",
    "plt.show()\n",
    "fig.savefig('rank2.png')\n",
    "\n",
    "fig = plt.figure(figsize=(5, 5))\n",
    "indexes = np.arange(len(ing_name3))\n",
    "width = 0.2\n",
    "plt.bar(indexes, ing_count3, width)\n",
    "plt.xticks(indexes + width * 0.5, ing_name3,rotation='vertical')\n",
    "plt.title('Most Common Ingredients Rank 3')\n",
    "plt.show()\n",
    "fig.savefig('rank3.png')\n",
    "\n",
    "fig = plt.figure(figsize=(5, 5))\n",
    "indexes = np.arange(len(ing_name4))\n",
    "width = 0.2\n",
    "plt.bar(indexes, ing_count4, width)\n",
    "plt.xticks(indexes + width * 0.5, ing_name4,rotation='vertical')\n",
    "plt.title('Most Common Ingredients Rank 4')\n",
    "plt.show()\n",
    "fig.savefig('rank4.png')\n"
   ]
  },
  {
   "cell_type": "code",
   "execution_count": 13,
   "metadata": {
    "collapsed": false
   },
   "outputs": [
    {
     "data": {
      "image/png": "[encoded data removed]",
      "text/plain": [
       "<matplotlib.figure.Figure at 0x124f1be0>"
      ]
     },
     "metadata": {},
     "output_type": "display_data"
    }
   ],
   "source": [
    "list_ingredients = np.unique(common_ingredients.values.ravel())\n",
    "\n",
    "train['total_ingredients'] = train['ingredients'].map(\":\".join)\n",
    "\n",
    "fig, ax = plt.subplots(5, 5, figsize=(40, 40))\n",
    "for ingredient, ax_idx in zip(list_ingredients, range(25)):\n",
    "    indexes = train['total_ingredients'].str.contains(ingredient)\n",
    "    ingredient_occur = (train[indexes]['cuisine'].value_counts() / train['cuisine'].value_counts())\n",
    "    ingredient_occur.plot(kind='bar', ax=ax.ravel()[ax_idx], fontsize=10, title=ingredient)\n",
    "\n",
    "fig.savefig('ingredient_occur.plot.png')\n"
   ]
  },
  {
   "cell_type": "markdown",
   "metadata": {},
   "source": [
    "## Benchmark Model"
   ]
  },
  {
   "cell_type": "code",
   "execution_count": 14,
   "metadata": {
    "collapsed": false
   },
   "outputs": [],
   "source": [
    "from text_unidecode import unidecode\n",
    "\n",
    "def xform_string(str_list):\n",
    "    return \", \".join([\n",
    "        unidecode(str).lower()\n",
    "        for str in str_list\n",
    "    ])\n"
   ]
  },
  {
   "cell_type": "code",
   "execution_count": 15,
   "metadata": {
    "collapsed": false
   },
   "outputs": [
    {
     "name": "stdout",
     "output_type": "stream",
     "text": [
      "Training set has 31819 samples.\n",
      "Testing set has 7955 samples.\n",
      "31819\n",
      "7955\n"
     ]
    },
    {
     "name": "stderr",
     "output_type": "stream",
     "text": [
      "C:\\_workspace\\Anaconda\\lib\\site-packages\\sklearn\\cross_validation.py:41: DeprecationWarning: This module was deprecated in version 0.18 in favor of the model_selection module into which all the refactored classes and functions are moved. Also note that the interface of the new CV iterators are different from that of this module. This module will be removed in 0.20.\n",
      "  \"This module will be removed in 0.20.\", DeprecationWarning)\n"
     ]
    },
    {
     "data": {
      "text/plain": [
       "(31819, 3)"
      ]
     },
     "execution_count": 15,
     "metadata": {},
     "output_type": "execute_result"
    }
   ],
   "source": [
    "# Import train_test_split\n",
    "from sklearn.cross_validation import train_test_split\n",
    "\n",
    "train_features= train.drop('cuisine', axis = 1)\n",
    "train_cuisine = pd.DataFrame(train['cuisine'])\n",
    "\n",
    "# Split the 'features' and 'Yummly' data into training and testing sets\n",
    "X_train, X_test, y_train, y_test = train_test_split(train_features, \n",
    "                                                    train_cuisine , \n",
    "                                                    test_size = 0.2, \n",
    "                                                    random_state = 0)\n",
    "\n",
    "# Show the results of the split\n",
    "print (\"Training set has {} samples.\".format(X_train.shape[0]))\n",
    "print (\"Testing set has {} samples.\".format(X_test.shape[0]))\n",
    "print (y_train.shape[0])\n",
    "print (y_test.shape[0])\n",
    "X_train.shape\n",
    "\n"
   ]
  },
  {
   "cell_type": "code",
   "execution_count": 16,
   "metadata": {
    "collapsed": false
   },
   "outputs": [
    {
     "data": {
      "text/plain": [
       "(7955, 3)"
      ]
     },
     "execution_count": 16,
     "metadata": {},
     "output_type": "execute_result"
    }
   ],
   "source": [
    "X_test.shape\n",
    "#X_test.head"
   ]
  },
  {
   "cell_type": "code",
   "execution_count": 17,
   "metadata": {
    "collapsed": false
   },
   "outputs": [
    {
     "data": {
      "text/plain": [
       "<bound method DataFrame.head of             cuisine\n",
       "11565       mexican\n",
       "16731    vietnamese\n",
       "8528     vietnamese\n",
       "35117  cajun_creole\n",
       "13945        french\n",
       "20636        french\n",
       "23333         irish\n",
       "23074    vietnamese\n",
       "26561        indian\n",
       "27456        indian\n",
       "10244       italian\n",
       "25412        french\n",
       "11744       italian\n",
       "37608      japanese\n",
       "33820       chinese\n",
       "25682       chinese\n",
       "24603        french\n",
       "36673   southern_us\n",
       "30867       mexican\n",
       "38730       mexican\n",
       "14664       mexican\n",
       "36531       italian\n",
       "33022        indian\n",
       "12763        french\n",
       "5455           thai\n",
       "29636       mexican\n",
       "9138         indian\n",
       "717    cajun_creole\n",
       "36866          thai\n",
       "25601  cajun_creole\n",
       "...             ...\n",
       "33523    vietnamese\n",
       "31921      japanese\n",
       "24675       italian\n",
       "2496    southern_us\n",
       "7599        italian\n",
       "1871         french\n",
       "18430       italian\n",
       "7877        chinese\n",
       "37619       spanish\n",
       "5072        mexican\n",
       "2163       japanese\n",
       "38804       mexican\n",
       "6921       filipino\n",
       "38984        indian\n",
       "27469       british\n",
       "16921  cajun_creole\n",
       "35665       chinese\n",
       "24152       italian\n",
       "18983          thai\n",
       "32230       mexican\n",
       "17089        indian\n",
       "14650       mexican\n",
       "39512      japanese\n",
       "15430          thai\n",
       "14935       mexican\n",
       "20757       mexican\n",
       "32103          thai\n",
       "30403       italian\n",
       "21243       italian\n",
       "2732    southern_us\n",
       "\n",
       "[31819 rows x 1 columns]>"
      ]
     },
     "execution_count": 17,
     "metadata": {},
     "output_type": "execute_result"
    }
   ],
   "source": [
    "y_train.shape\n",
    "y_train.head"
   ]
  },
  {
   "cell_type": "code",
   "execution_count": 18,
   "metadata": {
    "collapsed": false
   },
   "outputs": [
    {
     "data": {
      "text/plain": [
       "(7955, 1)"
      ]
     },
     "execution_count": 18,
     "metadata": {},
     "output_type": "execute_result"
    }
   ],
   "source": [
    "y_test.shape"
   ]
  },
  {
   "cell_type": "code",
   "execution_count": 19,
   "metadata": {
    "collapsed": false
   },
   "outputs": [
    {
     "name": "stdout",
     "output_type": "stream",
     "text": [
      "Total No. of features: 2993\n"
     ]
    }
   ],
   "source": [
    "from sklearn.feature_extraction.text import CountVectorizer\n",
    "\n",
    "# Preprocessing\n",
    "vector = CountVectorizer(\n",
    "    preprocessor = xform_string,\n",
    "    analyzer = \"word\",\n",
    "    token_pattern = r\"(?u)\\b[a-z]{2,40}\\b\",\n",
    "    max_features = 4500\n",
    ")\n",
    "\n",
    "vector.fit(np.concatenate([X_train.ingredients, X_test.ingredients]))\n",
    "\n",
    "print (\"Total No. of features:\", len(vector.get_feature_names()))"
   ]
  },
  {
   "cell_type": "code",
   "execution_count": 20,
   "metadata": {
    "collapsed": false
   },
   "outputs": [],
   "source": [
    "from sklearn.ensemble import RandomForestClassifier\n",
    "from sklearn.tree import DecisionTreeClassifier\n",
    "\n",
    "# Train\n",
    "clf_A = RandomForestClassifier(\n",
    "    n_estimators = 50,\n",
    "    oob_score = True,\n",
    "    verbose = 10,\n",
    "    n_jobs = 5\n",
    ")\n",
    "\n",
    "\n",
    "# Train\n",
    "clf_B =  DecisionTreeClassifier(random_state = 42)"
   ]
  },
  {
   "cell_type": "code",
   "execution_count": 21,
   "metadata": {
    "collapsed": false
   },
   "outputs": [
    {
     "name": "stderr",
     "output_type": "stream",
     "text": [
      "C:\\_workspace\\Anaconda\\lib\\site-packages\\sklearn\\utils\\validation.py:475: DataConversionWarning: Data with input dtype int64 was converted to float64 by StandardScaler.\n",
      "  warnings.warn(msg, DataConversionWarning)\n",
      "[Parallel(n_jobs=5)]: Done   3 tasks      | elapsed:    1.8s\n",
      "[Parallel(n_jobs=5)]: Done   8 tasks      | elapsed:    4.3s\n",
      "[Parallel(n_jobs=5)]: Done  15 tasks      | elapsed:    6.9s\n",
      "[Parallel(n_jobs=5)]: Done  22 tasks      | elapsed:    9.5s\n",
      "[Parallel(n_jobs=5)]: Done  31 tasks      | elapsed:   12.8s\n",
      "[Parallel(n_jobs=5)]: Done  40 tasks      | elapsed:   16.4s\n",
      "[Parallel(n_jobs=5)]: Done  47 out of  50 | elapsed:   18.9s remaining:    1.1s\n",
      "[Parallel(n_jobs=5)]: Done  50 out of  50 | elapsed:   19.8s finished\n"
     ]
    },
    {
     "name": "stdout",
     "output_type": "stream",
     "text": [
      "building tree 1 of 50\n",
      "building tree 2 of 50\n",
      "building tree 3 of 50\n",
      "building tree 4 of 50\n",
      "building tree 5 of 50\n",
      "building tree 6 of 50\n",
      "building tree 7 of 50\n",
      "building tree 8 of 50\n",
      "building tree 9 of 50\n",
      "building tree 10 of 50\n",
      "building tree 11 of 50\n",
      "building tree 12 of 50\n",
      "building tree 13 of 50\n",
      "building tree 14 of 50\n",
      "building tree 15 of 50\n",
      "building tree 16 of 50\n",
      "building tree 17 of 50\n",
      "building tree 18 of 50\n",
      "building tree 19 of 50\n",
      "building tree 20 of 50\n",
      "building tree 21 of 50\n",
      "building tree 22 of 50\n",
      "building tree 23 of 50\n",
      "building tree 24 of 50\n",
      "building tree 25 of 50\n",
      "building tree 26 of 50\n",
      "building tree 27 of 50\n",
      "building tree 28 of 50\n",
      "building tree 29 of 50\n",
      "building tree 30 of 50\n",
      "building tree 31 of 50\n",
      "building tree 32 of 50\n",
      "building tree 33 of 50\n",
      "building tree 34 of 50\n",
      "building tree 35 of 50\n",
      "building tree 36 of 50\n",
      "building tree 37 of 50\n",
      "building tree 38 of 50\n",
      "building tree 39 of 50\n",
      "building tree 40 of 50\n",
      "building tree 41 of 50\n",
      "building tree 42 of 50\n",
      "building tree 43 of 50\n",
      "building tree 44 of 50\n",
      "building tree 45 of 50\n",
      "building tree 46 of 50\n",
      "building tree 47 of 50\n",
      "building tree 48 of 50\n",
      "building tree 49 of 50\n",
      "building tree 50 of 50\n",
      "#\n",
      "# Best score: 0.7257613375656055\n",
      "#\n"
     ]
    },
    {
     "data": {
      "text/plain": [
       "Pipeline(memory=None,\n",
       "     steps=[('vector', CountVectorizer(analyzer='word', binary=False, decode_error=u'strict',\n",
       "        dtype=<type 'numpy.int64'>, encoding=u'utf-8', input=u'content',\n",
       "        lowercase=True, max_df=1.0, max_features=4500, min_df=1,\n",
       "        ngram_range=(1, 1),\n",
       "        preprocessor=<function xform_string a...        min_weight_fraction_leaf=0.0, presort=False, random_state=42,\n",
       "            splitter='best'))])"
      ]
     },
     "execution_count": 21,
     "metadata": {},
     "output_type": "execute_result"
    }
   ],
   "source": [
    "from sklearn.pipeline import Pipeline\n",
    "from sklearn.preprocessing import StandardScaler\n",
    "\n",
    "#RandomForest\n",
    "benchmark_model_A = Pipeline([\n",
    "    (\"vector\", vector),\n",
    "    (\"scl\", StandardScaler(with_mean=False)),\n",
    "    (\"clf_A\", clf_A)\n",
    "])\n",
    "\n",
    "benchmark_model_A.fit(X_train.ingredients,y_train.cuisine)\n",
    "\n",
    "print (\"#\")\n",
    "print (\"# Best score:\", benchmark_model_A.named_steps[\"clf_A\"].oob_score_)\n",
    "print (\"#\")\n",
    "\n",
    "#DecisionTree\n",
    "benchmark_model_B = Pipeline([\n",
    "    (\"vector\", vector),\n",
    "    (\"scl\", StandardScaler(with_mean=False)),\n",
    "    (\"clf_B\", clf_B)\n",
    "])\n",
    "\n",
    "benchmark_model_B.fit(X_train.ingredients,y_train.cuisine)"
   ]
  },
  {
   "cell_type": "code",
   "execution_count": 22,
   "metadata": {
    "collapsed": false
   },
   "outputs": [
    {
     "name": "stderr",
     "output_type": "stream",
     "text": [
      "[Parallel(n_jobs=5)]: Done   3 tasks      | elapsed:    0.0s\n",
      "[Parallel(n_jobs=5)]: Done   8 tasks      | elapsed:    0.0s\n",
      "[Parallel(n_jobs=5)]: Done  15 tasks      | elapsed:    0.0s\n",
      "[Parallel(n_jobs=5)]: Done  22 tasks      | elapsed:    0.0s\n",
      "[Parallel(n_jobs=5)]: Done  31 tasks      | elapsed:    0.0s\n",
      "[Parallel(n_jobs=5)]: Done  40 tasks      | elapsed:    0.0s\n",
      "[Parallel(n_jobs=5)]: Done  47 out of  50 | elapsed:    0.0s remaining:    0.0s\n",
      "[Parallel(n_jobs=5)]: Done  50 out of  50 | elapsed:    0.0s finished\n",
      "[Parallel(n_jobs=5)]: Done   1 tasks      | elapsed:    0.0s\n",
      "[Parallel(n_jobs=5)]: Done   4 tasks      | elapsed:    0.0s\n",
      "[Parallel(n_jobs=5)]: Done   8 tasks      | elapsed:    0.1s\n",
      "[Parallel(n_jobs=5)]: Done  15 tasks      | elapsed:    0.2s\n",
      "[Parallel(n_jobs=5)]: Done  22 tasks      | elapsed:    0.3s\n",
      "[Parallel(n_jobs=5)]: Done  31 tasks      | elapsed:    0.4s\n",
      "[Parallel(n_jobs=5)]: Done  40 tasks      | elapsed:    0.4s\n",
      "[Parallel(n_jobs=5)]: Done  47 out of  50 | elapsed:    0.5s remaining:    0.0s\n",
      "[Parallel(n_jobs=5)]: Done  50 out of  50 | elapsed:    0.5s finished\n"
     ]
    },
    {
     "name": "stdout",
     "output_type": "stream",
     "text": [
      "[u'mexican' u'mexican' u'indian' ... u'korean' u'chinese' u'italian']\n",
      "Train Accuracy for Random Forest ::  0.9995285835507087\n",
      "Test Accuracy for Random Forest  ::  0.754242614707731\n",
      "F-Score on Test for Random Forest ::  [0.77039275 0.55194805 0.71315372 0.75520048 0.62022901 0.56403051\n",
      " 0.7688172  0.83874612 0.59055118 0.75391332 0.77844311 0.76701822\n",
      " 0.82533589 0.85977911 0.8056872  0.5952381  0.69250871 0.69469835\n",
      " 0.74528302 0.66666667]\n",
      "[u'french' u'mexican' u'indian' ... u'korean' u'chinese' u'italian']\n",
      "Train Accuracy for Decision Tree ::  0.999622866840567\n",
      "Test Accuracy for Decision Tree  ::  0.637460716530484\n",
      "F-Score on Test for Decision Tree ::  [0.54945055 0.32913165 0.50671141 0.69538792 0.34801136 0.42744657\n",
      " 0.56394316 0.75007638 0.39669421 0.73931889 0.48804781 0.59968229\n",
      " 0.5104551  0.81358491 0.54224464 0.30373832 0.58120265 0.40251572\n",
      " 0.60959792 0.45608108]\n"
     ]
    }
   ],
   "source": [
    "#Metrics\n",
    "\n",
    "from sklearn.metrics import accuracy_score\n",
    "from sklearn.metrics import fbeta_score\n",
    "from sklearn.metrics import precision_score\n",
    "\n",
    "pred_results_A = benchmark_model_A.predict(X_test.ingredients)\n",
    "print(pred_results_A)\n",
    "\n",
    "# Train and Test Accuracy for Random Forest\n",
    "print (\"Train Accuracy for Random Forest :: \", accuracy_score(y_train, benchmark_model_A.predict(X_train.ingredients)))\n",
    "print (\"Test Accuracy for Random Forest  :: \", accuracy_score(y_test, pred_results_A))\n",
    "\n",
    "print (\"F-Score on Test for Random Forest :: \",fbeta_score(y_test, pred_results_A,average=None, beta = 0.5))\n",
    "  \n",
    "pred_results_B = benchmark_model_B.predict(X_test.ingredients)\n",
    "print(pred_results_B)\n",
    "\n",
    "# Train and Test Accuracy for  Decision Tree\n",
    "print (\"Train Accuracy for Decision Tree :: \", accuracy_score(y_train, benchmark_model_B.predict(X_train.ingredients)))\n",
    "print (\"Test Accuracy for Decision Tree  :: \", accuracy_score(y_test, pred_results_B))\n",
    "\n",
    "print (\"F-Score on Test for Decision Tree :: \",fbeta_score(y_test, pred_results_B,average=None, beta = 0.5))\n"
   ]
  },
  {
   "cell_type": "code",
   "execution_count": 23,
   "metadata": {
    "collapsed": false
   },
   "outputs": [
    {
     "name": "stderr",
     "output_type": "stream",
     "text": [
      "[Parallel(n_jobs=5)]: Done   1 tasks      | elapsed:    0.0s\n",
      "[Parallel(n_jobs=5)]: Done   8 tasks      | elapsed:    0.0s\n",
      "[Parallel(n_jobs=5)]: Done  15 tasks      | elapsed:    0.0s\n",
      "[Parallel(n_jobs=5)]: Done  22 tasks      | elapsed:    0.0s\n",
      "[Parallel(n_jobs=5)]: Done  31 tasks      | elapsed:    0.0s\n",
      "[Parallel(n_jobs=5)]: Done  40 tasks      | elapsed:    0.0s\n",
      "[Parallel(n_jobs=5)]: Done  47 out of  50 | elapsed:    0.1s remaining:    0.0s\n",
      "[Parallel(n_jobs=5)]: Done  50 out of  50 | elapsed:    0.1s finished\n"
     ]
    },
    {
     "name": "stdout",
     "output_type": "stream",
     "text": [
      "Log Loss for Random Forest ::  1.312711556927781\n",
      "Log Loss for Decision Tree ::  12.51749574366924\n"
     ]
    }
   ],
   "source": [
    "#Metrics\n",
    "\n",
    "from sklearn.metrics import log_loss\n",
    "\n",
    "clf_probs_A =  benchmark_model_A.predict_proba(X_test.ingredients)\n",
    "clf_probs_B =  benchmark_model_B.predict_proba(X_test.ingredients)\n",
    "\n",
    "#print(clf_probs_A)\n",
    "\n",
    "score_A = log_loss(y_test, clf_probs_A)\n",
    "print(\"Log Loss for Random Forest :: \",score_A)\n",
    "\n",
    "score_B = log_loss(y_test, clf_probs_B)\n",
    "print(\"Log Loss for Decision Tree :: \",score_B)"
   ]
  },
  {
   "cell_type": "code",
   "execution_count": 24,
   "metadata": {
    "collapsed": false
   },
   "outputs": [
    {
     "name": "stderr",
     "output_type": "stream",
     "text": [
      "[Parallel(n_jobs=5)]: Done   3 tasks      | elapsed:    0.0s\n",
      "[Parallel(n_jobs=5)]: Done   8 tasks      | elapsed:    0.0s\n",
      "[Parallel(n_jobs=5)]: Done  15 tasks      | elapsed:    0.0s\n",
      "[Parallel(n_jobs=5)]: Done  22 tasks      | elapsed:    0.0s\n",
      "[Parallel(n_jobs=5)]: Done  31 tasks      | elapsed:    0.0s\n",
      "[Parallel(n_jobs=5)]: Done  40 tasks      | elapsed:    0.0s\n",
      "[Parallel(n_jobs=5)]: Done  47 out of  50 | elapsed:    0.1s remaining:    0.0s\n",
      "[Parallel(n_jobs=5)]: Done  50 out of  50 | elapsed:    0.1s finished\n"
     ]
    },
    {
     "name": "stdout",
     "output_type": "stream",
     "text": [
      "[u'southern_us' u'southern_us' u'italian' ... u'italian' u'southern_us'\n",
      " u'mexican']\n",
      "Submission for bench_mark Random Forest written to ../data/bench_mark_random_forest.csv\n",
      "[u'southern_us' u'french' u'italian' ... u'brazilian' u'southern_us'\n",
      " u'mexican']\n",
      "Submission for bench_mark Decision Tree written to ../data/bench_mark_decision_tree.csv\n"
     ]
    }
   ],
   "source": [
    "#Kaggle submission files\n",
    "\n",
    "pred_results_A = benchmark_model_A.predict(test.ingredients)\n",
    "test['cuisine'] = pred_results_A\n",
    "print(pred_results_A)\n",
    "\n",
    "out_file= \"../data/bench_mark_random_forest.csv\"\n",
    "op = pd.DataFrame(data={\n",
    "        \"id\": test.id,\n",
    "        \"cuisine\": test.cuisine\n",
    "        })\n",
    "op.sort_values(by=\"id\", inplace=True)\n",
    "op.to_csv(out_file, columns=[\"id\", \"cuisine\"], index=False, quoting=3)\n",
    "print (\"Submission for bench_mark Random Forest written to\", out_file)\n",
    "\n",
    "\n",
    "pred_results_B = benchmark_model_B.predict(test.ingredients)\n",
    "test['cuisine'] = pred_results_B\n",
    "print(pred_results_B)\n",
    "\n",
    "out_file= \"../data/bench_mark_decision_tree.csv\"\n",
    "op = pd.DataFrame(data={\n",
    "        \"id\": test.id,\n",
    "        \"cuisine\": test.cuisine\n",
    "        })\n",
    "op.sort_values(by=\"id\", inplace=True)\n",
    "op.to_csv(out_file, columns=[\"id\", \"cuisine\"], index=False, quoting=3)\n",
    "print (\"Submission for bench_mark Decision Tree written to\", out_file)"
   ]
  },
  {
   "cell_type": "code",
   "execution_count": 25,
   "metadata": {
    "collapsed": true
   },
   "outputs": [],
   "source": [
    "# a function that adds new features and the dataframe\n",
    "\n",
    "def add_features(df): \n",
    "    \n",
    "    # no of ingredients\n",
    "    df['no_ingredients'] = df.ingredients.apply(len)\n",
    "    \n",
    "    # average length of ingredient names\n",
    "    df['ingredient_len'] = df.ingredients.apply(lambda x: np.mean([len(item) for item in x]))\n",
    "    \n",
    "    # make strings of the ingredients list\n",
    "    df['ingredients_string'] = df.ingredients.astype(str)\n",
    "    \n",
    "    return df"
   ]
  },
  {
   "cell_type": "code",
   "execution_count": 26,
   "metadata": {
    "collapsed": true
   },
   "outputs": [],
   "source": [
    "# create the same features in the training data and the new data\n",
    "train = add_features(pd.read_json('../data/train.json'))\n",
    "new = add_features(pd.read_json('../data/test.json'))"
   ]
  },
  {
   "cell_type": "code",
   "execution_count": 27,
   "metadata": {
    "collapsed": false
   },
   "outputs": [
    {
     "data": {
      "text/html": [
       "<div>\n",
       "<style scoped>\n",
       "    .dataframe tbody tr th:only-of-type {\n",
       "        vertical-align: middle;\n",
       "    }\n",
       "\n",
       "    .dataframe tbody tr th {\n",
       "        vertical-align: top;\n",
       "    }\n",
       "\n",
       "    .dataframe thead th {\n",
       "        text-align: right;\n",
       "    }\n",
       "</style>\n",
       "<table border=\"1\" class=\"dataframe\">\n",
       "  <thead>\n",
       "    <tr style=\"text-align: right;\">\n",
       "      <th></th>\n",
       "      <th>cuisine</th>\n",
       "      <th>id</th>\n",
       "      <th>ingredients</th>\n",
       "      <th>no_ingredients</th>\n",
       "      <th>ingredient_len</th>\n",
       "      <th>ingredients_string</th>\n",
       "    </tr>\n",
       "  </thead>\n",
       "  <tbody>\n",
       "    <tr>\n",
       "      <th>0</th>\n",
       "      <td>greek</td>\n",
       "      <td>10259</td>\n",
       "      <td>[romaine lettuce, black olives, grape tomatoes...</td>\n",
       "      <td>9</td>\n",
       "      <td>12.000000</td>\n",
       "      <td>[u'romaine lettuce', u'black olives', u'grape ...</td>\n",
       "    </tr>\n",
       "    <tr>\n",
       "      <th>1</th>\n",
       "      <td>southern_us</td>\n",
       "      <td>25693</td>\n",
       "      <td>[plain flour, ground pepper, salt, tomatoes, g...</td>\n",
       "      <td>11</td>\n",
       "      <td>10.090909</td>\n",
       "      <td>[u'plain flour', u'ground pepper', u'salt', u'...</td>\n",
       "    </tr>\n",
       "    <tr>\n",
       "      <th>2</th>\n",
       "      <td>filipino</td>\n",
       "      <td>20130</td>\n",
       "      <td>[eggs, pepper, salt, mayonaise, cooking oil, g...</td>\n",
       "      <td>12</td>\n",
       "      <td>10.333333</td>\n",
       "      <td>[u'eggs', u'pepper', u'salt', u'mayonaise', u'...</td>\n",
       "    </tr>\n",
       "    <tr>\n",
       "      <th>3</th>\n",
       "      <td>indian</td>\n",
       "      <td>22213</td>\n",
       "      <td>[water, vegetable oil, wheat, salt]</td>\n",
       "      <td>4</td>\n",
       "      <td>6.750000</td>\n",
       "      <td>[u'water', u'vegetable oil', u'wheat', u'salt']</td>\n",
       "    </tr>\n",
       "    <tr>\n",
       "      <th>4</th>\n",
       "      <td>indian</td>\n",
       "      <td>13162</td>\n",
       "      <td>[black pepper, shallots, cornflour, cayenne pe...</td>\n",
       "      <td>20</td>\n",
       "      <td>10.100000</td>\n",
       "      <td>[u'black pepper', u'shallots', u'cornflour', u...</td>\n",
       "    </tr>\n",
       "  </tbody>\n",
       "</table>\n",
       "</div>"
      ],
      "text/plain": [
       "       cuisine     id                                        ingredients  \\\n",
       "0        greek  10259  [romaine lettuce, black olives, grape tomatoes...   \n",
       "1  southern_us  25693  [plain flour, ground pepper, salt, tomatoes, g...   \n",
       "2     filipino  20130  [eggs, pepper, salt, mayonaise, cooking oil, g...   \n",
       "3       indian  22213                [water, vegetable oil, wheat, salt]   \n",
       "4       indian  13162  [black pepper, shallots, cornflour, cayenne pe...   \n",
       "\n",
       "   no_ingredients  ingredient_len  \\\n",
       "0               9       12.000000   \n",
       "1              11       10.090909   \n",
       "2              12       10.333333   \n",
       "3               4        6.750000   \n",
       "4              20       10.100000   \n",
       "\n",
       "                                  ingredients_string  \n",
       "0  [u'romaine lettuce', u'black olives', u'grape ...  \n",
       "1  [u'plain flour', u'ground pepper', u'salt', u'...  \n",
       "2  [u'eggs', u'pepper', u'salt', u'mayonaise', u'...  \n",
       "3    [u'water', u'vegetable oil', u'wheat', u'salt']  \n",
       "4  [u'black pepper', u'shallots', u'cornflour', u...  "
      ]
     },
     "execution_count": 27,
     "metadata": {},
     "output_type": "execute_result"
    }
   ],
   "source": [
    "train.head()"
   ]
  },
  {
   "cell_type": "code",
   "execution_count": 28,
   "metadata": {
    "collapsed": false
   },
   "outputs": [
    {
     "data": {
      "text/plain": [
       "(39774, 6)"
      ]
     },
     "execution_count": 28,
     "metadata": {},
     "output_type": "execute_result"
    }
   ],
   "source": [
    "train.shape"
   ]
  },
  {
   "cell_type": "code",
   "execution_count": 29,
   "metadata": {
    "collapsed": false
   },
   "outputs": [
    {
     "data": {
      "text/html": [
       "<div>\n",
       "<style scoped>\n",
       "    .dataframe tbody tr th:only-of-type {\n",
       "        vertical-align: middle;\n",
       "    }\n",
       "\n",
       "    .dataframe tbody tr th {\n",
       "        vertical-align: top;\n",
       "    }\n",
       "\n",
       "    .dataframe thead th {\n",
       "        text-align: right;\n",
       "    }\n",
       "</style>\n",
       "<table border=\"1\" class=\"dataframe\">\n",
       "  <thead>\n",
       "    <tr style=\"text-align: right;\">\n",
       "      <th></th>\n",
       "      <th>id</th>\n",
       "      <th>ingredients</th>\n",
       "      <th>no_ingredients</th>\n",
       "      <th>ingredient_len</th>\n",
       "      <th>ingredients_string</th>\n",
       "    </tr>\n",
       "  </thead>\n",
       "  <tbody>\n",
       "    <tr>\n",
       "      <th>0</th>\n",
       "      <td>18009</td>\n",
       "      <td>[baking powder, eggs, all-purpose flour, raisi...</td>\n",
       "      <td>6</td>\n",
       "      <td>9.333333</td>\n",
       "      <td>[u'baking powder', u'eggs', u'all-purpose flou...</td>\n",
       "    </tr>\n",
       "    <tr>\n",
       "      <th>1</th>\n",
       "      <td>28583</td>\n",
       "      <td>[sugar, egg yolks, corn starch, cream of tarta...</td>\n",
       "      <td>11</td>\n",
       "      <td>10.272727</td>\n",
       "      <td>[u'sugar', u'egg yolks', u'corn starch', u'cre...</td>\n",
       "    </tr>\n",
       "    <tr>\n",
       "      <th>2</th>\n",
       "      <td>41580</td>\n",
       "      <td>[sausage links, fennel bulb, fronds, olive oil...</td>\n",
       "      <td>6</td>\n",
       "      <td>9.666667</td>\n",
       "      <td>[u'sausage links', u'fennel bulb', u'fronds', ...</td>\n",
       "    </tr>\n",
       "    <tr>\n",
       "      <th>3</th>\n",
       "      <td>29752</td>\n",
       "      <td>[meat cuts, file powder, smoked sausage, okra,...</td>\n",
       "      <td>21</td>\n",
       "      <td>12.000000</td>\n",
       "      <td>[u'meat cuts', u'file powder', u'smoked sausag...</td>\n",
       "    </tr>\n",
       "    <tr>\n",
       "      <th>4</th>\n",
       "      <td>35687</td>\n",
       "      <td>[ground black pepper, salt, sausage casings, l...</td>\n",
       "      <td>8</td>\n",
       "      <td>13.000000</td>\n",
       "      <td>[u'ground black pepper', u'salt', u'sausage ca...</td>\n",
       "    </tr>\n",
       "  </tbody>\n",
       "</table>\n",
       "</div>"
      ],
      "text/plain": [
       "      id                                        ingredients  no_ingredients  \\\n",
       "0  18009  [baking powder, eggs, all-purpose flour, raisi...               6   \n",
       "1  28583  [sugar, egg yolks, corn starch, cream of tarta...              11   \n",
       "2  41580  [sausage links, fennel bulb, fronds, olive oil...               6   \n",
       "3  29752  [meat cuts, file powder, smoked sausage, okra,...              21   \n",
       "4  35687  [ground black pepper, salt, sausage casings, l...               8   \n",
       "\n",
       "   ingredient_len                                 ingredients_string  \n",
       "0        9.333333  [u'baking powder', u'eggs', u'all-purpose flou...  \n",
       "1       10.272727  [u'sugar', u'egg yolks', u'corn starch', u'cre...  \n",
       "2        9.666667  [u'sausage links', u'fennel bulb', u'fronds', ...  \n",
       "3       12.000000  [u'meat cuts', u'file powder', u'smoked sausag...  \n",
       "4       13.000000  [u'ground black pepper', u'salt', u'sausage ca...  "
      ]
     },
     "execution_count": 29,
     "metadata": {},
     "output_type": "execute_result"
    }
   ],
   "source": [
    "new.head()"
   ]
  },
  {
   "cell_type": "code",
   "execution_count": 30,
   "metadata": {
    "collapsed": false
   },
   "outputs": [
    {
     "data": {
      "text/plain": [
       "(9944, 5)"
      ]
     },
     "execution_count": 30,
     "metadata": {},
     "output_type": "execute_result"
    }
   ],
   "source": [
    "new.shape"
   ]
  },
  {
   "cell_type": "markdown",
   "metadata": {},
   "source": [
    "## Optimize Cross Validation using Pipeline"
   ]
  },
  {
   "cell_type": "code",
   "execution_count": 31,
   "metadata": {
    "collapsed": true
   },
   "outputs": [],
   "source": [
    "# assign X and y\n",
    "X = train.ingredients_string\n",
    "y = train.cuisine"
   ]
  },
  {
   "cell_type": "code",
   "execution_count": 32,
   "metadata": {
    "collapsed": false
   },
   "outputs": [
    {
     "data": {
      "text/plain": [
       "0    [u'romaine lettuce', u'black olives', u'grape ...\n",
       "1    [u'plain flour', u'ground pepper', u'salt', u'...\n",
       "2    [u'eggs', u'pepper', u'salt', u'mayonaise', u'...\n",
       "3      [u'water', u'vegetable oil', u'wheat', u'salt']\n",
       "4    [u'black pepper', u'shallots', u'cornflour', u...\n",
       "Name: ingredients_string, dtype: object"
      ]
     },
     "execution_count": 32,
     "metadata": {},
     "output_type": "execute_result"
    }
   ],
   "source": [
    "# X is just an ingredient series\n",
    "X.head()"
   ]
  },
  {
   "cell_type": "code",
   "execution_count": 33,
   "metadata": {
    "collapsed": true
   },
   "outputs": [],
   "source": [
    "# define the regex pattern for teh purpose of tokenization\n",
    "from sklearn.feature_extraction.text import CountVectorizer\n",
    "vector = CountVectorizer(token_pattern=r\"'([a-z ]+)'\")"
   ]
  },
  {
   "cell_type": "code",
   "execution_count": 34,
   "metadata": {
    "collapsed": true
   },
   "outputs": [],
   "source": [
    "# import and declare the Multinomial Naive Bayes along with the default parameters\n",
    "from sklearn.naive_bayes import MultinomialNB\n",
    "mnb = MultinomialNB()"
   ]
  },
  {
   "cell_type": "code",
   "execution_count": 35,
   "metadata": {
    "collapsed": false
   },
   "outputs": [],
   "source": [
    "# Assign the Naive Bayes with a pipeline of vectorization\n",
    "from sklearn.pipeline import make_pipeline\n",
    "pipeline = make_pipeline(vector, mnb)"
   ]
  },
  {
   "cell_type": "code",
   "execution_count": 36,
   "metadata": {
    "collapsed": false
   },
   "outputs": [
    {
     "data": {
      "text/plain": [
       "[('countvectorizer',\n",
       "  CountVectorizer(analyzer=u'word', binary=False, decode_error=u'strict',\n",
       "          dtype=<type 'numpy.int64'>, encoding=u'utf-8', input=u'content',\n",
       "          lowercase=True, max_df=1.0, max_features=None, min_df=1,\n",
       "          ngram_range=(1, 1), preprocessor=None, stop_words=None,\n",
       "          strip_accents=None, token_pattern=\"'([a-z ]+)'\", tokenizer=None,\n",
       "          vocabulary=None)),\n",
       " ('multinomialnb', MultinomialNB(alpha=1.0, class_prior=None, fit_prior=True))]"
      ]
     },
     "execution_count": 36,
     "metadata": {},
     "output_type": "execute_result"
    }
   ],
   "source": [
    "# explore the pipeline steps\n",
    "pipeline.steps"
   ]
  },
  {
   "cell_type": "code",
   "execution_count": 37,
   "metadata": {
    "collapsed": false
   },
   "outputs": [
    {
     "data": {
      "text/plain": [
       "0.7336449200974411"
      ]
     },
     "execution_count": 37,
     "metadata": {},
     "output_type": "execute_result"
    }
   ],
   "source": [
    "# cross validate the full pipeline\n",
    "from sklearn.cross_validation import cross_val_score\n",
    "cross_val_score(pipeline, X, y, cv=7, scoring='accuracy').mean()"
   ]
  },
  {
   "cell_type": "code",
   "execution_count": 38,
   "metadata": {
    "collapsed": false
   },
   "outputs": [
    {
     "data": {
      "text/plain": [
       "['multinomialnb', 'countvectorizer']"
      ]
     },
     "execution_count": 38,
     "metadata": {},
     "output_type": "execute_result"
    }
   ],
   "source": [
    "# pipeline steps are automatically assigned names by make_pipeline\n",
    "pipeline.named_steps.keys()"
   ]
  },
  {
   "cell_type": "code",
   "execution_count": 39,
   "metadata": {
    "collapsed": false
   },
   "outputs": [
    {
     "data": {
      "text/plain": [
       "{'countvectorizer__token_pattern': ['\\\\b\\\\w\\\\w+\\\\b', \"'([a-z ]+)'\"],\n",
       " 'multinomialnb__alpha': [0.5, 1]}"
      ]
     },
     "execution_count": 39,
     "metadata": {},
     "output_type": "execute_result"
    }
   ],
   "source": [
    "# create a grid of parameters to search (and specify the pipeline step along with the parameter)\n",
    "parameters_grid = {}\n",
    "parameters_grid['countvectorizer__token_pattern'] = [r\"\\b\\w\\w+\\b\", r\"'([a-z ]+)'\"]\n",
    "parameters_grid['multinomialnb__alpha'] = [0.5, 1]\n",
    "parameters_grid"
   ]
  },
  {
   "cell_type": "code",
   "execution_count": 40,
   "metadata": {
    "collapsed": false
   },
   "outputs": [
    {
     "name": "stderr",
     "output_type": "stream",
     "text": [
      "C:\\_workspace\\Anaconda\\lib\\site-packages\\sklearn\\grid_search.py:42: DeprecationWarning: This module was deprecated in version 0.18 in favor of the model_selection module into which all the refactored classes and functions are moved. This module will be removed in 0.20.\n",
      "  DeprecationWarning)\n"
     ]
    }
   ],
   "source": [
    "# pass the pipeline (instead of the model) to GridSearchCV\n",
    "from sklearn.grid_search import GridSearchCV\n",
    "gridCV = GridSearchCV(pipeline, parameters_grid , cv=7, scoring='accuracy')"
   ]
  },
  {
   "cell_type": "code",
   "execution_count": 41,
   "metadata": {
    "collapsed": false
   },
   "outputs": [
    {
     "name": "stdout",
     "output_type": "stream",
     "text": [
      "Wall time: 50.2 s\n"
     ]
    },
    {
     "data": {
      "text/plain": [
       "GridSearchCV(cv=7, error_score='raise',\n",
       "       estimator=Pipeline(memory=None,\n",
       "     steps=[('countvectorizer', CountVectorizer(analyzer=u'word', binary=False, decode_error=u'strict',\n",
       "        dtype=<type 'numpy.int64'>, encoding=u'utf-8', input=u'content',\n",
       "        lowercase=True, max_df=1.0, max_features=None, min_df=1,\n",
       "        ngram_range=(1, 1)...  vocabulary=None)), ('multinomialnb', MultinomialNB(alpha=1.0, class_prior=None, fit_prior=True))]),\n",
       "       fit_params={}, iid=True, n_jobs=1,\n",
       "       param_grid={'countvectorizer__token_pattern': ['\\\\b\\\\w\\\\w+\\\\b', \"'([a-z ]+)'\"], 'multinomialnb__alpha': [0.5, 1]},\n",
       "       pre_dispatch='2*n_jobs', refit=True, scoring='accuracy', verbose=0)"
      ]
     },
     "execution_count": 41,
     "metadata": {},
     "output_type": "execute_result"
    }
   ],
   "source": [
    "# time the grid search\n",
    "%time gridCV.fit(X, y)"
   ]
  },
  {
   "cell_type": "code",
   "execution_count": 42,
   "metadata": {
    "collapsed": false
   },
   "outputs": [
    {
     "data": {
      "text/plain": [
       "[mean: 0.72459, std: 0.00591, params: {'countvectorizer__token_pattern': '\\\\b\\\\w\\\\w+\\\\b', 'multinomialnb__alpha': 0.5},\n",
       " mean: 0.72525, std: 0.00535, params: {'countvectorizer__token_pattern': '\\\\b\\\\w\\\\w+\\\\b', 'multinomialnb__alpha': 1},\n",
       " mean: 0.74833, std: 0.00558, params: {'countvectorizer__token_pattern': \"'([a-z ]+)'\", 'multinomialnb__alpha': 0.5},\n",
       " mean: 0.73365, std: 0.00538, params: {'countvectorizer__token_pattern': \"'([a-z ]+)'\", 'multinomialnb__alpha': 1}]"
      ]
     },
     "execution_count": 42,
     "metadata": {},
     "output_type": "execute_result"
    }
   ],
   "source": [
    "# examine the score for each combination of parameters\n",
    "gridCV.grid_scores_"
   ]
  },
  {
   "cell_type": "code",
   "execution_count": 43,
   "metadata": {
    "collapsed": false
   },
   "outputs": [
    {
     "name": "stdout",
     "output_type": "stream",
     "text": [
      "0.748328053502\n",
      "{'countvectorizer__token_pattern': \"'([a-z ]+)'\", 'multinomialnb__alpha': 0.5}\n"
     ]
    }
   ],
   "source": [
    "# print the single best score and parameters that produced that score\n",
    "print(gridCV.best_score_)\n",
    "print(gridCV.best_params_)"
   ]
  },
  {
   "cell_type": "code",
   "execution_count": 44,
   "metadata": {
    "collapsed": true
   },
   "outputs": [],
   "source": [
    "from sklearn.grid_search import RandomizedSearchCV"
   ]
  },
  {
   "cell_type": "code",
   "execution_count": 45,
   "metadata": {
    "collapsed": false
   },
   "outputs": [
    {
     "data": {
      "text/plain": [
       "{'countvectorizer__min_df': [1, 2, 3],\n",
       " 'countvectorizer__token_pattern': ['\\\\b\\\\w\\\\w+\\\\b', \"'([a-z ]+)'\"],\n",
       " 'multinomialnb__alpha': <scipy.stats._distn_infrastructure.rv_frozen at 0x14fe21d0>}"
      ]
     },
     "execution_count": 45,
     "metadata": {},
     "output_type": "execute_result"
    }
   ],
   "source": [
    "# for the continuous parameters, distribution is always prefeered when compared to a list of options\n",
    "import scipy as sp\n",
    "parameters_grid = {}\n",
    "parameters_grid['countvectorizer__token_pattern'] = [r\"\\b\\w\\w+\\b\", r\"'([a-z ]+)'\"]\n",
    "parameters_grid['countvectorizer__min_df'] = [1, 2, 3]\n",
    "parameters_grid['multinomialnb__alpha'] = sp.stats.uniform(scale=1)\n",
    "parameters_grid"
   ]
  },
  {
   "cell_type": "code",
   "execution_count": 46,
   "metadata": {
    "collapsed": true
   },
   "outputs": [],
   "source": [
    "# define a random seed\n",
    "np.random.seed(1)"
   ]
  },
  {
   "cell_type": "code",
   "execution_count": 47,
   "metadata": {
    "collapsed": true
   },
   "outputs": [],
   "source": [
    "# additional parameters are achieved thru number of searches (n_tier) and random_state\n",
    "rdm = RandomizedSearchCV(pipeline, parameters_grid, cv=5, scoring='accuracy', n_iter=5, random_state=1)"
   ]
  },
  {
   "cell_type": "code",
   "execution_count": 48,
   "metadata": {
    "collapsed": false
   },
   "outputs": [
    {
     "name": "stdout",
     "output_type": "stream",
     "text": [
      "Wall time: 45 s\n"
     ]
    },
    {
     "data": {
      "text/plain": [
       "RandomizedSearchCV(cv=5, error_score='raise',\n",
       "          estimator=Pipeline(memory=None,\n",
       "     steps=[('countvectorizer', CountVectorizer(analyzer=u'word', binary=False, decode_error=u'strict',\n",
       "        dtype=<type 'numpy.int64'>, encoding=u'utf-8', input=u'content',\n",
       "        lowercase=True, max_df=1.0, max_features=None, min_df=1,\n",
       "        ngram_range=(1, 1)...  vocabulary=None)), ('multinomialnb', MultinomialNB(alpha=1.0, class_prior=None, fit_prior=True))]),\n",
       "          fit_params={}, iid=True, n_iter=5, n_jobs=1,\n",
       "          param_distributions={'countvectorizer__token_pattern': ['\\\\b\\\\w\\\\w+\\\\b', \"'([a-z ]+)'\"], 'multinomialnb__alpha': <scipy.stats._distn_infrastructure.rv_frozen object at 0x0000000014FE21D0>, 'countvectorizer__min_df': [1, 2, 3]},\n",
       "          pre_dispatch='2*n_jobs', random_state=1, refit=True,\n",
       "          scoring='accuracy', verbose=0)"
      ]
     },
     "execution_count": 48,
     "metadata": {},
     "output_type": "execute_result"
    }
   ],
   "source": [
    "# time the randomized search\n",
    "%time rdm.fit(X, y)"
   ]
  },
  {
   "cell_type": "code",
   "execution_count": 49,
   "metadata": {
    "collapsed": false
   },
   "outputs": [
    {
     "data": {
      "text/plain": [
       "[mean: 0.74986, std: 0.00494, params: {'countvectorizer__token_pattern': \"'([a-z ]+)'\", 'multinomialnb__alpha': 0.417022004702574, 'countvectorizer__min_df': 2},\n",
       " mean: 0.72462, std: 0.00446, params: {'countvectorizer__token_pattern': '\\\\b\\\\w\\\\w+\\\\b', 'multinomialnb__alpha': 0.7203244934421581, 'countvectorizer__min_df': 1},\n",
       " mean: 0.72829, std: 0.00537, params: {'countvectorizer__token_pattern': \"'([a-z ]+)'\", 'multinomialnb__alpha': 0.00011437481734488664, 'countvectorizer__min_df': 2},\n",
       " mean: 0.75137, std: 0.00438, params: {'countvectorizer__token_pattern': \"'([a-z ]+)'\", 'multinomialnb__alpha': 0.30233257263183977, 'countvectorizer__min_df': 2},\n",
       " mean: 0.72233, std: 0.00450, params: {'countvectorizer__token_pattern': '\\\\b\\\\w\\\\w+\\\\b', 'multinomialnb__alpha': 0.14675589081711304, 'countvectorizer__min_df': 1}]"
      ]
     },
     "execution_count": 49,
     "metadata": {},
     "output_type": "execute_result"
    }
   ],
   "source": [
    "rdm.grid_scores_"
   ]
  },
  {
   "cell_type": "code",
   "execution_count": 50,
   "metadata": {
    "collapsed": false
   },
   "outputs": [
    {
     "name": "stdout",
     "output_type": "stream",
     "text": [
      "0.751370241867\n",
      "{'countvectorizer__token_pattern': \"'([a-z ]+)'\", 'multinomialnb__alpha': 0.30233257263183977, 'countvectorizer__min_df': 2}\n"
     ]
    }
   ],
   "source": [
    "print(rdm.best_score_)\n",
    "print(rdm.best_params_)"
   ]
  },
  {
   "cell_type": "markdown",
   "metadata": {},
   "source": [
    "### Making predictions for test data"
   ]
  },
  {
   "cell_type": "code",
   "execution_count": 62,
   "metadata": {
    "collapsed": false
   },
   "outputs": [
    {
     "data": {
      "text/plain": [
       "0       [u'baking powder', u'eggs', u'all-purpose flou...\n",
       "1       [u'sugar', u'egg yolks', u'corn starch', u'cre...\n",
       "2       [u'sausage links', u'fennel bulb', u'fronds', ...\n",
       "3       [u'meat cuts', u'file powder', u'smoked sausag...\n",
       "4       [u'ground black pepper', u'salt', u'sausage ca...\n",
       "5       [u'baking powder', u'all-purpose flour', u'pea...\n",
       "6         [u'grape juice', u'orange', u'white zinfandel']\n",
       "7       [u'ground ginger', u'white pepper', u'green on...\n",
       "8       [u'diced onions', u'taco seasoning mix', u'all...\n",
       "9       [u'eggs', u'cherries', u'dates', u'dark muscov...\n",
       "10      [u'pasta', u'olive oil', u'crushed red pepper'...\n",
       "11      [u'water', u'butter', u'ground sumac', u'groun...\n",
       "12      [u'curry powder', u'ground cumin', u'chicken w...\n",
       "13      [u'pasta', u'marinara sauce', u'dried basil', ...\n",
       "14      [u'salt', u'custard powder', u'white sugar', u...\n",
       "15      [u'vegetable oil cooking spray', u'egg whites'...\n",
       "16      [u'vanilla ice cream', u'banana liqueur', u'ba...\n",
       "17      [u'molasses', u'hot sauce', u'baked beans', u'...\n",
       "18      [u'chopped green chilies', u'sour cream', u'ch...\n",
       "19      [u'cold water', u'chicken drumsticks', u'chick...\n",
       "20      [u'bean threads', u'suet', u'fresh shiitake mu...\n",
       "21      [u'water', u'ground turmeric', u'salt', u'long...\n",
       "22      [u'kosher salt', u'bay leaves', u'brown lentil...\n",
       "23      [u'kosher salt', u'vegetable oil', u'shrimp', ...\n",
       "24      [u'arborio rice', u'olive oil', u'dry white wi...\n",
       "25      [u'granny smith apples', u'bay leaves', u'appl...\n",
       "26      [u'fish sauce', u'jalapeno chilies', u'scallio...\n",
       "27      [u'chicken wings', u'baking soda', u'rice vine...\n",
       "28      [u'parmigiano reggiano cheese', u'figs', u'cra...\n",
       "29      [u'cheese sauce', u'macaroni and cheese dinner...\n",
       "                              ...                        \n",
       "9914    [u'fish sauce', u'lemongrass', u'ginger', u'ga...\n",
       "9915    [u'kosher salt', u'shallots', u'ground black p...\n",
       "9916    [u'celery ribs', u'lemon slices', u'fresh pars...\n",
       "9917    [u'zucchini', u'ground beef', u'water', u'gree...\n",
       "9918    [u'fine salt', u'canola oil', u'unsalted butte...\n",
       "9919    [u'sugar', u'ice', u'sugar cane', u'gingerroot...\n",
       "9920    [u'manicotti shells', u'egg substitute', u'sal...\n",
       "9921    [u'mushroom caps', u'dipping sauces', u'red be...\n",
       "9922    [u'red lentils', u'crushed garlic', u'curry po...\n",
       "9923    [u'water', u'cooking spray', u'onions', u'doug...\n",
       "9924    [u'chicken broth', u'salt', u'diced celery', u...\n",
       "9925    [u'raspberry jam', u'unsalted butter', u'caste...\n",
       "9926    [u'kosher salt', u'worcestershire sauce', u'sl...\n",
       "9927    [u'evaporated milk', u'salt', u'white sugar', ...\n",
       "9928    [u'curry powder', u'baby spinach', u'fenugreek...\n",
       "9929    [u'tomatoes', u'black pepper', u'ground nutmeg...\n",
       "9930    [u'minced chicken', u'olive oil', u'carrots', ...\n",
       "9931    [u'tomatoes', u'paprika', u'long-grain rice', ...\n",
       "9932    [u'canned black beans', u'corn kernels', u'low...\n",
       "9933    [u'avocado', u'salsa', u'hot pepper sauce', u'...\n",
       "9934    [u'yellow squash', u'salt', u'mayonaise', u'bu...\n",
       "9935    [u'chicken wings', u'peeled fresh ginger', u's...\n",
       "9936    [u'sugar', u'salt', u'large egg yolks', u'apri...\n",
       "9937    [u'eggs', u'green onions', u'rice vinegar', u'...\n",
       "9938    [u'cauliflower', u'garlic paste', u'curry powd...\n",
       "9939    [u'large egg yolks', u'fresh lemon juice', u's...\n",
       "9940    [u'hot sauce', u'butter', u'sweet potatoes', u...\n",
       "9941    [u'black pepper', u'salt', u'parmigiano reggia...\n",
       "9942    [u'cheddar cheese', u'cayenne', u'paprika', u'...\n",
       "9943    [u'cold water', u'olive oil', u'lime wedges', ...\n",
       "Name: ingredients_string, Length: 9944, dtype: object"
      ]
     },
     "execution_count": 62,
     "metadata": {},
     "output_type": "execute_result"
    }
   ],
   "source": [
    "# Assign X_new as the ingredients string\n",
    "X_new = new.ingredients_string\n",
    "X_new"
   ]
  },
  {
   "cell_type": "code",
   "execution_count": 52,
   "metadata": {
    "collapsed": false
   },
   "outputs": [
    {
     "data": {
      "text/plain": [
       "Pipeline(memory=None,\n",
       "     steps=[('countvectorizer', CountVectorizer(analyzer=u'word', binary=False, decode_error=u'strict',\n",
       "        dtype=<type 'numpy.int64'>, encoding=u'utf-8', input=u'content',\n",
       "        lowercase=True, max_df=1.0, max_features=None, min_df=2,\n",
       "        ngram_range=(1, 1), preprocessor=None, stop_words=None,\n",
       "        strip_accents=None, token_pattern=\"'([a-z ]+)'\", tokenizer=None,\n",
       "        vocabulary=None)), ('multinomialnb', MultinomialNB(alpha=0.30233257263183977, class_prior=None, fit_prior=True))])"
      ]
     },
     "execution_count": 52,
     "metadata": {},
     "output_type": "execute_result"
    }
   ],
   "source": [
    "# what is the best model identified by RandomizedSearchCV\n",
    "rdm.best_estimator_"
   ]
  },
  {
   "cell_type": "code",
   "execution_count": 53,
   "metadata": {
    "collapsed": false
   },
   "outputs": [
    {
     "data": {
      "text/plain": [
       "array([u'british', u'southern_us', u'italian', ..., u'italian',\n",
       "       u'southern_us', u'mexican'], dtype='<U12')"
      ]
     },
     "execution_count": 53,
     "metadata": {},
     "output_type": "execute_result"
    }
   ],
   "source": [
    "# RandomizedSearchCV/GridSearchCV now refits the best model and ready to make predictions for all the dataset\n",
    "new_pred_class_rdm = rdm.predict(X_new)\n",
    "new_pred_class_rdm"
   ]
  },
  {
   "cell_type": "code",
   "execution_count": 66,
   "metadata": {
    "collapsed": false
   },
   "outputs": [
    {
     "name": "stdout",
     "output_type": "stream",
     "text": [
      "Training set has 31819 samples.\n",
      "Testing set has 7955 samples.\n",
      "31819\n",
      "7955\n"
     ]
    },
    {
     "data": {
      "text/plain": [
       "(31819, 5)"
      ]
     },
     "execution_count": 66,
     "metadata": {},
     "output_type": "execute_result"
    }
   ],
   "source": [
    "# train_test_split\n",
    "\n",
    "train_features_new= train.drop('cuisine', axis = 1)\n",
    "train_cuisine_new = pd.DataFrame(train['cuisine'])\n",
    "\n",
    "# Split the 'features' and 'Yummly' data into training and testing sets\n",
    "X_train_new, X_test_new, y_train_new, y_test_new = train_test_split(train_features_new, \n",
    "                                                    train_cuisine_new , \n",
    "                                                    test_size = 0.2, \n",
    "                                                    random_state = 0)\n",
    "\n",
    "# Show the results of the split\n",
    "print (\"Training set has {} samples.\".format(X_train_new.shape[0]))\n",
    "print (\"Testing set has {} samples.\".format(X_test_new.shape[0]))\n",
    "print (y_train_new.shape[0])\n",
    "print (y_test_new.shape[0])\n",
    "X_train_new.shape\n"
   ]
  },
  {
   "cell_type": "code",
   "execution_count": 68,
   "metadata": {
    "collapsed": false
   },
   "outputs": [
    {
     "data": {
      "text/plain": [
       "8834     [u'green chile', u'pepper', u'boneless chicken...\n",
       "34143    [u'parsley sprigs', u'radishes', u'sea salt', ...\n",
       "15808    [u'honey', u'garlic cloves', u'strong white br...\n",
       "3281     [u'sweet potatoes', u'pumpkin pie spice', u'eg...\n",
       "10823    [u'sake', u'mirin', u'sesame oil', u'fresh gin...\n",
       "4831     [u'avocado', u'shredded cheddar cheese', u'rom...\n",
       "38661    [u'tomatoes', u'white wine vinegar', u'ground ...\n",
       "21660    [u'kosher salt', u'vegetables', u'chinese chiv...\n",
       "27198    [u'chicken broth', u'garlic powder', u'garlic'...\n",
       "27419    [u'mango juice', u'crushed ice', u'superfine s...\n",
       "27816    [u'green onions', u'pepper', u'salt', u'red po...\n",
       "27742    [u'grated parmesan cheese', u'olive oil', u'fr...\n",
       "11542    [u'fresh rosemary', u'parsley', u'white beans'...\n",
       "19289    [u'pancetta', u'freshly ground pepper', u'wate...\n",
       "39519    [u'kosher salt', u'cod fillets', u'garlic', u'...\n",
       "20416    [u'lettuce', u'coarse salt', u'cayenne pepper'...\n",
       "16776    [u'fresh ginger', u'garlic', u'oyster sauce', ...\n",
       "5920     [u'lobster', u'arborio rice', u'green peas', u...\n",
       "36737    [u'yukon gold potatoes', u'garlic cloves', u'p...\n",
       "13765    [u'water', u'celery', u'cabbage', u'smoked sau...\n",
       "30689    [u'ground chuck', u'ground pepper', u'grape to...\n",
       "14178    [u'unsweetened coconut milk', u'red chili pepp...\n",
       "36926    [u'fresh blueberries', u'all-purpose flour', u...\n",
       "20082    [u'whole milk', u'grated Gruy\\xe8re cheese', u...\n",
       "16697    [u'chicken stock', u'kosher salt', u'scallions...\n",
       "9247     [u'unsalted butter', u'sauce', u'dough', u'fre...\n",
       "17470    [u'raw honey', u'hot water', u'mint leaves', u...\n",
       "18801    [u'eggs', u'milk', u'garlic', u'onions', u'nut...\n",
       "7716     [u'large egg yolks', u'green onions', u'cilant...\n",
       "39024    [u'olive oil', u'shredded mozzarella cheese', ...\n",
       "                               ...                        \n",
       "25525    [u'baguette', u'balsamic vinegar', u'parmesan ...\n",
       "32588    [u'lime juice', u'frozen corn', u'boneless ski...\n",
       "32228    [u'green chile', u'finely chopped onion', u'lo...\n",
       "30304    [u'ground paprika', u'coriander powder', u'red...\n",
       "3311     [u'water', u'chili powder', u'salt', u'tomatoe...\n",
       "8681     [u'sugar', u'unsalted butter', u'vanilla extra...\n",
       "22991    [u'tortillas', u'garlic', u'chicken', u'light ...\n",
       "37079    [u'ground cinnamon', u'light cream', u'chop fi...\n",
       "33418    [u'bread crumb fresh', u'egg noodles', u'butto...\n",
       "24011    [u'ground cinnamon', u'granulated sugar', u'al...\n",
       "706      [u'toasted walnuts', u'honey', u'plain yogurt'...\n",
       "35834    [u'eggs', u'flour', u'vanilla', u'brown sugar'...\n",
       "24456    [u'coconut oil', u'salt', u'fresh cilantro', u...\n",
       "5808     [u'eggs', u'butter', u'whole milk', u'vanilla ...\n",
       "28818    [u'sliced almonds', u'vanilla extract', u'unfl...\n",
       "3660     [u'ground black pepper', u'tomatoes with juice...\n",
       "11462    [u'sugar', u'dashi', u'potatoes', u'boiling wa...\n",
       "19784    [u'chicken broth', u'pepper', u'butter', u'oni...\n",
       "33156    [u'sugar', u'chopped fresh herbs', u'extra-vir...\n",
       "21067    [u'garam masala', u'half & half', u'salt', u'g...\n",
       "29360    [u'brown sugar', u'chili paste', u'scallions',...\n",
       "21913    [u'powdered sugar', u'vanilla extract', u'crea...\n",
       "39271    [u'oil', u'whole wheat flour', u'mango', u'mil...\n",
       "31074    [u'green bell pepper', u'crushed red pepper', ...\n",
       "9841     [u'cooked turkey', u'mole sauce', u'chicken br...\n",
       "168      [u'olive oil', u'paprika', u'chopped onion', u...\n",
       "22670    [u'tomato paste', u'olive oil', u'fresh thyme ...\n",
       "16291    [u'sesame seeds', u'garlic', u'cucumber', u'su...\n",
       "34660    [u'chicken broth', u'pepper', u'sesame oil', u...\n",
       "16324    [u'marinara sauce', u'fresh parsley', u'large ...\n",
       "Name: ingredients_string, Length: 7955, dtype: object"
      ]
     },
     "execution_count": 68,
     "metadata": {},
     "output_type": "execute_result"
    }
   ],
   "source": [
    "X_test_new.ingredients_string"
   ]
  },
  {
   "cell_type": "code",
   "execution_count": 69,
   "metadata": {
    "collapsed": false
   },
   "outputs": [
    {
     "name": "stdout",
     "output_type": "stream",
     "text": [
      "Test Accuracy for Naive Bayes  ::  0.8060339409176619\n",
      "F-Score on Test for Naive Bayes ::  [0.73170732 0.56092843 0.66091954 0.85251919 0.77639752 0.61972864\n",
      " 0.81105169 0.89589126 0.71976967 0.85911343 0.85125448 0.8606921\n",
      " 0.87057011 0.94104837 0.77816492 0.66810345 0.69948187 0.69459173\n",
      " 0.80964153 0.72115385]\n",
      "[[5.89240974e-18 7.48208712e-30 7.30999588e-15 ... 6.35602347e-15\n",
      "  1.22933539e-24 4.76621442e-28]\n",
      " [1.77925363e-09 1.97908548e-14 1.73674256e-12 ... 7.95308199e-10\n",
      "  1.84379531e-10 8.95577483e-10]\n",
      " [7.42135793e-04 8.50274374e-03 3.72194131e-05 ... 8.29727436e-05\n",
      "  1.62195684e-05 8.60671909e-06]\n",
      " ...\n",
      " [7.39623432e-16 8.03029057e-19 1.32200987e-18 ... 6.10036370e-15\n",
      "  1.85268841e-06 2.71867404e-07]\n",
      " [9.07314846e-09 6.10852474e-11 2.45338675e-06 ... 1.98897380e-10\n",
      "  4.15301325e-04 4.39099569e-07]\n",
      " [4.98210665e-07 5.24377121e-08 2.90516130e-06 ... 1.19341226e-05\n",
      "  7.07634818e-09 5.04177753e-10]]\n",
      "Log Loss for Naive Bayes ::  0.8503381263441233\n"
     ]
    }
   ],
   "source": [
    "#Metrics\n",
    "\n",
    "#test['cuisine'] = new_pred_class_rdm\n",
    "pred_results_mnb = rdm.predict(X_test_new.ingredients_string)\n",
    "\n",
    "# Test Accuracy for Naive Bayes\n",
    "print (\"Test Accuracy for Naive Bayes  :: \", accuracy_score(y_test, pred_results_mnb))\n",
    "\n",
    "print (\"F-Score on Test for Naive Bayes :: \",fbeta_score(y_test, pred_results_mnb,average=None, beta = 0.5))\n",
    "\n",
    "clf_probs_mnb =   rdm.predict_proba(X_test_new.ingredients_string)\n",
    "print(clf_probs_mnb)\n",
    "\n",
    "score_mnb = log_loss(y_test, clf_probs_mnb)\n",
    "print(\"Log Loss for Naive Bayes :: \",score_mnb)"
   ]
  },
  {
   "cell_type": "code",
   "execution_count": 70,
   "metadata": {
    "collapsed": true
   },
   "outputs": [],
   "source": [
    "# create a submission file (score: 0.75341)\n",
    "pd.DataFrame({'id':new.id, 'cuisine':new_pred_class_rdm}).set_index('id').to_csv('../data/actual1_naive_bayes.csv')"
   ]
  },
  {
   "cell_type": "code",
   "execution_count": 71,
   "metadata": {
    "collapsed": false
   },
   "outputs": [
    {
     "data": {
      "text/plain": [
       "(39774, 6250)"
      ]
     },
     "execution_count": 71,
     "metadata": {},
     "output_type": "execute_result"
    }
   ],
   "source": [
    "# create a document term matrix using the entire training data\n",
    "X_dtm = vector.fit_transform(X)\n",
    "X_dtm.shape"
   ]
  },
  {
   "cell_type": "code",
   "execution_count": 72,
   "metadata": {
    "collapsed": false
   },
   "outputs": [
    {
     "data": {
      "text/plain": [
       "scipy.sparse.csr.csr_matrix"
      ]
     },
     "execution_count": 72,
     "metadata": {},
     "output_type": "execute_result"
    }
   ],
   "source": [
    "type(X_dtm)"
   ]
  },
  {
   "cell_type": "code",
   "execution_count": 73,
   "metadata": {
    "collapsed": false
   },
   "outputs": [
    {
     "data": {
      "text/plain": [
       "(39774, 2)"
      ]
     },
     "execution_count": 73,
     "metadata": {},
     "output_type": "execute_result"
    }
   ],
   "source": [
    "# DF of the custom created features\n",
    "X_custom = train.loc[:, ['no_ingredients', 'ingredient_len']]\n",
    "X_custom.shape"
   ]
  },
  {
   "cell_type": "code",
   "execution_count": 74,
   "metadata": {
    "collapsed": false
   },
   "outputs": [
    {
     "data": {
      "text/plain": [
       "scipy.sparse.csr.csr_matrix"
      ]
     },
     "execution_count": 74,
     "metadata": {},
     "output_type": "execute_result"
    }
   ],
   "source": [
    "# a sparse matrix from the above DF\n",
    "X_custom_sparse = sp.sparse.csr_matrix(X_custom)\n",
    "type(X_custom_sparse)"
   ]
  },
  {
   "cell_type": "code",
   "execution_count": 75,
   "metadata": {
    "collapsed": false
   },
   "outputs": [
    {
     "data": {
      "text/plain": [
       "(39774, 6252)"
      ]
     },
     "execution_count": 75,
     "metadata": {},
     "output_type": "execute_result"
    }
   ],
   "source": [
    "# combine the two sparse matrices\n",
    "X_dtm_custom = sp.sparse.hstack([X_dtm, X_custom_sparse])\n",
    "X_dtm_custom.shape"
   ]
  },
  {
   "cell_type": "markdown",
   "metadata": {},
   "source": [
    "### Converting a function into a transformer"
   ]
  },
  {
   "cell_type": "code",
   "execution_count": 76,
   "metadata": {
    "collapsed": true
   },
   "outputs": [],
   "source": [
    "# Create a function that takes a DataFrame & returns the custom created features\n",
    "def get_custom(df):\n",
    "    return df.loc[:, ['no_ingredients', 'ingredient_len']]"
   ]
  },
  {
   "cell_type": "code",
   "execution_count": 77,
   "metadata": {
    "collapsed": false
   },
   "outputs": [
    {
     "data": {
      "text/html": [
       "<div>\n",
       "<style scoped>\n",
       "    .dataframe tbody tr th:only-of-type {\n",
       "        vertical-align: middle;\n",
       "    }\n",
       "\n",
       "    .dataframe tbody tr th {\n",
       "        vertical-align: top;\n",
       "    }\n",
       "\n",
       "    .dataframe thead th {\n",
       "        text-align: right;\n",
       "    }\n",
       "</style>\n",
       "<table border=\"1\" class=\"dataframe\">\n",
       "  <thead>\n",
       "    <tr style=\"text-align: right;\">\n",
       "      <th></th>\n",
       "      <th>no_ingredients</th>\n",
       "      <th>ingredient_len</th>\n",
       "    </tr>\n",
       "  </thead>\n",
       "  <tbody>\n",
       "    <tr>\n",
       "      <th>0</th>\n",
       "      <td>9</td>\n",
       "      <td>12.000000</td>\n",
       "    </tr>\n",
       "    <tr>\n",
       "      <th>1</th>\n",
       "      <td>11</td>\n",
       "      <td>10.090909</td>\n",
       "    </tr>\n",
       "    <tr>\n",
       "      <th>2</th>\n",
       "      <td>12</td>\n",
       "      <td>10.333333</td>\n",
       "    </tr>\n",
       "    <tr>\n",
       "      <th>3</th>\n",
       "      <td>4</td>\n",
       "      <td>6.750000</td>\n",
       "    </tr>\n",
       "    <tr>\n",
       "      <th>4</th>\n",
       "      <td>20</td>\n",
       "      <td>10.100000</td>\n",
       "    </tr>\n",
       "  </tbody>\n",
       "</table>\n",
       "</div>"
      ],
      "text/plain": [
       "   no_ingredients  ingredient_len\n",
       "0               9       12.000000\n",
       "1              11       10.090909\n",
       "2              12       10.333333\n",
       "3               4        6.750000\n",
       "4              20       10.100000"
      ]
     },
     "execution_count": 77,
     "metadata": {},
     "output_type": "execute_result"
    }
   ],
   "source": [
    "get_custom(train).head()"
   ]
  },
  {
   "cell_type": "code",
   "execution_count": 78,
   "metadata": {
    "collapsed": true
   },
   "outputs": [],
   "source": [
    "from sklearn.preprocessing import FunctionTransformer"
   ]
  },
  {
   "cell_type": "code",
   "execution_count": 79,
   "metadata": {
    "collapsed": false
   },
   "outputs": [
    {
     "data": {
      "text/plain": [
       "sklearn.preprocessing._function_transformer.FunctionTransformer"
      ]
     },
     "execution_count": 79,
     "metadata": {},
     "output_type": "execute_result"
    }
   ],
   "source": [
    "# create a stateless transformer from the get_custom function\n",
    "get_custom_ft = FunctionTransformer(get_custom, validate=False)\n",
    "type(get_custom_ft)"
   ]
  },
  {
   "cell_type": "code",
   "execution_count": 80,
   "metadata": {
    "collapsed": false
   },
   "outputs": [
    {
     "data": {
      "text/html": [
       "<div>\n",
       "<style scoped>\n",
       "    .dataframe tbody tr th:only-of-type {\n",
       "        vertical-align: middle;\n",
       "    }\n",
       "\n",
       "    .dataframe tbody tr th {\n",
       "        vertical-align: top;\n",
       "    }\n",
       "\n",
       "    .dataframe thead th {\n",
       "        text-align: right;\n",
       "    }\n",
       "</style>\n",
       "<table border=\"1\" class=\"dataframe\">\n",
       "  <thead>\n",
       "    <tr style=\"text-align: right;\">\n",
       "      <th></th>\n",
       "      <th>no_ingredients</th>\n",
       "      <th>ingredient_len</th>\n",
       "    </tr>\n",
       "  </thead>\n",
       "  <tbody>\n",
       "    <tr>\n",
       "      <th>0</th>\n",
       "      <td>9</td>\n",
       "      <td>12.000000</td>\n",
       "    </tr>\n",
       "    <tr>\n",
       "      <th>1</th>\n",
       "      <td>11</td>\n",
       "      <td>10.090909</td>\n",
       "    </tr>\n",
       "    <tr>\n",
       "      <th>2</th>\n",
       "      <td>12</td>\n",
       "      <td>10.333333</td>\n",
       "    </tr>\n",
       "    <tr>\n",
       "      <th>3</th>\n",
       "      <td>4</td>\n",
       "      <td>6.750000</td>\n",
       "    </tr>\n",
       "    <tr>\n",
       "      <th>4</th>\n",
       "      <td>20</td>\n",
       "      <td>10.100000</td>\n",
       "    </tr>\n",
       "  </tbody>\n",
       "</table>\n",
       "</div>"
      ],
      "text/plain": [
       "   no_ingredients  ingredient_len\n",
       "0               9       12.000000\n",
       "1              11       10.090909\n",
       "2              12       10.333333\n",
       "3               4        6.750000\n",
       "4              20       10.100000"
      ]
     },
     "execution_count": 80,
     "metadata": {},
     "output_type": "execute_result"
    }
   ],
   "source": [
    "# execute the function using the transform method\n",
    "get_custom_ft.transform(train).head()"
   ]
  },
  {
   "cell_type": "code",
   "execution_count": 81,
   "metadata": {
    "collapsed": true
   },
   "outputs": [],
   "source": [
    "# create a function that takes DF and returns the ingredients string\n",
    "def get_txt(df):\n",
    "    return df.ingredients_string"
   ]
  },
  {
   "cell_type": "code",
   "execution_count": 82,
   "metadata": {
    "collapsed": false
   },
   "outputs": [
    {
     "data": {
      "text/plain": [
       "0    [u'romaine lettuce', u'black olives', u'grape ...\n",
       "1    [u'plain flour', u'ground pepper', u'salt', u'...\n",
       "2    [u'eggs', u'pepper', u'salt', u'mayonaise', u'...\n",
       "3      [u'water', u'vegetable oil', u'wheat', u'salt']\n",
       "4    [u'black pepper', u'shallots', u'cornflour', u...\n",
       "Name: ingredients_string, dtype: object"
      ]
     },
     "execution_count": 82,
     "metadata": {},
     "output_type": "execute_result"
    }
   ],
   "source": [
    "# create and test another transformer\n",
    "get_txt_ft = FunctionTransformer(get_txt, validate=False)\n",
    "get_txt_ft.transform(train).head()"
   ]
  },
  {
   "cell_type": "code",
   "execution_count": 83,
   "metadata": {
    "collapsed": true
   },
   "outputs": [],
   "source": [
    "from sklearn.pipeline import make_union"
   ]
  },
  {
   "cell_type": "code",
   "execution_count": 84,
   "metadata": {
    "collapsed": false
   },
   "outputs": [
    {
     "data": {
      "text/plain": [
       "(39774, 6250)"
      ]
     },
     "execution_count": 84,
     "metadata": {},
     "output_type": "execute_result"
    }
   ],
   "source": [
    "# create a document term matrix using the entire training data\n",
    "X_dtm = vector.fit_transform(X)\n",
    "X_dtm.shape"
   ]
  },
  {
   "cell_type": "code",
   "execution_count": 88,
   "metadata": {
    "collapsed": false
   },
   "outputs": [
    {
     "data": {
      "text/plain": [
       "(39774, 6250)"
      ]
     },
     "execution_count": 88,
     "metadata": {},
     "output_type": "execute_result"
    }
   ],
   "source": [
    "# Replicate it as a FeatureUnion by  using transformer\n",
    "f_union = make_union(vector)\n",
    "X_dtm = f_union.fit_transform(X)\n",
    "X_dtm.shape"
   ]
  },
  {
   "cell_type": "code",
   "execution_count": 89,
   "metadata": {
    "collapsed": false
   },
   "outputs": [
    {
     "data": {
      "text/plain": [
       "(39774, 6252)"
      ]
     },
     "execution_count": 89,
     "metadata": {},
     "output_type": "execute_result"
    }
   ],
   "source": [
    "# properly combine the transformers into a FeatureUnion\n",
    "f_union = make_union(make_pipeline(get_txt_ft, vector), get_custom_ft)\n",
    "X_dtm_custom = f_union.fit_transform(train)\n",
    "X_dtm_custom.shape"
   ]
  },
  {
   "cell_type": "markdown",
   "metadata": {},
   "source": [
    "### Cross Validation"
   ]
  },
  {
   "cell_type": "code",
   "execution_count": 90,
   "metadata": {
    "collapsed": false
   },
   "outputs": [
    {
     "data": {
      "text/plain": [
       "0.7102895106852953"
      ]
     },
     "execution_count": 90,
     "metadata": {},
     "output_type": "execute_result"
    }
   ],
   "source": [
    "# is this proper cross validation?\n",
    "cross_val_score(mnb, X_dtm_custom, y, cv=5, scoring='accuracy').mean()"
   ]
  },
  {
   "cell_type": "code",
   "execution_count": 91,
   "metadata": {
    "collapsed": true
   },
   "outputs": [],
   "source": [
    "# define a pipeline of the FeatureUnion and Naive Bayes\n",
    "pipeline = make_pipeline(f_union, mnb)"
   ]
  },
  {
   "cell_type": "code",
   "execution_count": 92,
   "metadata": {
    "collapsed": false
   },
   "outputs": [
    {
     "data": {
      "text/plain": [
       "0.7134318388611878"
      ]
     },
     "execution_count": 92,
     "metadata": {},
     "output_type": "execute_result"
    }
   ],
   "source": [
    "# do proper cross validate the entire pipeline and pass it the DF\n",
    "cross_val_score(pipeline, train, y, cv=5, scoring='accuracy').mean()"
   ]
  },
  {
   "cell_type": "markdown",
   "metadata": {},
   "source": [
    "### Alternative way to specify `Pipeline` and `FeatureUnion`"
   ]
  },
  {
   "cell_type": "code",
   "execution_count": 93,
   "metadata": {
    "collapsed": true
   },
   "outputs": [],
   "source": [
    "# quick rewind to the pipeline I did earlier\n",
    "f_union = make_union(make_pipeline(get_txt_ft, vector), get_custom_ft)\n",
    "pipeline = make_pipeline(f_union, mnb)"
   ]
  },
  {
   "cell_type": "code",
   "execution_count": 94,
   "metadata": {
    "collapsed": true
   },
   "outputs": [],
   "source": [
    "# repicate the pipeline without using the make_union or make_pipeline\n",
    "from sklearn.pipeline import Pipeline, FeatureUnion\n",
    "pipeline = Pipeline([\n",
    "    ('featureunion', FeatureUnion([\n",
    "            ('pipeline', Pipeline([\n",
    "                    ('functiontransformer', get_txt_ft),\n",
    "                    ('countvectorizer', vector)\n",
    "                    ])),\n",
    "            ('functiontransformer', get_custom_ft)\n",
    "        ])),\n",
    "    ('multinomialnb', mnb)\n",
    "])"
   ]
  },
  {
   "cell_type": "markdown",
   "metadata": {},
   "source": [
    "###  The Nested Pipeline's Grid search "
   ]
  },
  {
   "cell_type": "code",
   "execution_count": 95,
   "metadata": {
    "collapsed": false
   },
   "outputs": [
    {
     "data": {
      "text/plain": [
       "[('featureunion', FeatureUnion(n_jobs=1,\n",
       "         transformer_list=[('pipeline', Pipeline(memory=None,\n",
       "       steps=[('functiontransformer', FunctionTransformer(accept_sparse=False,\n",
       "            func=<function get_txt at 0x00000000374CBDD8>, inv_kw_args=None,\n",
       "            inverse_func=None, kw_args=None, pass_y='deprecated',\n",
       "            validate=False)), ('c... inv_kw_args=None, inverse_func=None, kw_args=None,\n",
       "            pass_y='deprecated', validate=False))],\n",
       "         transformer_weights=None)),\n",
       " ('multinomialnb', MultinomialNB(alpha=1.0, class_prior=None, fit_prior=True))]"
      ]
     },
     "execution_count": 95,
     "metadata": {},
     "output_type": "execute_result"
    }
   ],
   "source": [
    "# explore the pipeline steps\n",
    "pipeline.steps"
   ]
  },
  {
   "cell_type": "code",
   "execution_count": 96,
   "metadata": {
    "collapsed": false
   },
   "outputs": [
    {
     "data": {
      "text/plain": [
       "{'featureunion__pipeline__countvectorizer__token_pattern': ['\\\\b\\\\w\\\\w+\\\\b',\n",
       "  \"'([a-z ]+)'\"],\n",
       " 'multinomialnb__alpha': [0.5, 1]}"
      ]
     },
     "execution_count": 96,
     "metadata": {},
     "output_type": "execute_result"
    }
   ],
   "source": [
    "# define a grid of parameters to search & create the pipeline steps along with the parameters\n",
    "\n",
    "parameters_grid = {}\n",
    "parameters_grid['featureunion__pipeline__countvectorizer__token_pattern'] = [r\"\\b\\w\\w+\\b\", r\"'([a-z ]+)'\"]\n",
    "parameters_grid['multinomialnb__alpha'] = [0.5, 1]\n",
    "parameters_grid"
   ]
  },
  {
   "cell_type": "code",
   "execution_count": 97,
   "metadata": {
    "collapsed": true
   },
   "outputs": [],
   "source": [
    "gridCV = GridSearchCV(pipeline, parameters_grid, cv=5, scoring='accuracy')"
   ]
  },
  {
   "cell_type": "code",
   "execution_count": 98,
   "metadata": {
    "collapsed": false
   },
   "outputs": [
    {
     "name": "stdout",
     "output_type": "stream",
     "text": [
      "Wall time: 27.4 s\n"
     ]
    },
    {
     "data": {
      "text/plain": [
       "GridSearchCV(cv=5, error_score='raise',\n",
       "       estimator=Pipeline(memory=None,\n",
       "     steps=[('featureunion', FeatureUnion(n_jobs=1,\n",
       "       transformer_list=[('pipeline', Pipeline(memory=None,\n",
       "     steps=[('functiontransformer', FunctionTransformer(accept_sparse=False,\n",
       "          func=<function get_txt at 0x00000000374CBDD8>, inv_kw_args=None,\n",
       "          inverse_func=None, kw_args=None...ormer_weights=None)), ('multinomialnb', MultinomialNB(alpha=1.0, class_prior=None, fit_prior=True))]),\n",
       "       fit_params={}, iid=True, n_jobs=1,\n",
       "       param_grid={'featureunion__pipeline__countvectorizer__token_pattern': ['\\\\b\\\\w\\\\w+\\\\b', \"'([a-z ]+)'\"], 'multinomialnb__alpha': [0.5, 1]},\n",
       "       pre_dispatch='2*n_jobs', refit=True, scoring='accuracy', verbose=0)"
      ]
     },
     "execution_count": 98,
     "metadata": {},
     "output_type": "execute_result"
    }
   ],
   "source": [
    "%time gridCV.fit(train, y)"
   ]
  },
  {
   "cell_type": "code",
   "execution_count": 99,
   "metadata": {
    "collapsed": false
   },
   "outputs": [
    {
     "name": "stdout",
     "output_type": "stream",
     "text": [
      "0.742671091668\n",
      "{'featureunion__pipeline__countvectorizer__token_pattern': \"'([a-z ]+)'\", 'multinomialnb__alpha': 0.5}\n"
     ]
    }
   ],
   "source": [
    "print(gridCV.best_score_)\n",
    "print(gridCV.best_params_)"
   ]
  },
  {
   "cell_type": "markdown",
   "metadata": {},
   "source": [
    "### Model 1: KNN model using only custom features"
   ]
  },
  {
   "cell_type": "code",
   "execution_count": 100,
   "metadata": {
    "collapsed": true
   },
   "outputs": [],
   "source": [
    "# define X and y\n",
    "feature_columns = ['no_ingredients', 'ingredient_len']\n",
    "X = train[feature_columns]\n",
    "y = train.cuisine"
   ]
  },
  {
   "cell_type": "code",
   "execution_count": 101,
   "metadata": {
    "collapsed": true
   },
   "outputs": [],
   "source": [
    "# use KNN with K=800\n",
    "from sklearn.neighbors import KNeighborsClassifier\n",
    "knn = KNeighborsClassifier(n_neighbors=800)"
   ]
  },
  {
   "cell_type": "code",
   "execution_count": 102,
   "metadata": {
    "collapsed": false
   },
   "outputs": [
    {
     "data": {
      "text/plain": [
       "KNeighborsClassifier(algorithm='auto', leaf_size=30, metric='minkowski',\n",
       "           metric_params=None, n_jobs=1, n_neighbors=800, p=2,\n",
       "           weights='uniform')"
      ]
     },
     "execution_count": 102,
     "metadata": {},
     "output_type": "execute_result"
    }
   ],
   "source": [
    "# train KNN on all of the training data\n",
    "knn.fit(X, y)"
   ]
  },
  {
   "cell_type": "code",
   "execution_count": 103,
   "metadata": {
    "collapsed": true
   },
   "outputs": [],
   "source": [
    "# create X_new as the custom created features\n",
    "X_new = new[feature_columns]"
   ]
  },
  {
   "cell_type": "code",
   "execution_count": 104,
   "metadata": {
    "collapsed": false
   },
   "outputs": [
    {
     "data": {
      "text/plain": [
       "(9944L, 20L)"
      ]
     },
     "execution_count": 104,
     "metadata": {},
     "output_type": "execute_result"
    }
   ],
   "source": [
    "# find predicted probabilities for the new data\n",
    "new_pred_proba_knn = knn.predict_proba(X_new)\n",
    "new_pred_proba_knn.shape"
   ]
  },
  {
   "cell_type": "code",
   "execution_count": 105,
   "metadata": {
    "collapsed": false
   },
   "outputs": [
    {
     "data": {
      "text/plain": [
       "array([0.02625, 0.0275 , 0.01375, 0.04375, 0.03375, 0.08   , 0.0175 ,\n",
       "       0.075  , 0.0275 , 0.135  , 0.01   , 0.075  , 0.01875, 0.165  ,\n",
       "       0.00875, 0.0125 , 0.1525 , 0.025  , 0.0275 , 0.025  ])"
      ]
     },
     "execution_count": 105,
     "metadata": {},
     "output_type": "execute_result"
    }
   ],
   "source": [
    "# display the sample of predicted probabilities\n",
    "new_pred_proba_knn[0, :]"
   ]
  },
  {
   "cell_type": "code",
   "execution_count": 106,
   "metadata": {
    "collapsed": false
   },
   "outputs": [
    {
     "data": {
      "text/plain": [
       "[(u'brazilian', 0.02625),\n",
       " (u'british', 0.0275),\n",
       " (u'cajun_creole', 0.01375),\n",
       " (u'chinese', 0.04375),\n",
       " (u'filipino', 0.03375),\n",
       " (u'french', 0.08),\n",
       " (u'greek', 0.0175),\n",
       " (u'indian', 0.075),\n",
       " (u'irish', 0.0275),\n",
       " (u'italian', 0.135),\n",
       " (u'jamaican', 0.01),\n",
       " (u'japanese', 0.075),\n",
       " (u'korean', 0.01875),\n",
       " (u'mexican', 0.165),\n",
       " (u'moroccan', 0.00875),\n",
       " (u'russian', 0.0125),\n",
       " (u'southern_us', 0.1525),\n",
       " (u'spanish', 0.025),\n",
       " (u'thai', 0.0275),\n",
       " (u'vietnamese', 0.025)]"
      ]
     },
     "execution_count": 106,
     "metadata": {},
     "output_type": "execute_result"
    }
   ],
   "source": [
    "# model classes\n",
    "zip(knn.classes_, new_pred_proba_knn[0, :])"
   ]
  },
  {
   "cell_type": "markdown",
   "metadata": {},
   "source": [
    "### Model 2: Naive Bayes model using default features"
   ]
  },
  {
   "cell_type": "code",
   "execution_count": 107,
   "metadata": {
    "collapsed": false
   },
   "outputs": [
    {
     "data": {
      "text/plain": [
       "Pipeline(memory=None,\n",
       "     steps=[('countvectorizer', CountVectorizer(analyzer=u'word', binary=False, decode_error=u'strict',\n",
       "        dtype=<type 'numpy.int64'>, encoding=u'utf-8', input=u'content',\n",
       "        lowercase=True, max_df=1.0, max_features=None, min_df=2,\n",
       "        ngram_range=(1, 1), preprocessor=None, stop_words=None,\n",
       "        strip_accents=None, token_pattern=\"'([a-z ]+)'\", tokenizer=None,\n",
       "        vocabulary=None)), ('multinomialnb', MultinomialNB(alpha=0.30233257263183977, class_prior=None, fit_prior=True))])"
      ]
     },
     "execution_count": 107,
     "metadata": {},
     "output_type": "execute_result"
    }
   ],
   "source": [
    "# the best model earlier found by RandomizedSearchCV\n",
    "rdm.best_estimator_"
   ]
  },
  {
   "cell_type": "code",
   "execution_count": 108,
   "metadata": {
    "collapsed": true
   },
   "outputs": [],
   "source": [
    "# X_new as the ingredients string\n",
    "X_new = new.ingredients_string"
   ]
  },
  {
   "cell_type": "code",
   "execution_count": 109,
   "metadata": {
    "collapsed": false
   },
   "outputs": [
    {
     "data": {
      "text/plain": [
       "(9944L, 20L)"
      ]
     },
     "execution_count": 109,
     "metadata": {},
     "output_type": "execute_result"
    }
   ],
   "source": [
    "# calculate predicted probabilities of class membership for the new data\n",
    "new_pred_proba_rdm = rdm.predict_proba(X_new)\n",
    "new_pred_proba_rdm.shape"
   ]
  },
  {
   "cell_type": "code",
   "execution_count": 110,
   "metadata": {
    "collapsed": false
   },
   "outputs": [
    {
     "data": {
      "text/plain": [
       "array([6.35624509e-04, 5.10677208e-01, 5.01039760e-05, 7.46758455e-05,\n",
       "       3.64528916e-03, 1.36909784e-03, 4.25463842e-04, 3.16817133e-04,\n",
       "       1.85847350e-01, 3.78331630e-03, 2.67495007e-04, 5.60369424e-04,\n",
       "       4.27190054e-06, 8.85175984e-04, 8.50499605e-06, 3.04368393e-02,\n",
       "       2.60701445e-01, 3.09630257e-04, 1.07646647e-06, 2.45297976e-07])"
      ]
     },
     "execution_count": 110,
     "metadata": {},
     "output_type": "execute_result"
    }
   ],
   "source": [
    "# sampel of predicted probabilities\n",
    "new_pred_proba_rdm[0, :]"
   ]
  },
  {
   "cell_type": "markdown",
   "metadata": {},
   "source": [
    "### Ensembling models 1 and 2"
   ]
  },
  {
   "cell_type": "code",
   "execution_count": 111,
   "metadata": {
    "collapsed": false
   },
   "outputs": [
    {
     "data": {
      "text/html": [
       "<div>\n",
       "<style scoped>\n",
       "    .dataframe tbody tr th:only-of-type {\n",
       "        vertical-align: middle;\n",
       "    }\n",
       "\n",
       "    .dataframe tbody tr th {\n",
       "        vertical-align: top;\n",
       "    }\n",
       "\n",
       "    .dataframe thead th {\n",
       "        text-align: right;\n",
       "    }\n",
       "</style>\n",
       "<table border=\"1\" class=\"dataframe\">\n",
       "  <thead>\n",
       "    <tr style=\"text-align: right;\">\n",
       "      <th></th>\n",
       "      <th>brazilian</th>\n",
       "      <th>british</th>\n",
       "      <th>cajun_creole</th>\n",
       "      <th>chinese</th>\n",
       "      <th>filipino</th>\n",
       "      <th>french</th>\n",
       "      <th>greek</th>\n",
       "      <th>indian</th>\n",
       "      <th>irish</th>\n",
       "      <th>italian</th>\n",
       "      <th>jamaican</th>\n",
       "      <th>japanese</th>\n",
       "      <th>korean</th>\n",
       "      <th>mexican</th>\n",
       "      <th>moroccan</th>\n",
       "      <th>russian</th>\n",
       "      <th>southern_us</th>\n",
       "      <th>spanish</th>\n",
       "      <th>thai</th>\n",
       "      <th>vietnamese</th>\n",
       "    </tr>\n",
       "  </thead>\n",
       "  <tbody>\n",
       "    <tr>\n",
       "      <th>0</th>\n",
       "      <td>0.013443</td>\n",
       "      <td>0.269089</td>\n",
       "      <td>0.006900</td>\n",
       "      <td>0.021912</td>\n",
       "      <td>0.018698</td>\n",
       "      <td>0.040685</td>\n",
       "      <td>0.008963</td>\n",
       "      <td>0.037658</td>\n",
       "      <td>0.106674</td>\n",
       "      <td>0.069392</td>\n",
       "      <td>0.005134</td>\n",
       "      <td>0.037780</td>\n",
       "      <td>0.009377</td>\n",
       "      <td>0.082943</td>\n",
       "      <td>0.004379</td>\n",
       "      <td>0.021468</td>\n",
       "      <td>0.206601</td>\n",
       "      <td>0.012655</td>\n",
       "      <td>0.013751</td>\n",
       "      <td>0.012500</td>\n",
       "    </tr>\n",
       "    <tr>\n",
       "      <th>1</th>\n",
       "      <td>0.008752</td>\n",
       "      <td>0.011324</td>\n",
       "      <td>0.016875</td>\n",
       "      <td>0.045000</td>\n",
       "      <td>0.018132</td>\n",
       "      <td>0.023884</td>\n",
       "      <td>0.015625</td>\n",
       "      <td>0.046250</td>\n",
       "      <td>0.010629</td>\n",
       "      <td>0.070625</td>\n",
       "      <td>0.005626</td>\n",
       "      <td>0.027501</td>\n",
       "      <td>0.021875</td>\n",
       "      <td>0.066875</td>\n",
       "      <td>0.008125</td>\n",
       "      <td>0.008750</td>\n",
       "      <td>0.547901</td>\n",
       "      <td>0.007500</td>\n",
       "      <td>0.025625</td>\n",
       "      <td>0.013125</td>\n",
       "    </tr>\n",
       "    <tr>\n",
       "      <th>2</th>\n",
       "      <td>0.013158</td>\n",
       "      <td>0.009389</td>\n",
       "      <td>0.006951</td>\n",
       "      <td>0.020000</td>\n",
       "      <td>0.015010</td>\n",
       "      <td>0.041365</td>\n",
       "      <td>0.010101</td>\n",
       "      <td>0.029376</td>\n",
       "      <td>0.013372</td>\n",
       "      <td>0.408696</td>\n",
       "      <td>0.005628</td>\n",
       "      <td>0.038752</td>\n",
       "      <td>0.007500</td>\n",
       "      <td>0.080630</td>\n",
       "      <td>0.025887</td>\n",
       "      <td>0.008240</td>\n",
       "      <td>0.079377</td>\n",
       "      <td>0.158440</td>\n",
       "      <td>0.015625</td>\n",
       "      <td>0.012502</td>\n",
       "    </tr>\n",
       "    <tr>\n",
       "      <th>3</th>\n",
       "      <td>0.003125</td>\n",
       "      <td>0.004375</td>\n",
       "      <td>0.533750</td>\n",
       "      <td>0.038750</td>\n",
       "      <td>0.001875</td>\n",
       "      <td>0.023125</td>\n",
       "      <td>0.006250</td>\n",
       "      <td>0.075625</td>\n",
       "      <td>0.001250</td>\n",
       "      <td>0.051875</td>\n",
       "      <td>0.011875</td>\n",
       "      <td>0.008125</td>\n",
       "      <td>0.003125</td>\n",
       "      <td>0.107500</td>\n",
       "      <td>0.029375</td>\n",
       "      <td>0.001875</td>\n",
       "      <td>0.025000</td>\n",
       "      <td>0.007500</td>\n",
       "      <td>0.038125</td>\n",
       "      <td>0.027500</td>\n",
       "    </tr>\n",
       "    <tr>\n",
       "      <th>4</th>\n",
       "      <td>0.001878</td>\n",
       "      <td>0.009856</td>\n",
       "      <td>0.020097</td>\n",
       "      <td>0.021250</td>\n",
       "      <td>0.003125</td>\n",
       "      <td>0.044922</td>\n",
       "      <td>0.017501</td>\n",
       "      <td>0.013750</td>\n",
       "      <td>0.012547</td>\n",
       "      <td>0.640841</td>\n",
       "      <td>0.003752</td>\n",
       "      <td>0.007500</td>\n",
       "      <td>0.003750</td>\n",
       "      <td>0.083129</td>\n",
       "      <td>0.004376</td>\n",
       "      <td>0.003135</td>\n",
       "      <td>0.072838</td>\n",
       "      <td>0.018252</td>\n",
       "      <td>0.014375</td>\n",
       "      <td>0.003125</td>\n",
       "    </tr>\n",
       "  </tbody>\n",
       "</table>\n",
       "</div>"
      ],
      "text/plain": [
       "   brazilian   british  cajun_creole   chinese  filipino    french     greek  \\\n",
       "0   0.013443  0.269089      0.006900  0.021912  0.018698  0.040685  0.008963   \n",
       "1   0.008752  0.011324      0.016875  0.045000  0.018132  0.023884  0.015625   \n",
       "2   0.013158  0.009389      0.006951  0.020000  0.015010  0.041365  0.010101   \n",
       "3   0.003125  0.004375      0.533750  0.038750  0.001875  0.023125  0.006250   \n",
       "4   0.001878  0.009856      0.020097  0.021250  0.003125  0.044922  0.017501   \n",
       "\n",
       "     indian     irish   italian  jamaican  japanese    korean   mexican  \\\n",
       "0  0.037658  0.106674  0.069392  0.005134  0.037780  0.009377  0.082943   \n",
       "1  0.046250  0.010629  0.070625  0.005626  0.027501  0.021875  0.066875   \n",
       "2  0.029376  0.013372  0.408696  0.005628  0.038752  0.007500  0.080630   \n",
       "3  0.075625  0.001250  0.051875  0.011875  0.008125  0.003125  0.107500   \n",
       "4  0.013750  0.012547  0.640841  0.003752  0.007500  0.003750  0.083129   \n",
       "\n",
       "   moroccan   russian  southern_us   spanish      thai  vietnamese  \n",
       "0  0.004379  0.021468     0.206601  0.012655  0.013751    0.012500  \n",
       "1  0.008125  0.008750     0.547901  0.007500  0.025625    0.013125  \n",
       "2  0.025887  0.008240     0.079377  0.158440  0.015625    0.012502  \n",
       "3  0.029375  0.001875     0.025000  0.007500  0.038125    0.027500  \n",
       "4  0.004376  0.003135     0.072838  0.018252  0.014375    0.003125  "
      ]
     },
     "execution_count": 111,
     "metadata": {},
     "output_type": "execute_result"
    }
   ],
   "source": [
    "# calculate the mean of the predicted probabilities for all rows\n",
    "new_pred_proba = pd.DataFrame((new_pred_proba_knn + new_pred_proba_rdm) / 2, columns=knn.classes_)\n",
    "new_pred_proba.head()"
   ]
  },
  {
   "cell_type": "code",
   "execution_count": 112,
   "metadata": {
    "collapsed": false
   },
   "outputs": [
    {
     "name": "stderr",
     "output_type": "stream",
     "text": [
      "C:\\_workspace\\Anaconda\\lib\\site-packages\\numpy\\core\\fromnumeric.py:52: FutureWarning: 'argmax' is deprecated. Use 'idxmax' instead. The behavior of 'argmax' will be corrected to return the positional maximum in the future. Use 'series.values.argmax' to get the position of the maximum now.\n",
      "  return getattr(obj, method)(*args, **kwds)\n"
     ]
    },
    {
     "data": {
      "text/plain": [
       "0         british\n",
       "1     southern_us\n",
       "2         italian\n",
       "3    cajun_creole\n",
       "4         italian\n",
       "dtype: object"
      ]
     },
     "execution_count": 112,
     "metadata": {},
     "output_type": "execute_result"
    }
   ],
   "source": [
    "# find the field with the highest predicted probability\n",
    "new_pred_proba_class = new_pred_proba.apply(np.argmax, axis=1)\n",
    "new_pred_proba_class.head()"
   ]
  },
  {
   "cell_type": "code",
   "execution_count": 113,
   "metadata": {
    "collapsed": true
   },
   "outputs": [],
   "source": [
    "# create a submission file\n",
    "pd.DataFrame({'id':new.id, 'cuisine':new_pred_proba_class}).set_index('id').to_csv('../data/actual2_ensembled_models.csv')"
   ]
  }
 ],
 "metadata": {
  "kernelspec": {
   "display_name": "Python 2",
   "language": "python",
   "name": "python2"
  },
  "language_info": {
   "codemirror_mode": {
    "name": "ipython",
    "version": 2
   },
   "file_extension": ".py",
   "mimetype": "text/x-python",
   "name": "python",
   "nbconvert_exporter": "python",
   "pygments_lexer": "ipython2",
   "version": "2.7.13"
  }
 },
 "nbformat": 4,
 "nbformat_minor": 1
}
